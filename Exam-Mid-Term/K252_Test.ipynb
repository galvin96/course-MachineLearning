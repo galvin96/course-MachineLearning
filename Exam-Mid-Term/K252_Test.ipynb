{
 "cells": [
  {
   "cell_type": "markdown",
   "metadata": {},
   "source": [
    "## Câu 1:\n",
    "Cho dữ liệu lưu trong tập tin \"weather.csv\"\n",
    "1. Hãy đọc dữ liệu và lưu vào trong DataFrame 'weather'\n",
    "2. In một số thông tin tổng quát về dữ liệu\n",
    "3. Cho biết số lượng dòng, cột của DataFrame\n",
    "4. Hãy cho biết dữ liệu có chứa các giá trị 'NULL' không?\n",
    "5. Xóa các cột 'WT10', 'WT11', 'WT15', 'WT19'\n",
    "6. In 3 dòng đầu tiền và 3 dòng cuối cùng của DataFrame\n",
    "7. Dùng Pandas vẽ biểu đồ dạng Box của 3 cột 'TMIN', 'TAVG', 'TMAX' và tiêu đề là 'Biểu đồ thời tiết'\n",
    "8. Thêm 1 cột dữ liệu 'TDIFF' là sự chênh lệch dữ liệu 'TMAX' - 'TMIN'\n",
    "9. Dùng Pandas vẽ biểu đồ histogram của dữ liệu 'TDIFF'\n",
    "10. Tạo một DataFrame 'bad_weather' mới từ các cột 'WT01' đến 'WT22'\n",
    "11. Tạo một cột mới 'bad_weather' trên DataFrame 'weather' bằng cách tính tổng theo cột trên DataFrame 'bad_weather'\n",
    "12. Điền các giá trị còn thiếu trên cột 'bad_weather' là 0 và chuyển kiểu dữ liệu của cột là int\n",
    "13. Lưu dữ liệu trong dataframe 'weather' thành tập tin 'weather.xlsx' với sheetname là 'weather'."
   ]
  },
  {
   "cell_type": "markdown",
   "metadata": {},
   "source": [
    "## Câu 2:\n",
    "Cho dữ liệu lưu trong tập tin \"movies.csv\"\n",
    "1. Hãy đọc dữ liệu và lưu vào trong DataFrame 'movies'\n",
    "2. In một số thông tin tổng quát về dữ liệu. In 4 dòng đầu tiên của DataFrame\n",
    "3. Cho biết số lượng dòng, cột của DataFrame \n",
    "4. Hãy cho biết dữ liệu có chứa các giá trị 'NULL' không? \n",
    "5. Đổi tên của các cột dữ liệu thành: 'Film','Genre','CriticRating', 'AudienceRating', 'BudgetMillions', 'Year'"
   ]
  },
  {
   "cell_type": "code",
   "execution_count": null,
   "metadata": {},
   "outputs": [],
   "source": []
  }
 ],
 "metadata": {
  "kernelspec": {
   "display_name": "Python 3",
   "language": "python",
   "name": "python3"
  },
  "language_info": {
   "codemirror_mode": {
    "name": "ipython",
    "version": 3
   },
   "file_extension": ".py",
   "mimetype": "text/x-python",
   "name": "python",
   "nbconvert_exporter": "python",
   "pygments_lexer": "ipython3",
   "version": "3.6.8"
  }
 },
 "nbformat": 4,
 "nbformat_minor": 2
}
