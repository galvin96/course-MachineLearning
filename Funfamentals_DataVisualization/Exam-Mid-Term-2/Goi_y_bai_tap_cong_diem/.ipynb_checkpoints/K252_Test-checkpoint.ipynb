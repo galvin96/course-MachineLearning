{
 "cells": [
  {
   "cell_type": "markdown",
   "metadata": {},
   "source": [
    "# Bài kiểm tra cuối khóa \"Python for Machine Learning, Data Science and Data Visualization\"\n",
    "## Thời gian làm bài: 120 phút\n",
    "## Họ và Tên: \n",
    "\n",
    "## Câu 1: (6 điểm)\n",
    "Cho dữ liệu lưu trong tập tin \"weather.csv\"\n",
    "1. Hãy đọc dữ liệu và lưu vào trong DataFrame 'weather' (0.25 điểm)\n",
    "2. In một số thông tin tổng quát về dữ liệu (0.25 điểm)\n",
    "3. Cho biết số lượng dòng, cột của DataFrame (0.25 điểm)\n",
    "4. Hãy cho biết dữ liệu có chứa các giá trị 'NULL' không? (0.25 điểm)\n",
    "5. Xóa các cột 'WT10', 'WT11', 'WT15', 'WT19' (0.5 điểm)\n",
    "6. In 3 dòng đầu tiền và 3 dòng cuối cùng của DataFrame (0.5 điểm)\n",
    "7. Dùng Pandas vẽ biểu đồ dạng Box của 3 cột 'TMIN', 'TAVG', 'TMAX' và tiêu đề là 'Biểu đồ thời tiết' (0.5 điểm)\n",
    "8. Thêm 1 cột dữ liệu 'TDIFF' là sự chênh lệch dữ liệu 'TMAX' - 'TMIN' (0.5 điểm)\n",
    "9. Dùng Pandas vẽ biểu đồ histogram của dữ liệu 'TDIFF' với 30 bins và giới hạn trục x là 0 và lưu biểu đồ vào tập tin \"tdiff.png\" (0.5 điểm)\n",
    "10. Tạo một DataFrame 'bad_weather' mới từ các cột 'WT01' đến 'WT22' (0.5 điểm)\n",
    "11. Tạo một cột mới 'bad_weather' trên DataFrame 'weather' bằng cách tính tổng theo cột trên DataFrame 'bad_weather' (0.5 điểm)\n",
    "12. Điền các giá trị còn thiếu trên cột 'bad_weather' là 0 và chuyển kiểu dữ liệu của cột là int (0.5 điểm)\n",
    "13. Dùng matplotlib vẽ và lưu (trong tập tin \"bad_weather.png\") biểu đồ histogram của cột dữ liệu 'bad_weather'. Thiết lập số bins là 10, tiêu đề là 'Thời tiết', màu là 'green' (0.5 điểm)\n",
    "14. Lưu dữ liệu trong dataframe 'weather' thành tập tin 'weather.xlsx' với sheetname là 'weather'. (0.5 điểm)"
   ]
  },
  {
   "cell_type": "markdown",
   "metadata": {},
   "source": [
    "## Câu 2: (4 điểm)\n",
    "Cho dữ liệu lưu trong tập tin \"movies.csv\"\n",
    "1. Hãy đọc dữ liệu và lưu vào trong DataFrame 'movies' (0.25 điểm)\n",
    "2. In một số thông tin tổng quát về dữ liệu. In 4 dòng đầu tiên của DataFrame (0.25 điểm)\n",
    "3. Cho biết số lượng dòng, cột của DataFrame (0.25 điểm)\n",
    "4. Hãy cho biết dữ liệu có chứa các giá trị 'NULL' không? (0.25 điểm)\n",
    "5. Đổi tên của các cột dữ liệu thành: 'Film','Genre','CriticRating', 'AudienceRating', 'BudgetMillions', 'Year' (0.5 điểm)\n",
    "6. Thiết lập các thông số cho các biểu đồ: pallete = 'Set2', style = 'whitegrid' (0.5 điểm)\n",
    "6. Vẽ biểu đồ joinplot cho 2 cột dữ liệu x = 'CriticRating', y='AudienceRating' (0.5 điểm)\n",
    "7. Vẽ biểu đồ displot cho cột dữ liệu 'AudienceRating' với số bins là 15 và tiêu đề là 'Audience Rating' (0.5 điểm)\n",
    "8. Vẽ biểu đồ lmplot cho 2 cột dữ liệu x ='CriticRating', y= 'AudienceRating' với hue = 'Genre' (0.5 điểm)\n",
    "9. Tạo 1 subplot 1 dòng 2 cột, với kích thước (15,6) chia sẽ trục x và y.\n",
    "   Vẽ 2 biểu đồ boxplot và violinplot cho 2 cột dữ liệu x ='Genre', y = 'CriticRating' sử dụng pallete màu là 'PRGn' (0.5 điểm)"
   ]
  },
  {
   "cell_type": "code",
   "execution_count": null,
   "metadata": {},
   "outputs": [],
   "source": []
  }
 ],
 "metadata": {
  "kernelspec": {
   "display_name": "Python 3",
   "language": "python",
   "name": "python3"
  },
  "language_info": {
   "codemirror_mode": {
    "name": "ipython",
    "version": 3
   },
   "file_extension": ".py",
   "mimetype": "text/x-python",
   "name": "python",
   "nbconvert_exporter": "python",
   "pygments_lexer": "ipython3",
   "version": "3.7.3"
  }
 },
 "nbformat": 4,
 "nbformat_minor": 2
}
