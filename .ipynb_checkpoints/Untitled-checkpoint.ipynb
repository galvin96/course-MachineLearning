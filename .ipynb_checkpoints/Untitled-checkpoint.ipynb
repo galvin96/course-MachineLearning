{
 "cells": [
  {
   "cell_type": "code",
   "execution_count": 2,
   "metadata": {},
   "outputs": [],
   "source": [
    "import pandas as pd\n",
    "import urllib.parse"
   ]
  },
  {
   "cell_type": "code",
   "execution_count": 3,
   "metadata": {},
   "outputs": [
    {
     "data": {
      "text/html": [
       "<div>\n",
       "<style scoped>\n",
       "    .dataframe tbody tr th:only-of-type {\n",
       "        vertical-align: middle;\n",
       "    }\n",
       "\n",
       "    .dataframe tbody tr th {\n",
       "        vertical-align: top;\n",
       "    }\n",
       "\n",
       "    .dataframe thead th {\n",
       "        text-align: right;\n",
       "    }\n",
       "</style>\n",
       "<table border=\"1\" class=\"dataframe\">\n",
       "  <thead>\n",
       "    <tr style=\"text-align: right;\">\n",
       "      <th></th>\n",
       "      <th>name</th>\n",
       "      <th>email</th>\n",
       "    </tr>\n",
       "  </thead>\n",
       "  <tbody>\n",
       "    <tr>\n",
       "      <th>0</th>\n",
       "      <td>PGS.TS Lê Viết Hưng</td>\n",
       "      <td>leviethung2403@gmail.com</td>\n",
       "    </tr>\n",
       "    <tr>\n",
       "      <th>1</th>\n",
       "      <td>PGS.TS Lê Huỳnh Viết Hưng</td>\n",
       "      <td>viethung.ilusm@gmail.com</td>\n",
       "    </tr>\n",
       "  </tbody>\n",
       "</table>\n",
       "</div>"
      ],
      "text/plain": [
       "                        name                     email\n",
       "0        PGS.TS Lê Viết Hưng  leviethung2403@gmail.com\n",
       "1  PGS.TS Lê Huỳnh Viết Hưng  viethung.ilusm@gmail.com"
      ]
     },
     "execution_count": 3,
     "metadata": {},
     "output_type": "execute_result"
    }
   ],
   "source": [
    "df=pd.read_excel('DSGV-khoa-BCTT.xlsx', sheet_name='demo')\n",
    "df.head()"
   ]
  },
  {
   "cell_type": "code",
   "execution_count": 6,
   "metadata": {},
   "outputs": [
    {
     "name": "stdout",
     "output_type": "stream",
     "text": [
      "curl http://localhost:3301/sendMail/invite?receiverName=\"PGS.TS%20L%C3%AA%20Vi%E1%BA%BFt%20H%C6%B0ng\"&recipientEmail=leviethung2403@gmail.com \n",
      "\n",
      "zsh:1: no matches found: http://localhost:3301/sendMail/invite?receiverName=\"{}\"&recipientEmail={}.format(urllib.parse.quote(row[name], safe=), row.email)\n",
      "curl http://localhost:3301/sendMail/invite?receiverName=\"PGS.TS%20L%C3%AA%20Hu%E1%BB%B3nh%20Vi%E1%BA%BFt%20H%C6%B0ng\"&recipientEmail=viethung.ilusm@gmail.com \n",
      "\n",
      "zsh:1: no matches found: http://localhost:3301/sendMail/invite?receiverName=\"{}\"&recipientEmail={}.format(urllib.parse.quote(row[name], safe=), row.email)\n"
     ]
    }
   ],
   "source": [
    "for index, row in df.iterrows():\n",
    "#     print(row['name'])\n",
    "    url = 'curl http://localhost:3301/sendMail/invite?receiverName=\"{}\"&recipientEmail={}'.format(urllib.parse.quote(row['name'], safe=''), row.email)\n",
    "    print(url, '\\n')\n",
    "    !curl $url\n"
   ]
  },
  {
   "cell_type": "code",
   "execution_count": null,
   "metadata": {},
   "outputs": [],
   "source": []
  }
 ],
 "metadata": {
  "kernelspec": {
   "display_name": "Python 3",
   "language": "python",
   "name": "python3"
  },
  "language_info": {
   "codemirror_mode": {
    "name": "ipython",
    "version": 3
   },
   "file_extension": ".py",
   "mimetype": "text/x-python",
   "name": "python",
   "nbconvert_exporter": "python",
   "pygments_lexer": "ipython3",
   "version": "3.8.5"
  }
 },
 "nbformat": 4,
 "nbformat_minor": 4
}
