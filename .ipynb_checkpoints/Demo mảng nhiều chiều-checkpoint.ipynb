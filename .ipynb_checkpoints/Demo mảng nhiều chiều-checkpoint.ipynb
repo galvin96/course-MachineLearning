{
 "cells": [
  {
   "cell_type": "markdown",
   "metadata": {},
   "source": [
    "# Minh họa thư viện Numpy \n",
    "#### Cài đặt thư viện Numpy bằng cú pháp \n",
    "> pip install numpy "
   ]
  },
  {
   "cell_type": "code",
   "execution_count": 1,
   "metadata": {},
   "outputs": [],
   "source": [
    "#Import thư viện\n",
    "import numpy as np"
   ]
  },
  {
   "cell_type": "code",
   "execution_count": null,
   "metadata": {},
   "outputs": [],
   "source": [
    "lst=[1,2,3]\n",
    "a= np.array(lst)\n",
    "a+1"
   ]
  },
  {
   "cell_type": "code",
   "execution_count": null,
   "metadata": {},
   "outputs": [],
   "source": [
    "a.dtype"
   ]
  },
  {
   "cell_type": "markdown",
   "metadata": {},
   "source": [
    "### Mảng nhiều chiều"
   ]
  },
  {
   "cell_type": "code",
   "execution_count": 2,
   "metadata": {},
   "outputs": [
    {
     "name": "stdout",
     "output_type": "stream",
     "text": [
      "[[1. 2. 3.]\n",
      " [4. 5. 6.]]\n"
     ]
    }
   ],
   "source": [
    "array_2 = np.array([[1,2,3],[4,5,6]],dtype=float)\n",
    "print(array_2)"
   ]
  },
  {
   "cell_type": "code",
   "execution_count": 3,
   "metadata": {},
   "outputs": [
    {
     "data": {
      "text/plain": [
       "2"
      ]
     },
     "execution_count": 3,
     "metadata": {},
     "output_type": "execute_result"
    }
   ],
   "source": [
    "#Get dimension\n",
    "array_2.ndim"
   ]
  },
  {
   "cell_type": "code",
   "execution_count": 4,
   "metadata": {},
   "outputs": [
    {
     "data": {
      "text/plain": [
       "(2, 3)"
      ]
     },
     "execution_count": 4,
     "metadata": {},
     "output_type": "execute_result"
    }
   ],
   "source": [
    "#Get Shape\n",
    "array_2.shape"
   ]
  },
  {
   "cell_type": "code",
   "execution_count": 5,
   "metadata": {},
   "outputs": [
    {
     "data": {
      "text/plain": [
       "numpy.ndarray"
      ]
     },
     "execution_count": 5,
     "metadata": {},
     "output_type": "execute_result"
    }
   ],
   "source": [
    "#Get Type\n",
    "type(array_2)\n"
   ]
  },
  {
   "cell_type": "code",
   "execution_count": 6,
   "metadata": {},
   "outputs": [
    {
     "data": {
      "text/plain": [
       "dtype('float64')"
      ]
     },
     "execution_count": 6,
     "metadata": {},
     "output_type": "execute_result"
    }
   ],
   "source": [
    "#Get Item Type\n",
    "array_2.dtype"
   ]
  },
  {
   "cell_type": "code",
   "execution_count": 7,
   "metadata": {},
   "outputs": [
    {
     "data": {
      "text/plain": [
       "8"
      ]
     },
     "execution_count": 7,
     "metadata": {},
     "output_type": "execute_result"
    }
   ],
   "source": [
    "# Get size in byte of item\n",
    "array_2.itemsize"
   ]
  },
  {
   "cell_type": "code",
   "execution_count": 8,
   "metadata": {},
   "outputs": [
    {
     "data": {
      "text/plain": [
       "6"
      ]
     },
     "execution_count": 8,
     "metadata": {},
     "output_type": "execute_result"
    }
   ],
   "source": [
    "# Get total items - tổng số phần tử\n",
    "array_2.size"
   ]
  },
  {
   "cell_type": "code",
   "execution_count": 9,
   "metadata": {},
   "outputs": [
    {
     "data": {
      "text/plain": [
       "48"
      ]
     },
     "execution_count": 9,
     "metadata": {},
     "output_type": "execute_result"
    }
   ],
   "source": [
    "#Get total size \n",
    "array_2.size * array_2.itemsize"
   ]
  },
  {
   "cell_type": "markdown",
   "metadata": {},
   "source": [
    "### Tạo mảng"
   ]
  },
  {
   "cell_type": "markdown",
   "metadata": {},
   "source": [
    "#### Tạo mảng với giá trị ban đầu"
   ]
  },
  {
   "cell_type": "code",
   "execution_count": 10,
   "metadata": {},
   "outputs": [
    {
     "name": "stdout",
     "output_type": "stream",
     "text": [
      "[[[0 0 0]\n",
      "  [0 0 0]\n",
      "  [0 0 0]]\n",
      "\n",
      " [[0 0 0]\n",
      "  [0 0 0]\n",
      "  [0 0 0]]]\n"
     ]
    }
   ],
   "source": [
    "# Mảng với các phần tử có giá trị ban đầu là 0\n",
    "import numpy as np\n",
    "mang = np.zeros([2,3,3],dtype=int) \n",
    "print(mang)"
   ]
  },
  {
   "cell_type": "code",
   "execution_count": 11,
   "metadata": {},
   "outputs": [
    {
     "name": "stdout",
     "output_type": "stream",
     "text": [
      "[[1 1 1 1]\n",
      " [1 1 1 1]\n",
      " [1 1 1 1]]\n"
     ]
    }
   ],
   "source": [
    "# Mảng với các phần tử có giá trị ban đầu là 1\n",
    "mang_1 = np.ones([3,4],dtype=int) \n",
    "print(mang_1)"
   ]
  },
  {
   "cell_type": "markdown",
   "metadata": {},
   "source": [
    "#### Tạo mảng với giá trị ngẫu nhiên"
   ]
  },
  {
   "cell_type": "code",
   "execution_count": 31,
   "metadata": {},
   "outputs": [
    {
     "name": "stdout",
     "output_type": "stream",
     "text": [
      "[[0.4359949  0.02592623 0.54966248]\n",
      " [0.43532239 0.4203678  0.33033482]]\n"
     ]
    }
   ],
   "source": [
    "#Tạo mảng giá trị ngẫu nhiên từ 0-1\n",
    "np.random.seed(2)\n",
    "a=np.random.rand(2,3)\n",
    "print(a)"
   ]
  },
  {
   "cell_type": "code",
   "execution_count": 34,
   "metadata": {},
   "outputs": [
    {
     "name": "stdout",
     "output_type": "stream",
     "text": [
      "[[64 32 91 21 38]\n",
      " [40 68  5 43 52]\n",
      " [39 34 59 68 70]]\n"
     ]
    }
   ],
   "source": [
    "#Tạo mảng giá trị ngẫu nhiên các số nguyên \n",
    "a=np.random.randint(1,100,size=(3,5))\n",
    "print(a)"
   ]
  },
  {
   "cell_type": "markdown",
   "metadata": {},
   "source": [
    "#### Thay đổi kích cỡ mảng"
   ]
  },
  {
   "cell_type": "code",
   "execution_count": 43,
   "metadata": {},
   "outputs": [
    {
     "name": "stdout",
     "output_type": "stream",
     "text": [
      "[[1 2 3]\n",
      " [4 5 6]]\n"
     ]
    },
    {
     "data": {
      "text/plain": [
       "2"
      ]
     },
     "execution_count": 43,
     "metadata": {},
     "output_type": "execute_result"
    }
   ],
   "source": [
    "array_2 = np.array([[1, 2, 3], [4, 5, 6]])\n",
    "print(array_2)\n",
    "array_2.ndim"
   ]
  },
  {
   "cell_type": "code",
   "execution_count": 44,
   "metadata": {},
   "outputs": [
    {
     "name": "stdout",
     "output_type": "stream",
     "text": [
      "[[2 3 1]\n",
      " [5 6 4]]\n"
     ]
    }
   ],
   "source": [
    "# Đảo cột \n",
    "print(array_2[:,[1,2,0]])"
   ]
  },
  {
   "cell_type": "code",
   "execution_count": 40,
   "metadata": {},
   "outputs": [
    {
     "name": "stdout",
     "output_type": "stream",
     "text": [
      "(3, 2)\n",
      "[[1 2]\n",
      " [3 4]\n",
      " [5 6]]\n"
     ]
    }
   ],
   "source": [
    "# thay đổi kích cỡ mảng với shape\n",
    "print(array_2.shape)\n",
    "array_2.shape = (3,2)\n",
    "print(array_2)"
   ]
  },
  {
   "cell_type": "code",
   "execution_count": 37,
   "metadata": {},
   "outputs": [
    {
     "name": "stdout",
     "output_type": "stream",
     "text": [
      "[ 0  1  2  3  4  5  6  7  8  9 10 11 12 13 14 15 16 17 18 19 20 21 22 23]\n",
      "[[ 0  1  2  3  4  5  6  7]\n",
      " [ 8  9 10 11 12 13 14 15]\n",
      " [16 17 18 19 20 21 22 23]]\n",
      "[[[ 0  1  2]\n",
      "  [ 3  4  5]]\n",
      "\n",
      " [[ 6  7  8]\n",
      "  [ 9 10 11]]\n",
      "\n",
      " [[12 13 14]\n",
      "  [15 16 17]]\n",
      "\n",
      " [[18 19 20]\n",
      "  [21 22 23]]]\n"
     ]
    }
   ],
   "source": [
    "# thay đổi kích cỡ mảng dùng reshape\n",
    "a = np.arange(24) \n",
    "print(a)\n",
    "\n",
    "#Chuyển sang mảng 2 chiều 6 dòng, 4 cột\n",
    "b = a.reshape(3,8) \n",
    "print(b)\n",
    "\n",
    "#Chuyển sang ma trận, dòng, cột\n",
    "c = a.reshape(4,2,3) \n",
    "print(c)\n",
    "\n"
   ]
  },
  {
   "cell_type": "markdown",
   "metadata": {},
   "source": [
    "### Thao tác trên mảng"
   ]
  },
  {
   "cell_type": "code",
   "execution_count": 45,
   "metadata": {},
   "outputs": [
    {
     "name": "stdout",
     "output_type": "stream",
     "text": [
      "[[[ 0  1  2  3]\n",
      "  [ 4  5  6  7]]\n",
      "\n",
      " [[ 8  9 10 11]\n",
      "  [12 13 14 15]]\n",
      "\n",
      " [[16 17 18 19]\n",
      "  [20 21 22 23]]]\n"
     ]
    }
   ],
   "source": [
    "array_2 = np.arange(0,24)\n",
    "array_2 = array_2.reshape(3,2,4)\n",
    "print(array_2)"
   ]
  },
  {
   "cell_type": "code",
   "execution_count": 46,
   "metadata": {},
   "outputs": [
    {
     "name": "stdout",
     "output_type": "stream",
     "text": [
      "[[ 8  9 10 11]\n",
      " [12 13 14 15]]\n",
      "[12 13 14 15]\n",
      "12\n"
     ]
    }
   ],
   "source": [
    "# Truy xuất phần tử trong mảng\n",
    "print(array_2[1])\n",
    "print(array_2[1,1])\n",
    "print(array_2[1,1,0])"
   ]
  },
  {
   "cell_type": "code",
   "execution_count": 49,
   "metadata": {},
   "outputs": [
    {
     "name": "stdout",
     "output_type": "stream",
     "text": [
      "[[[  0   1   2   3]\n",
      "  [  4   5   6   7]]\n",
      "\n",
      " [[100 100 100 100]\n",
      "  [100  13  14  15]]\n",
      "\n",
      " [[ 16  17  18  19]\n",
      "  [ 20  21  22  23]]]\n",
      "[[[  0   1   2   3]\n",
      "  [  4   5   6   7]]\n",
      "\n",
      " [[100 100 100 100]\n",
      "  [100  13  14  15]]\n",
      "\n",
      " [[ 16  17  18  19]\n",
      "  [ 20  21  22  23]]]\n",
      "[[[102   1   2   3]\n",
      "  [102   5   6   7]]\n",
      "\n",
      " [[102 100 100 100]\n",
      "  [102  13  14  15]]\n",
      "\n",
      " [[102  17  18  19]\n",
      "  [102  21  22  23]]]\n"
     ]
    }
   ],
   "source": [
    "# cập nhật giá trị 1 phần tử\n",
    "array_2[1,1,0] =100 \n",
    "print(array_2)\n",
    "\n",
    "# cập nhật giá trị 1 dòng\n",
    "array_2[1,0] =100\n",
    "print(array_2)\n",
    "\n",
    "# cập nhật giá trị 1 cột\n",
    "array_2[:,:,0] = 102 \n",
    "print(array_2)"
   ]
  },
  {
   "cell_type": "code",
   "execution_count": 50,
   "metadata": {},
   "outputs": [
    {
     "name": "stdout",
     "output_type": "stream",
     "text": [
      "[[[ 0  1  2  3]\n",
      "  [ 4  5  6  7]\n",
      "  [ 8  9 10 11]]\n",
      "\n",
      " [[12 13 14 15]\n",
      "  [16 17 18 19]\n",
      "  [20 21 22 23]]]\n",
      "b[0][1][2] = 6\n"
     ]
    }
   ],
   "source": [
    "b= np.arange(0,24).reshape(2,3,4)\n",
    "print(b)\n",
    "print(\"b[0][1][2] =\",b[0,1,2]  ) # ma trận 0, dòng 1, cột 2 \n"
   ]
  },
  {
   "cell_type": "code",
   "execution_count": null,
   "metadata": {},
   "outputs": [],
   "source": [
    "print(b)\n",
    "\n",
    "\n",
    "print(\"Ma trận thứ 2 của b:\\n\",b[1])\n",
    "\n",
    "print(\"Cột thứ 3 trong ma trận thứ 2 của b:\", b[1,:,2])\n",
    "\n",
    "print(\"Dòng thứ 2 trong ma trận thứ 2 của b:\",b[1,1,:])\n"
   ]
  },
  {
   "cell_type": "code",
   "execution_count": null,
   "metadata": {},
   "outputs": [],
   "source": [
    "array2d =np.arange(1,101).reshape(10,10)"
   ]
  },
  {
   "cell_type": "code",
   "execution_count": null,
   "metadata": {},
   "outputs": [],
   "source": [
    "array2d"
   ]
  },
  {
   "cell_type": "code",
   "execution_count": null,
   "metadata": {},
   "outputs": [],
   "source": [
    "# Lấy ma trận 2 dòng, 2 cột góc trên bên trái \n",
    "print(array2d[:2,:2])\n",
    "\n",
    "#Trích ma trận gồm các số lẻ từ ma trận đã cho\n",
    "print(array2d[:,::2])"
   ]
  },
  {
   "cell_type": "markdown",
   "metadata": {},
   "source": [
    "## Tính toán trên mảng nhiều chiều"
   ]
  },
  {
   "cell_type": "code",
   "execution_count": 51,
   "metadata": {},
   "outputs": [
    {
     "name": "stdout",
     "output_type": "stream",
     "text": [
      "[[1 2 3 4]\n",
      " [1 1 1 1]\n",
      " [1 2 3 4]\n",
      " [2 2 2 2]]\n",
      "[2 4 6 4]\n",
      "a + b\n",
      "[[3 6 9 8]\n",
      " [3 5 7 5]\n",
      " [3 6 9 8]\n",
      " [4 6 8 6]]\n",
      "a - b\n",
      "[[-1 -2 -3  0]\n",
      " [-1 -3 -5 -3]\n",
      " [-1 -2 -3  0]\n",
      " [ 0 -2 -4 -2]]\n",
      "a * b\n",
      "[[ 2  8 18 16]\n",
      " [ 2  4  6  4]\n",
      " [ 2  8 18 16]\n",
      " [ 4  8 12  8]]\n",
      "a / b\n",
      "[[0.5        0.5        0.5        1.        ]\n",
      " [0.5        0.25       0.16666667 0.25      ]\n",
      " [0.5        0.5        0.5        1.        ]\n",
      " [1.         0.5        0.33333333 0.5       ]]\n"
     ]
    }
   ],
   "source": [
    "import numpy as np\n",
    "a = np.array([[1, 2, 3, 4],[1, 1, 1, 1],[1, 2, 3, 4],[2, 2, 2, 2]]) \n",
    "b = np.array([2, 4, 6, 4])  \n",
    "print(a)\n",
    "print(b)\n",
    "print(\"a + b\")\n",
    "print(a + b)\n",
    "print(\"a - b\")\n",
    "print(a - b)\n",
    "print(\"a * b\")\n",
    "print(a * b)\n",
    "print(\"a / b\")\n",
    "print(a / b)"
   ]
  },
  {
   "cell_type": "code",
   "execution_count": 52,
   "metadata": {},
   "outputs": [
    {
     "name": "stdout",
     "output_type": "stream",
     "text": [
      "[[3 7 5]\n",
      " [8 4 3]\n",
      " [2 4 9]]\n"
     ]
    }
   ],
   "source": [
    "a = np.array([[3,7,5],[8,4,3],[2,4,9]])\n",
    "print(a)"
   ]
  },
  {
   "cell_type": "code",
   "execution_count": 53,
   "metadata": {},
   "outputs": [
    {
     "name": "stdout",
     "output_type": "stream",
     "text": [
      "Max: 9\n",
      "Min: 2\n",
      "Max - theo từng cột: [8 7 9]\n",
      "Max - theo từng dòng: [7 8 9]\n"
     ]
    }
   ],
   "source": [
    "print(\"Max:\", np.amax(a))\n",
    "print(\"Min:\", np.amin(a))\n",
    "print(\"Max - theo từng cột:\", np.max(a,axis=0))\n",
    "#print(\"Min - theo từng cột:\", np.min(a, axis=0))\n",
    "print(\"Max - theo từng dòng:\", np.amax(a, axis=1))\n",
    "#print(\"Min - theo từng dòng:\", np.amin(a, axis=1))"
   ]
  },
  {
   "cell_type": "markdown",
   "metadata": {},
   "source": [
    "## Median, mean"
   ]
  },
  {
   "cell_type": "code",
   "execution_count": 54,
   "metadata": {},
   "outputs": [
    {
     "name": "stdout",
     "output_type": "stream",
     "text": [
      "[[[3 7]\n",
      "  [8 4]]\n",
      "\n",
      " [[2 4]\n",
      "  [1 5]]]\n",
      "Mean b:\n",
      "4.25\n",
      "Mean b[0]:\n",
      "5.5\n"
     ]
    }
   ],
   "source": [
    "b = np.array([[[3,7],[8,4]],[[2,4], [1, 5]]])\n",
    "print(b)\n",
    "print('Mean b:')\n",
    "print(np.mean(b))\n",
    "print('Mean b[0]:')\n",
    "print(np.mean(b[0]))"
   ]
  },
  {
   "cell_type": "code",
   "execution_count": 55,
   "metadata": {},
   "outputs": [
    {
     "name": "stdout",
     "output_type": "stream",
     "text": [
      "[[[3 7]\n",
      "  [8 4]]\n",
      "\n",
      " [[2 4]\n",
      "  [1 5]]]\n",
      "Median b:\n",
      "4.0\n",
      "Median b[1]:\n",
      "3.0\n"
     ]
    }
   ],
   "source": [
    "print(b)\n",
    "print('Median b:')\n",
    "print(np.median(b))\n",
    "print('Median b[1]:')\n",
    "print(np.median(b[1]))"
   ]
  },
  {
   "cell_type": "markdown",
   "metadata": {},
   "source": [
    "## Sort, where, extract\n"
   ]
  },
  {
   "cell_type": "code",
   "execution_count": 56,
   "metadata": {},
   "outputs": [
    {
     "name": "stdout",
     "output_type": "stream",
     "text": [
      "[[9 7 8 4]\n",
      " [2 4 6 5]]\n",
      "Sort c\n",
      "[[4 7 8 9]\n",
      " [2 4 5 6]]\n"
     ]
    },
    {
     "data": {
      "text/plain": [
       "array([[2, 4, 6, 4],\n",
       "       [9, 7, 8, 5]])"
      ]
     },
     "execution_count": 56,
     "metadata": {},
     "output_type": "execute_result"
    }
   ],
   "source": [
    "c = np.array([[9,7,8,4],[2,4, 6, 5]])\n",
    "print(c)\n",
    "print(\"Sort c\")\n",
    "print(np.sort(c))\n",
    "\n",
    "np.sort(c,axis=0)"
   ]
  },
  {
   "cell_type": "code",
   "execution_count": null,
   "metadata": {},
   "outputs": [],
   "source": [
    "print('Sort c theo cột:')\n",
    "print(np.sort(c, axis=0))"
   ]
  },
  {
   "cell_type": "code",
   "execution_count": 57,
   "metadata": {},
   "outputs": [
    {
     "name": "stdout",
     "output_type": "stream",
     "text": [
      "[[9 7]\n",
      " [8 4]\n",
      " [2 4]\n",
      " [6 5]]\n",
      "(array([0, 0, 1, 3], dtype=int32), array([0, 1, 0, 0], dtype=int32))\n",
      "[9 7 8 6]\n"
     ]
    }
   ],
   "source": [
    "\n",
    "c= np.array([[9,7],[8,4],[2,4], [6, 5]])\n",
    "print(c)\n",
    "# Chọn các phần tử trong c >5\n",
    "cond = np.where(c>5)\n",
    "print(cond)\n",
    "print(c[cond])"
   ]
  },
  {
   "cell_type": "code",
   "execution_count": 58,
   "metadata": {},
   "outputs": [
    {
     "name": "stdout",
     "output_type": "stream",
     "text": [
      "[[9 7]\n",
      " [8 4]\n",
      " [2 4]\n",
      " [6 5]]\n",
      "Trên c: [9 7 8 6 5]\n",
      "Trên c[0]: [9 7]\n"
     ]
    }
   ],
   "source": [
    "print(c)\n",
    "print(\"Trên c:\",np.extract(c>=5,c))\n",
    "print(\"Trên c[0]:\",np.extract(c[0]>=5,c))\n"
   ]
  },
  {
   "cell_type": "code",
   "execution_count": 59,
   "metadata": {},
   "outputs": [
    {
     "name": "stdout",
     "output_type": "stream",
     "text": [
      "[[1 2]\n",
      " [3 4]]\n",
      "1.118033988749895\n",
      "[1. 1.]\n",
      "[0.5 0.5]\n"
     ]
    }
   ],
   "source": [
    "# Tính toán độ lệch chuẩn standard deviation\n",
    "a = np.array([[1, 2], [3, 4]])\n",
    "print(a)\n",
    "print(np.std(a))\n",
    "# Tính độ lệch chuẩn theo cột\n",
    "print(np.std(a,axis=0))\n",
    "# Tính độ lệch chuẩn theo dòng\n",
    "print(np.std(a,axis=1))"
   ]
  },
  {
   "cell_type": "code",
   "execution_count": 60,
   "metadata": {},
   "outputs": [
    {
     "name": "stdout",
     "output_type": "stream",
     "text": [
      "[[1 4 6]\n",
      " [1 2 3]]\n",
      "Coefficient\n",
      "[[1.         0.99339927]\n",
      " [0.99339927 1.        ]]\n"
     ]
    }
   ],
   "source": [
    "# Tính hệ số tương quan\n",
    "a = np.array([[1,4,6], [1,2,3]])\n",
    "print(a)\n",
    "print(\"Coefficient\")\n",
    "print(np.corrcoef(a[0],a[1]))"
   ]
  },
  {
   "cell_type": "code",
   "execution_count": 62,
   "metadata": {},
   "outputs": [
    {
     "data": {
      "text/plain": [
       "[<matplotlib.lines.Line2D at 0x8e778d0>]"
      ]
     },
     "execution_count": 62,
     "metadata": {},
     "output_type": "execute_result"
    },
    {
     "data": {
      "image/png": "[encoded data removed]",
      "text/plain": [
       "<Figure size 432x288 with 1 Axes>"
      ]
     },
     "metadata": {
      "needs_background": "light"
     },
     "output_type": "display_data"
    }
   ],
   "source": [
    "import matplotlib.pyplot as plt\n",
    "plt.plot(a[1],a[0])\n"
   ]
  },
  {
   "cell_type": "markdown",
   "metadata": {},
   "source": [
    "## Mảng dữ liệu có cấu trúc"
   ]
  },
  {
   "cell_type": "code",
   "execution_count": 66,
   "metadata": {},
   "outputs": [
    {
     "name": "stdout",
     "output_type": "stream",
     "text": [
      "[('Tom', 21) ('Jenny', 25) ('Herry', 17) ('Matt', 27)]\n"
     ]
    }
   ],
   "source": [
    "dt = np.dtype([('name', 'U10'),('age', int)]) \n",
    "ds = np.array([(\"Tom\",21),(\"Jenny\",25),(\"Herry\", 17), (\"Matt\",27)], dtype = dt) \n",
    "print(ds)"
   ]
  },
  {
   "cell_type": "code",
   "execution_count": 67,
   "metadata": {},
   "outputs": [
    {
     "name": "stdout",
     "output_type": "stream",
     "text": [
      "Order by name:\n",
      "[('Herry', 17) ('Jenny', 25) ('Matt', 27) ('Tom', 21)]\n",
      "Order by age:\n",
      "[('Herry', 17) ('Tom', 21) ('Jenny', 25) ('Matt', 27)]\n"
     ]
    }
   ],
   "source": [
    "print('Order by name:')\n",
    "print(np.sort(ds,order='name'))\n",
    "print('Order by age:')\n",
    "print(np.sort(ds,order='age'))"
   ]
  },
  {
   "cell_type": "code",
   "execution_count": 2,
   "metadata": {},
   "outputs": [
    {
     "data": {
      "text/plain": [
       "0.35504667694586567"
      ]
     },
     "execution_count": 2,
     "metadata": {},
     "output_type": "execute_result"
    }
   ],
   "source": [
    "np.random.rand()"
   ]
  },
  {
   "cell_type": "code",
   "execution_count": null,
   "metadata": {},
   "outputs": [],
   "source": []
  }
 ],
 "metadata": {
  "kernelspec": {
   "display_name": "Python 3",
   "language": "python",
   "name": "python3"
  },
  "language_info": {
   "codemirror_mode": {
    "name": "ipython",
    "version": 3
   },
   "file_extension": ".py",
   "mimetype": "text/x-python",
   "name": "python",
   "nbconvert_exporter": "python",
   "pygments_lexer": "ipython3",
   "version": "3.7.1"
  }
 },
 "nbformat": 4,
 "nbformat_minor": 2
}
