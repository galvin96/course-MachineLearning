{
 "cells": [
  {
   "cell_type": "markdown",
   "metadata": {
    "id": "KRp9sdY_myuU"
   },
   "source": [
    "# VÕ MINH NGỌC - Bài kiểm tra cuối môn: LDS3\n",
    "### Cho dữ liệu housing-prices-dataset/train.csv\n",
    "### Yêu cầu: Thực hiện các công việc sau\n",
    "1. Xác định các thuộc tính\n",
    "2. Phân tích đơn biến  \n",
    "   Để dự đoán giá nhà, giả sử cần các thông tin sau: 'LotArea', 'YearBuilt', '1stFlrSF', '2ndFlrSF', 'FullBath', 'BedroomAbvGr', \n",
    "   'TotRmsAbvGrd' => phân tích các biến này\n",
    "3. Phân tích hai biến\n",
    "4. Xử lý dữ liệu thiếu\n",
    "5. Phát hiện và xử lý ngoại lệ"
   ]
  },
  {
   "cell_type": "code",
   "execution_count": 800,
   "metadata": {
    "id": "-0SfkvfcmyuV"
   },
   "outputs": [],
   "source": [
    "# link: https://www.kaggle.com/alphaepsilon/housing-prices-dataset"
   ]
  },
  {
   "cell_type": "code",
   "execution_count": 801,
   "metadata": {
    "id": "uq7bj27bmyuZ"
   },
   "outputs": [],
   "source": [
    "import pandas as pd\n",
    "import numpy as np\n",
    "import seaborn as sns\n",
    "import matplotlib.pyplot as plt\n",
    "import scipy"
   ]
  },
  {
   "cell_type": "code",
   "execution_count": 802,
   "metadata": {
    "colab": {
     "base_uri": "https://localhost:8080/",
     "height": 191
    },
    "executionInfo": {
     "elapsed": 2569,
     "status": "error",
     "timestamp": 1606554715886,
     "user": {
      "displayName": "Đặng Thế Khoa",
      "photoUrl": "",
      "userId": "05815141459340450999"
     },
     "user_tz": -420
    },
    "id": "SSESqtP_myub",
    "outputId": "41380586-d7d5-4fce-91be-6c3d22132c7f"
   },
   "outputs": [
    {
     "data": {
      "text/plain": [
       "(1460, 81)"
      ]
     },
     "execution_count": 802,
     "metadata": {},
     "output_type": "execute_result"
    }
   ],
   "source": [
    "df = pd.read_csv(\"housing-prices-dataset/train.csv\")\n",
    "df.shape"
   ]
  },
  {
   "cell_type": "code",
   "execution_count": 803,
   "metadata": {
    "colab": {
     "base_uri": "https://localhost:8080/",
     "height": 172
    },
    "executionInfo": {
     "elapsed": 2564,
     "status": "error",
     "timestamp": 1606554715890,
     "user": {
      "displayName": "Đặng Thế Khoa",
      "photoUrl": "",
      "userId": "05815141459340450999"
     },
     "user_tz": -420
    },
    "id": "soQR85wfmyuf",
    "outputId": "f9021064-0d56-4d2b-f291-ffae72831940"
   },
   "outputs": [
    {
     "name": "stdout",
     "output_type": "stream",
     "text": [
      "<class 'pandas.core.frame.DataFrame'>\n",
      "RangeIndex: 1460 entries, 0 to 1459\n",
      "Data columns (total 81 columns):\n",
      " #   Column         Non-Null Count  Dtype  \n",
      "---  ------         --------------  -----  \n",
      " 0   Id             1460 non-null   int64  \n",
      " 1   MSSubClass     1460 non-null   int64  \n",
      " 2   MSZoning       1460 non-null   object \n",
      " 3   LotFrontage    1201 non-null   float64\n",
      " 4   LotArea        1460 non-null   int64  \n",
      " 5   Street         1460 non-null   object \n",
      " 6   Alley          91 non-null     object \n",
      " 7   LotShape       1460 non-null   object \n",
      " 8   LandContour    1460 non-null   object \n",
      " 9   Utilities      1460 non-null   object \n",
      " 10  LotConfig      1460 non-null   object \n",
      " 11  LandSlope      1460 non-null   object \n",
      " 12  Neighborhood   1460 non-null   object \n",
      " 13  Condition1     1460 non-null   object \n",
      " 14  Condition2     1460 non-null   object \n",
      " 15  BldgType       1460 non-null   object \n",
      " 16  HouseStyle     1460 non-null   object \n",
      " 17  OverallQual    1460 non-null   int64  \n",
      " 18  OverallCond    1460 non-null   int64  \n",
      " 19  YearBuilt      1460 non-null   int64  \n",
      " 20  YearRemodAdd   1460 non-null   int64  \n",
      " 21  RoofStyle      1460 non-null   object \n",
      " 22  RoofMatl       1460 non-null   object \n",
      " 23  Exterior1st    1460 non-null   object \n",
      " 24  Exterior2nd    1460 non-null   object \n",
      " 25  MasVnrType     1452 non-null   object \n",
      " 26  MasVnrArea     1452 non-null   float64\n",
      " 27  ExterQual      1460 non-null   object \n",
      " 28  ExterCond      1460 non-null   object \n",
      " 29  Foundation     1460 non-null   object \n",
      " 30  BsmtQual       1423 non-null   object \n",
      " 31  BsmtCond       1423 non-null   object \n",
      " 32  BsmtExposure   1422 non-null   object \n",
      " 33  BsmtFinType1   1423 non-null   object \n",
      " 34  BsmtFinSF1     1460 non-null   int64  \n",
      " 35  BsmtFinType2   1422 non-null   object \n",
      " 36  BsmtFinSF2     1460 non-null   int64  \n",
      " 37  BsmtUnfSF      1460 non-null   int64  \n",
      " 38  TotalBsmtSF    1460 non-null   int64  \n",
      " 39  Heating        1460 non-null   object \n",
      " 40  HeatingQC      1460 non-null   object \n",
      " 41  CentralAir     1460 non-null   object \n",
      " 42  Electrical     1459 non-null   object \n",
      " 43  1stFlrSF       1460 non-null   int64  \n",
      " 44  2ndFlrSF       1460 non-null   int64  \n",
      " 45  LowQualFinSF   1460 non-null   int64  \n",
      " 46  GrLivArea      1460 non-null   int64  \n",
      " 47  BsmtFullBath   1460 non-null   int64  \n",
      " 48  BsmtHalfBath   1460 non-null   int64  \n",
      " 49  FullBath       1460 non-null   int64  \n",
      " 50  HalfBath       1460 non-null   int64  \n",
      " 51  BedroomAbvGr   1460 non-null   int64  \n",
      " 52  KitchenAbvGr   1460 non-null   int64  \n",
      " 53  KitchenQual    1460 non-null   object \n",
      " 54  TotRmsAbvGrd   1460 non-null   int64  \n",
      " 55  Functional     1460 non-null   object \n",
      " 56  Fireplaces     1460 non-null   int64  \n",
      " 57  FireplaceQu    770 non-null    object \n",
      " 58  GarageType     1379 non-null   object \n",
      " 59  GarageYrBlt    1379 non-null   float64\n",
      " 60  GarageFinish   1379 non-null   object \n",
      " 61  GarageCars     1460 non-null   int64  \n",
      " 62  GarageArea     1460 non-null   int64  \n",
      " 63  GarageQual     1379 non-null   object \n",
      " 64  GarageCond     1379 non-null   object \n",
      " 65  PavedDrive     1460 non-null   object \n",
      " 66  WoodDeckSF     1460 non-null   int64  \n",
      " 67  OpenPorchSF    1460 non-null   int64  \n",
      " 68  EnclosedPorch  1460 non-null   int64  \n",
      " 69  3SsnPorch      1460 non-null   int64  \n",
      " 70  ScreenPorch    1460 non-null   int64  \n",
      " 71  PoolArea       1460 non-null   int64  \n",
      " 72  PoolQC         7 non-null      object \n",
      " 73  Fence          281 non-null    object \n",
      " 74  MiscFeature    54 non-null     object \n",
      " 75  MiscVal        1460 non-null   int64  \n",
      " 76  MoSold         1460 non-null   int64  \n",
      " 77  YrSold         1460 non-null   int64  \n",
      " 78  SaleType       1460 non-null   object \n",
      " 79  SaleCondition  1460 non-null   object \n",
      " 80  SalePrice      1460 non-null   int64  \n",
      "dtypes: float64(3), int64(35), object(43)\n",
      "memory usage: 924.0+ KB\n"
     ]
    }
   ],
   "source": [
    "df.info()"
   ]
  },
  {
   "cell_type": "code",
   "execution_count": 804,
   "metadata": {},
   "outputs": [],
   "source": [
    "DIVIDER = '-'*50"
   ]
  },
  {
   "cell_type": "code",
   "execution_count": 805,
   "metadata": {},
   "outputs": [
    {
     "data": {
      "text/html": [
       "<div>\n",
       "<style scoped>\n",
       "    .dataframe tbody tr th:only-of-type {\n",
       "        vertical-align: middle;\n",
       "    }\n",
       "\n",
       "    .dataframe tbody tr th {\n",
       "        vertical-align: top;\n",
       "    }\n",
       "\n",
       "    .dataframe thead th {\n",
       "        text-align: right;\n",
       "    }\n",
       "</style>\n",
       "<table border=\"1\" class=\"dataframe\">\n",
       "  <thead>\n",
       "    <tr style=\"text-align: right;\">\n",
       "      <th></th>\n",
       "      <th>Id</th>\n",
       "      <th>MSSubClass</th>\n",
       "      <th>MSZoning</th>\n",
       "      <th>LotFrontage</th>\n",
       "      <th>LotArea</th>\n",
       "      <th>Street</th>\n",
       "      <th>Alley</th>\n",
       "      <th>LotShape</th>\n",
       "      <th>LandContour</th>\n",
       "      <th>Utilities</th>\n",
       "      <th>...</th>\n",
       "      <th>PoolArea</th>\n",
       "      <th>PoolQC</th>\n",
       "      <th>Fence</th>\n",
       "      <th>MiscFeature</th>\n",
       "      <th>MiscVal</th>\n",
       "      <th>MoSold</th>\n",
       "      <th>YrSold</th>\n",
       "      <th>SaleType</th>\n",
       "      <th>SaleCondition</th>\n",
       "      <th>SalePrice</th>\n",
       "    </tr>\n",
       "  </thead>\n",
       "  <tbody>\n",
       "    <tr>\n",
       "      <th>0</th>\n",
       "      <td>1</td>\n",
       "      <td>60</td>\n",
       "      <td>RL</td>\n",
       "      <td>65.0</td>\n",
       "      <td>8450</td>\n",
       "      <td>Pave</td>\n",
       "      <td>NaN</td>\n",
       "      <td>Reg</td>\n",
       "      <td>Lvl</td>\n",
       "      <td>AllPub</td>\n",
       "      <td>...</td>\n",
       "      <td>0</td>\n",
       "      <td>NaN</td>\n",
       "      <td>NaN</td>\n",
       "      <td>NaN</td>\n",
       "      <td>0</td>\n",
       "      <td>2</td>\n",
       "      <td>2008</td>\n",
       "      <td>WD</td>\n",
       "      <td>Normal</td>\n",
       "      <td>208500</td>\n",
       "    </tr>\n",
       "    <tr>\n",
       "      <th>1</th>\n",
       "      <td>2</td>\n",
       "      <td>20</td>\n",
       "      <td>RL</td>\n",
       "      <td>80.0</td>\n",
       "      <td>9600</td>\n",
       "      <td>Pave</td>\n",
       "      <td>NaN</td>\n",
       "      <td>Reg</td>\n",
       "      <td>Lvl</td>\n",
       "      <td>AllPub</td>\n",
       "      <td>...</td>\n",
       "      <td>0</td>\n",
       "      <td>NaN</td>\n",
       "      <td>NaN</td>\n",
       "      <td>NaN</td>\n",
       "      <td>0</td>\n",
       "      <td>5</td>\n",
       "      <td>2007</td>\n",
       "      <td>WD</td>\n",
       "      <td>Normal</td>\n",
       "      <td>181500</td>\n",
       "    </tr>\n",
       "    <tr>\n",
       "      <th>2</th>\n",
       "      <td>3</td>\n",
       "      <td>60</td>\n",
       "      <td>RL</td>\n",
       "      <td>68.0</td>\n",
       "      <td>11250</td>\n",
       "      <td>Pave</td>\n",
       "      <td>NaN</td>\n",
       "      <td>IR1</td>\n",
       "      <td>Lvl</td>\n",
       "      <td>AllPub</td>\n",
       "      <td>...</td>\n",
       "      <td>0</td>\n",
       "      <td>NaN</td>\n",
       "      <td>NaN</td>\n",
       "      <td>NaN</td>\n",
       "      <td>0</td>\n",
       "      <td>9</td>\n",
       "      <td>2008</td>\n",
       "      <td>WD</td>\n",
       "      <td>Normal</td>\n",
       "      <td>223500</td>\n",
       "    </tr>\n",
       "    <tr>\n",
       "      <th>3</th>\n",
       "      <td>4</td>\n",
       "      <td>70</td>\n",
       "      <td>RL</td>\n",
       "      <td>60.0</td>\n",
       "      <td>9550</td>\n",
       "      <td>Pave</td>\n",
       "      <td>NaN</td>\n",
       "      <td>IR1</td>\n",
       "      <td>Lvl</td>\n",
       "      <td>AllPub</td>\n",
       "      <td>...</td>\n",
       "      <td>0</td>\n",
       "      <td>NaN</td>\n",
       "      <td>NaN</td>\n",
       "      <td>NaN</td>\n",
       "      <td>0</td>\n",
       "      <td>2</td>\n",
       "      <td>2006</td>\n",
       "      <td>WD</td>\n",
       "      <td>Abnorml</td>\n",
       "      <td>140000</td>\n",
       "    </tr>\n",
       "    <tr>\n",
       "      <th>4</th>\n",
       "      <td>5</td>\n",
       "      <td>60</td>\n",
       "      <td>RL</td>\n",
       "      <td>84.0</td>\n",
       "      <td>14260</td>\n",
       "      <td>Pave</td>\n",
       "      <td>NaN</td>\n",
       "      <td>IR1</td>\n",
       "      <td>Lvl</td>\n",
       "      <td>AllPub</td>\n",
       "      <td>...</td>\n",
       "      <td>0</td>\n",
       "      <td>NaN</td>\n",
       "      <td>NaN</td>\n",
       "      <td>NaN</td>\n",
       "      <td>0</td>\n",
       "      <td>12</td>\n",
       "      <td>2008</td>\n",
       "      <td>WD</td>\n",
       "      <td>Normal</td>\n",
       "      <td>250000</td>\n",
       "    </tr>\n",
       "  </tbody>\n",
       "</table>\n",
       "<p>5 rows × 81 columns</p>\n",
       "</div>"
      ],
      "text/plain": [
       "   Id  MSSubClass MSZoning  LotFrontage  LotArea Street Alley LotShape  \\\n",
       "0   1          60       RL         65.0     8450   Pave   NaN      Reg   \n",
       "1   2          20       RL         80.0     9600   Pave   NaN      Reg   \n",
       "2   3          60       RL         68.0    11250   Pave   NaN      IR1   \n",
       "3   4          70       RL         60.0     9550   Pave   NaN      IR1   \n",
       "4   5          60       RL         84.0    14260   Pave   NaN      IR1   \n",
       "\n",
       "  LandContour Utilities  ... PoolArea PoolQC Fence MiscFeature MiscVal MoSold  \\\n",
       "0         Lvl    AllPub  ...        0    NaN   NaN         NaN       0      2   \n",
       "1         Lvl    AllPub  ...        0    NaN   NaN         NaN       0      5   \n",
       "2         Lvl    AllPub  ...        0    NaN   NaN         NaN       0      9   \n",
       "3         Lvl    AllPub  ...        0    NaN   NaN         NaN       0      2   \n",
       "4         Lvl    AllPub  ...        0    NaN   NaN         NaN       0     12   \n",
       "\n",
       "  YrSold  SaleType  SaleCondition  SalePrice  \n",
       "0   2008        WD         Normal     208500  \n",
       "1   2007        WD         Normal     181500  \n",
       "2   2008        WD         Normal     223500  \n",
       "3   2006        WD        Abnorml     140000  \n",
       "4   2008        WD         Normal     250000  \n",
       "\n",
       "[5 rows x 81 columns]"
      ]
     },
     "execution_count": 805,
     "metadata": {},
     "output_type": "execute_result"
    }
   ],
   "source": [
    "df.head()"
   ]
  },
  {
   "cell_type": "markdown",
   "metadata": {
    "id": "aRcF-BLSmyuk"
   },
   "source": [
    "## 1. Xác định các thuộc tính\n",
    "1. Input: Tất cả ngoại trừ SalePrice\n",
    "2. Output: SalePrice\n",
    "3. Type of variable: <br/>\n",
    "    3.1 Predictor: khác SalePrice <br/>\n",
    "    3.2 Target: SalePrice <br/>\n",
    "4. Data Type: <br/>\n",
    "    4.1 Charactor/String <br/>\n",
    "    4.2 Numeric <br/>\n",
    "5. Variable Category:<br/>\n",
    "    5.1 Categorical: kieu so, kieu chuoi  <br/>\n",
    "    5.2 Continuous: int, float"
   ]
  },
  {
   "cell_type": "code",
   "execution_count": 806,
   "metadata": {
    "id": "yWWJQ7vdnLg5",
    "scrolled": true
   },
   "outputs": [
    {
     "name": "stdout",
     "output_type": "stream",
     "text": [
      "<class 'pandas.core.frame.DataFrame'>\n",
      "RangeIndex: 1460 entries, 0 to 1459\n",
      "Data columns (total 81 columns):\n",
      " #   Column         Non-Null Count  Dtype  \n",
      "---  ------         --------------  -----  \n",
      " 0   Id             1460 non-null   int64  \n",
      " 1   MSSubClass     1460 non-null   int64  \n",
      " 2   MSZoning       1460 non-null   object \n",
      " 3   LotFrontage    1201 non-null   float64\n",
      " 4   LotArea        1460 non-null   int64  \n",
      " 5   Street         1460 non-null   object \n",
      " 6   Alley          91 non-null     object \n",
      " 7   LotShape       1460 non-null   object \n",
      " 8   LandContour    1460 non-null   object \n",
      " 9   Utilities      1460 non-null   object \n",
      " 10  LotConfig      1460 non-null   object \n",
      " 11  LandSlope      1460 non-null   object \n",
      " 12  Neighborhood   1460 non-null   object \n",
      " 13  Condition1     1460 non-null   object \n",
      " 14  Condition2     1460 non-null   object \n",
      " 15  BldgType       1460 non-null   object \n",
      " 16  HouseStyle     1460 non-null   object \n",
      " 17  OverallQual    1460 non-null   int64  \n",
      " 18  OverallCond    1460 non-null   int64  \n",
      " 19  YearBuilt      1460 non-null   int64  \n",
      " 20  YearRemodAdd   1460 non-null   int64  \n",
      " 21  RoofStyle      1460 non-null   object \n",
      " 22  RoofMatl       1460 non-null   object \n",
      " 23  Exterior1st    1460 non-null   object \n",
      " 24  Exterior2nd    1460 non-null   object \n",
      " 25  MasVnrType     1452 non-null   object \n",
      " 26  MasVnrArea     1452 non-null   float64\n",
      " 27  ExterQual      1460 non-null   object \n",
      " 28  ExterCond      1460 non-null   object \n",
      " 29  Foundation     1460 non-null   object \n",
      " 30  BsmtQual       1423 non-null   object \n",
      " 31  BsmtCond       1423 non-null   object \n",
      " 32  BsmtExposure   1422 non-null   object \n",
      " 33  BsmtFinType1   1423 non-null   object \n",
      " 34  BsmtFinSF1     1460 non-null   int64  \n",
      " 35  BsmtFinType2   1422 non-null   object \n",
      " 36  BsmtFinSF2     1460 non-null   int64  \n",
      " 37  BsmtUnfSF      1460 non-null   int64  \n",
      " 38  TotalBsmtSF    1460 non-null   int64  \n",
      " 39  Heating        1460 non-null   object \n",
      " 40  HeatingQC      1460 non-null   object \n",
      " 41  CentralAir     1460 non-null   object \n",
      " 42  Electrical     1459 non-null   object \n",
      " 43  1stFlrSF       1460 non-null   int64  \n",
      " 44  2ndFlrSF       1460 non-null   int64  \n",
      " 45  LowQualFinSF   1460 non-null   int64  \n",
      " 46  GrLivArea      1460 non-null   int64  \n",
      " 47  BsmtFullBath   1460 non-null   int64  \n",
      " 48  BsmtHalfBath   1460 non-null   int64  \n",
      " 49  FullBath       1460 non-null   int64  \n",
      " 50  HalfBath       1460 non-null   int64  \n",
      " 51  BedroomAbvGr   1460 non-null   int64  \n",
      " 52  KitchenAbvGr   1460 non-null   int64  \n",
      " 53  KitchenQual    1460 non-null   object \n",
      " 54  TotRmsAbvGrd   1460 non-null   int64  \n",
      " 55  Functional     1460 non-null   object \n",
      " 56  Fireplaces     1460 non-null   int64  \n",
      " 57  FireplaceQu    770 non-null    object \n",
      " 58  GarageType     1379 non-null   object \n",
      " 59  GarageYrBlt    1379 non-null   float64\n",
      " 60  GarageFinish   1379 non-null   object \n",
      " 61  GarageCars     1460 non-null   int64  \n",
      " 62  GarageArea     1460 non-null   int64  \n",
      " 63  GarageQual     1379 non-null   object \n",
      " 64  GarageCond     1379 non-null   object \n",
      " 65  PavedDrive     1460 non-null   object \n",
      " 66  WoodDeckSF     1460 non-null   int64  \n",
      " 67  OpenPorchSF    1460 non-null   int64  \n",
      " 68  EnclosedPorch  1460 non-null   int64  \n",
      " 69  3SsnPorch      1460 non-null   int64  \n",
      " 70  ScreenPorch    1460 non-null   int64  \n",
      " 71  PoolArea       1460 non-null   int64  \n",
      " 72  PoolQC         7 non-null      object \n",
      " 73  Fence          281 non-null    object \n",
      " 74  MiscFeature    54 non-null     object \n",
      " 75  MiscVal        1460 non-null   int64  \n",
      " 76  MoSold         1460 non-null   int64  \n",
      " 77  YrSold         1460 non-null   int64  \n",
      " 78  SaleType       1460 non-null   object \n",
      " 79  SaleCondition  1460 non-null   object \n",
      " 80  SalePrice      1460 non-null   int64  \n",
      "dtypes: float64(3), int64(35), object(43)\n",
      "memory usage: 924.0+ KB\n"
     ]
    }
   ],
   "source": [
    "df.info()"
   ]
  },
  {
   "cell_type": "code",
   "execution_count": 807,
   "metadata": {
    "id": "FEoD-4Wimyuk"
   },
   "outputs": [
    {
     "data": {
      "text/plain": [
       "'Id, MSSubClass, LotFrontage, LotArea, OverallQual, OverallCond, YearBuilt, YearRemodAdd, MasVnrArea, BsmtFinSF1, BsmtFinSF2, BsmtUnfSF, TotalBsmtSF, 1stFlrSF, 2ndFlrSF, LowQualFinSF, GrLivArea, BsmtFullBath, BsmtHalfBath, FullBath, HalfBath, BedroomAbvGr, KitchenAbvGr, TotRmsAbvGrd, Fireplaces, GarageYrBlt, GarageCars, GarageArea, WoodDeckSF, OpenPorchSF, EnclosedPorch, 3SsnPorch, ScreenPorch, PoolArea, MiscVal, MoSold, YrSold, SalePrice'"
      ]
     },
     "execution_count": 807,
     "metadata": {},
     "output_type": "execute_result"
    }
   ],
   "source": [
    "#Tạo danh sách các cột kiểu số \n",
    "numbers = [f for f in df.columns if df.dtypes[f] != 'object'] # Quantitative: # du lieu kieu so\n",
    "list_nums = ', '.join(numbers)\n",
    "list_nums"
   ]
  },
  {
   "cell_type": "code",
   "execution_count": 808,
   "metadata": {
    "id": "OwKi8Wo-myuq"
   },
   "outputs": [
    {
     "data": {
      "text/plain": [
       "'MSZoning, Street, Alley, LotShape, LandContour, Utilities, LotConfig, LandSlope, Neighborhood, Condition1, Condition2, BldgType, HouseStyle, RoofStyle, RoofMatl, Exterior1st, Exterior2nd, MasVnrType, ExterQual, ExterCond, Foundation, BsmtQual, BsmtCond, BsmtExposure, BsmtFinType1, BsmtFinType2, Heating, HeatingQC, CentralAir, Electrical, KitchenQual, Functional, FireplaceQu, GarageType, GarageFinish, GarageQual, GarageCond, PavedDrive, PoolQC, Fence, MiscFeature, SaleType, SaleCondition'"
      ]
     },
     "execution_count": 808,
     "metadata": {},
     "output_type": "execute_result"
    }
   ],
   "source": [
    "# Tạo danh sách cột kiểu chuỗi\n",
    "objects = [f for f in df.columns if df.dtypes[f] == 'object'] # Qualitative : # du lieu kieu chuoi\n",
    "list_obj = ', '.join(objects)\n",
    "list_obj"
   ]
  },
  {
   "cell_type": "code",
   "execution_count": 809,
   "metadata": {
    "id": "i6qv61ptmyuu"
   },
   "outputs": [
    {
     "name": "stdout",
     "output_type": "stream",
     "text": [
      "1 / MSZoning \t 5 : ['RL' 'RM' 'C (all)' 'FV' 'RH']\n",
      "2 / Street \t 2 : ['Pave' 'Grvl']\n",
      "3 / Alley \t 3 : [nan 'Grvl' 'Pave']\n",
      "4 / LotShape \t 4 : ['Reg' 'IR1' 'IR2' 'IR3']\n",
      "5 / LandContour \t 4 : ['Lvl' 'Bnk' 'Low' 'HLS']\n",
      "6 / Utilities \t 2 : ['AllPub' 'NoSeWa']\n",
      "7 / LotConfig \t 5 : ['Inside' 'FR2' 'Corner' 'CulDSac' 'FR3']\n",
      "8 / LandSlope \t 3 : ['Gtl' 'Mod' 'Sev']\n",
      "9 / Neighborhood \t 25 : ['CollgCr' 'Veenker' 'Crawfor' 'NoRidge' 'Mitchel' 'Somerst' 'NWAmes'\n",
      " 'OldTown' 'BrkSide' 'Sawyer' 'NridgHt' 'NAmes' 'SawyerW' 'IDOTRR'\n",
      " 'MeadowV' 'Edwards' 'Timber' 'Gilbert' 'StoneBr' 'ClearCr' 'NPkVill'\n",
      " 'Blmngtn' 'BrDale' 'SWISU' 'Blueste']\n",
      "10 / Condition1 \t 9 : ['Norm' 'Feedr' 'PosN' 'Artery' 'RRAe' 'RRNn' 'RRAn' 'PosA' 'RRNe']\n",
      "11 / Condition2 \t 8 : ['Norm' 'Artery' 'RRNn' 'Feedr' 'PosN' 'PosA' 'RRAn' 'RRAe']\n",
      "12 / BldgType \t 5 : ['1Fam' '2fmCon' 'Duplex' 'TwnhsE' 'Twnhs']\n",
      "13 / HouseStyle \t 8 : ['2Story' '1Story' '1.5Fin' '1.5Unf' 'SFoyer' 'SLvl' '2.5Unf' '2.5Fin']\n",
      "14 / RoofStyle \t 6 : ['Gable' 'Hip' 'Gambrel' 'Mansard' 'Flat' 'Shed']\n",
      "15 / RoofMatl \t 8 : ['CompShg' 'WdShngl' 'Metal' 'WdShake' 'Membran' 'Tar&Grv' 'Roll'\n",
      " 'ClyTile']\n",
      "16 / Exterior1st \t 15 : ['VinylSd' 'MetalSd' 'Wd Sdng' 'HdBoard' 'BrkFace' 'WdShing' 'CemntBd'\n",
      " 'Plywood' 'AsbShng' 'Stucco' 'BrkComm' 'AsphShn' 'Stone' 'ImStucc'\n",
      " 'CBlock']\n",
      "17 / Exterior2nd \t 16 : ['VinylSd' 'MetalSd' 'Wd Shng' 'HdBoard' 'Plywood' 'Wd Sdng' 'CmentBd'\n",
      " 'BrkFace' 'Stucco' 'AsbShng' 'Brk Cmn' 'ImStucc' 'AsphShn' 'Stone'\n",
      " 'Other' 'CBlock']\n",
      "18 / MasVnrType \t 5 : ['BrkFace' 'None' 'Stone' 'BrkCmn' nan]\n",
      "19 / ExterQual \t 4 : ['Gd' 'TA' 'Ex' 'Fa']\n",
      "20 / ExterCond \t 5 : ['TA' 'Gd' 'Fa' 'Po' 'Ex']\n",
      "21 / Foundation \t 6 : ['PConc' 'CBlock' 'BrkTil' 'Wood' 'Slab' 'Stone']\n",
      "22 / BsmtQual \t 5 : ['Gd' 'TA' 'Ex' nan 'Fa']\n",
      "23 / BsmtCond \t 5 : ['TA' 'Gd' nan 'Fa' 'Po']\n",
      "24 / BsmtExposure \t 5 : ['No' 'Gd' 'Mn' 'Av' nan]\n",
      "25 / BsmtFinType1 \t 7 : ['GLQ' 'ALQ' 'Unf' 'Rec' 'BLQ' nan 'LwQ']\n",
      "26 / BsmtFinType2 \t 7 : ['Unf' 'BLQ' nan 'ALQ' 'Rec' 'LwQ' 'GLQ']\n",
      "27 / Heating \t 6 : ['GasA' 'GasW' 'Grav' 'Wall' 'OthW' 'Floor']\n",
      "28 / HeatingQC \t 5 : ['Ex' 'Gd' 'TA' 'Fa' 'Po']\n",
      "29 / CentralAir \t 2 : ['Y' 'N']\n",
      "30 / Electrical \t 6 : ['SBrkr' 'FuseF' 'FuseA' 'FuseP' 'Mix' nan]\n",
      "31 / KitchenQual \t 4 : ['Gd' 'TA' 'Ex' 'Fa']\n",
      "32 / Functional \t 7 : ['Typ' 'Min1' 'Maj1' 'Min2' 'Mod' 'Maj2' 'Sev']\n",
      "33 / FireplaceQu \t 6 : [nan 'TA' 'Gd' 'Fa' 'Ex' 'Po']\n",
      "34 / GarageType \t 7 : ['Attchd' 'Detchd' 'BuiltIn' 'CarPort' nan 'Basment' '2Types']\n",
      "35 / GarageFinish \t 4 : ['RFn' 'Unf' 'Fin' nan]\n",
      "36 / GarageQual \t 6 : ['TA' 'Fa' 'Gd' nan 'Ex' 'Po']\n",
      "37 / GarageCond \t 6 : ['TA' 'Fa' nan 'Gd' 'Po' 'Ex']\n",
      "38 / PavedDrive \t 3 : ['Y' 'N' 'P']\n",
      "39 / PoolQC \t 4 : [nan 'Ex' 'Fa' 'Gd']\n",
      "40 / Fence \t 5 : [nan 'MnPrv' 'GdWo' 'GdPrv' 'MnWw']\n",
      "41 / MiscFeature \t 5 : [nan 'Shed' 'Gar2' 'Othr' 'TenC']\n",
      "42 / SaleType \t 9 : ['WD' 'New' 'COD' 'ConLD' 'ConLI' 'CWD' 'ConLw' 'Con' 'Oth']\n",
      "43 / SaleCondition \t 6 : ['Normal' 'Abnorml' 'Partial' 'AdjLand' 'Alloca' 'Family']\n"
     ]
    }
   ],
   "source": [
    "# Categorical: \n",
    "# Duyệt qua các biến chuỗi, in ra các giá trị có trong mỗi biến -->  xem xet cac bien phan loai kieu chuoi\n",
    "# Với kết quả in ra, xác định các biến kiểu số thuộc loại Categorical \n",
    "i = 1\n",
    "for obj in objects:\n",
    "    print(i, \"/\", obj, \"\\t\",len(df[obj].unique()),\":\", df[obj].unique())\n",
    "    i = i+1"
   ]
  },
  {
   "cell_type": "code",
   "execution_count": 810,
   "metadata": {
    "id": "MpPizRLQmyuw"
   },
   "outputs": [
    {
     "name": "stdout",
     "output_type": "stream",
     "text": [
      "1 / Id \t 1460 : \n",
      "2 / MSSubClass \t 15 : [ 60  20  70  50 190  45  90 120  30  85  80 160  75 180  40]\n",
      "3 / LotFrontage \t 111 : [ 65.  80.  68.  60.  84.  85.  75.  nan  51.  50.  70.  91.  72.  66.\n",
      " 101.  57.  44. 110.  98.  47. 108. 112.  74. 115.  61.  48.  33.  52.\n",
      " 100.  24.  89.  63.  76.  81.  95.  69.  21.  32.  78. 121. 122.  40.\n",
      " 105.  73.  77.  64.  94.  34.  90.  55.  88.  82.  71. 120. 107.  92.\n",
      " 134.  62.  86. 141.  97.  54.  41.  79. 174.  99.  67.  83.  43. 103.\n",
      "  93.  30. 129. 140.  35.  37. 118.  87. 116. 150. 111.  49.  96.  59.\n",
      "  36.  56. 102.  58.  38. 109. 130.  53. 137.  45. 106. 104.  42.  39.\n",
      " 144. 114. 128. 149. 313. 168. 182. 138. 160. 152. 124. 153.  46.]\n",
      "4 / LotArea \t 1073 : \n",
      "5 / OverallQual \t 10 : [ 7  6  8  5  9  4 10  3  1  2]\n",
      "6 / OverallCond \t 9 : [5 8 6 7 4 2 3 9 1]\n",
      "7 / YearBuilt \t 112 : [2003 1976 2001 1915 2000 1993 2004 1973 1931 1939 1965 2005 1962 2006\n",
      " 1960 1929 1970 1967 1958 1930 2002 1968 2007 1951 1957 1927 1920 1966\n",
      " 1959 1994 1954 1953 1955 1983 1975 1997 1934 1963 1981 1964 1999 1972\n",
      " 1921 1945 1982 1998 1956 1948 1910 1995 1991 2009 1950 1961 1977 1985\n",
      " 1979 1885 1919 1990 1969 1935 1988 1971 1952 1936 1923 1924 1984 1926\n",
      " 1940 1941 1987 1986 2008 1908 1892 1916 1932 1918 1912 1947 1925 1900\n",
      " 1980 1989 1992 1949 1880 1928 1978 1922 1996 2010 1946 1913 1937 1942\n",
      " 1938 1974 1893 1914 1906 1890 1898 1904 1882 1875 1911 1917 1872 1905]\n",
      "8 / YearRemodAdd \t 61 : [2003 1976 2002 1970 2000 1995 2005 1973 1950 1965 2006 1962 2007 1960\n",
      " 2001 1967 2004 2008 1997 1959 1990 1955 1983 1980 1966 1963 1987 1964\n",
      " 1972 1996 1998 1989 1953 1956 1968 1981 1992 2009 1982 1961 1993 1999\n",
      " 1985 1979 1977 1969 1958 1991 1971 1952 1975 2010 1984 1986 1994 1988\n",
      " 1954 1957 1951 1978 1974]\n",
      "9 / MasVnrArea \t 328 : \n",
      "10 / BsmtFinSF1 \t 637 : \n",
      "11 / BsmtFinSF2 \t 144 : \n",
      "12 / BsmtUnfSF \t 780 : \n",
      "13 / TotalBsmtSF \t 721 : \n",
      "14 / 1stFlrSF \t 753 : \n",
      "15 / 2ndFlrSF \t 417 : \n",
      "16 / LowQualFinSF \t 24 : [  0 360 513 234 528 572 144 392 371 390 420 473 156 515  80  53 232 481\n",
      " 120 514 397 479 205 384]\n",
      "17 / GrLivArea \t 861 : \n",
      "18 / BsmtFullBath \t 4 : [1 0 2 3]\n",
      "19 / BsmtHalfBath \t 3 : [0 1 2]\n",
      "20 / FullBath \t 4 : [2 1 3 0]\n",
      "21 / HalfBath \t 3 : [1 0 2]\n",
      "22 / BedroomAbvGr \t 8 : [3 4 1 2 0 5 6 8]\n",
      "23 / KitchenAbvGr \t 4 : [1 2 3 0]\n",
      "24 / TotRmsAbvGrd \t 12 : [ 8  6  7  9  5 11  4 10 12  3  2 14]\n",
      "25 / Fireplaces \t 4 : [0 1 2 3]\n",
      "26 / GarageYrBlt \t 98 : [2003. 1976. 2001. 1998. 2000. 1993. 2004. 1973. 1931. 1939. 1965. 2005.\n",
      " 1962. 2006. 1960. 1991. 1970. 1967. 1958. 1930. 2002. 1968. 2007. 2008.\n",
      " 1957. 1920. 1966. 1959. 1995. 1954. 1953.   nan 1983. 1977. 1997. 1985.\n",
      " 1963. 1981. 1964. 1999. 1935. 1990. 1945. 1987. 1989. 1915. 1956. 1948.\n",
      " 1974. 2009. 1950. 1961. 1921. 1900. 1979. 1951. 1969. 1936. 1975. 1971.\n",
      " 1923. 1984. 1926. 1955. 1986. 1988. 1916. 1932. 1972. 1918. 1980. 1924.\n",
      " 1996. 1940. 1949. 1994. 1910. 1978. 1982. 1992. 1925. 1941. 2010. 1927.\n",
      " 1947. 1937. 1942. 1938. 1952. 1928. 1922. 1934. 1906. 1914. 1946. 1908.\n",
      " 1929. 1933.]\n",
      "27 / GarageCars \t 5 : [2 3 1 0 4]\n",
      "28 / GarageArea \t 441 : \n",
      "29 / WoodDeckSF \t 274 : \n",
      "30 / OpenPorchSF \t 202 : \n",
      "31 / EnclosedPorch \t 120 : \n",
      "32 / 3SsnPorch \t 20 : [  0 320 407 130 180 168 140 508 238 245 196 144 182 162  23 216  96 153\n",
      " 290 304]\n",
      "33 / ScreenPorch \t 76 : [  0 176 198 291 252  99 184 168 130 142 192 410 224 266 170 154 153 144\n",
      " 128 259 160 271 234 374 185 182  90 396 140 276 180 161 145 200 122  95\n",
      " 120  60 126 189 260 147 385 287 156 100 216 210 197 204 225 152 175 312\n",
      " 222 265 322 190 233  63  53 143 273 288 263  80 163 116 480 178 440 155\n",
      " 220 119 165  40]\n",
      "34 / PoolArea \t 8 : [  0 512 648 576 555 480 519 738]\n",
      "35 / MiscVal \t 21 : [    0   700   350   500   400   480   450 15500  1200   800  2000   600\n",
      "  3500  1300    54   620   560  1400  8300  1150  2500]\n",
      "36 / MoSold \t 12 : [ 2  5  9 12 10  8 11  4  1  7  3  6]\n",
      "37 / YrSold \t 5 : [2008 2007 2006 2009 2010]\n",
      "38 / SalePrice \t 663 : \n"
     ]
    }
   ],
   "source": [
    "# Duyệt qua các biến kiểu số in ra các giá trị phân biệt có trong cột (chỉ in các giá trị khi số giá trị phân biệt nhỏ hơn 120)\n",
    "# Với kết quả in ra, xác định các biến kiểu số thuộc loại Categorical \n",
    "i = 1\n",
    "for obj in numbers:\n",
    "    print(i, \"/\", obj, \"\\t\",len(df[obj].unique()),\":\", df[obj].unique() if len(df[obj].unique())<120 else '')\n",
    "    i = i+1"
   ]
  },
  {
   "cell_type": "code",
   "execution_count": 811,
   "metadata": {
    "id": "iHyAi1nCmyuz"
   },
   "outputs": [],
   "source": [
    "#- Quan sát 2 kết quả trên để kết luận, xác định tập features. Trong phần tiếp theo giả sử chúng ta chỉ làm việc với các \n",
    "# features = 'LotArea', 'YearBuilt', '1stFlrSF', '2ndFlrSF', 'FullBath', 'BedroomAbvGr', 'TotRmsAbvGrd'   "
   ]
  },
  {
   "cell_type": "markdown",
   "metadata": {
    "id": "5KEUxcHgmyu1"
   },
   "source": [
    "## 2. Phân tích đơn biến"
   ]
  },
  {
   "cell_type": "code",
   "execution_count": 812,
   "metadata": {
    "id": "TGnJBb_Hmyu2"
   },
   "outputs": [],
   "source": [
    "features = ['LotArea', 'YearBuilt', '1stFlrSF', '2ndFlrSF', 'FullBath', 'BedroomAbvGr', 'TotRmsAbvGrd']"
   ]
  },
  {
   "cell_type": "markdown",
   "metadata": {
    "id": "rqti4nOY3thP"
   },
   "source": [
    "### 2.1. Với mỗi biến continuous. Hãy thực hiện các yêu cầu sau: \n",
    "- Vẽ đồ thị gồm 2 phần: histogram và boxplot của biến.\n",
    "- Tìm mean, mode, độ nghiêng, độ nhọn  --> Nhận xét có phân phối chuẩn không.\n",
    "- Nếu không phải phân phối chuẩn: xác định Q1, Q3, IQR, Oulier Upper, Outlier Lower\n",
    "  Nếu là phân phối chuẩn: xác định Oulier Upper, Outlier Lower theo Z-score\n",
    "- Xác định tập dữ  outlier trên và dưới. \n",
    "- Kiểm tra nếu tổng số các outlier nhỏ hơn 5% số phần tử tổng thể thì -->  xóa các outlier này khỏi tập dữ liệu. \n",
    "#### Danh sách các biến Continuous cần thực hiện\n",
    "- LotArea\n",
    "- 1stFlrSF\n",
    "- 2ndFlrSF"
   ]
  },
  {
   "cell_type": "code",
   "execution_count": 813,
   "metadata": {},
   "outputs": [
    {
     "data": {
      "text/html": [
       "<div>\n",
       "<style scoped>\n",
       "    .dataframe tbody tr th:only-of-type {\n",
       "        vertical-align: middle;\n",
       "    }\n",
       "\n",
       "    .dataframe tbody tr th {\n",
       "        vertical-align: top;\n",
       "    }\n",
       "\n",
       "    .dataframe thead th {\n",
       "        text-align: right;\n",
       "    }\n",
       "</style>\n",
       "<table border=\"1\" class=\"dataframe\">\n",
       "  <thead>\n",
       "    <tr style=\"text-align: right;\">\n",
       "      <th></th>\n",
       "      <th>LotArea</th>\n",
       "      <th>1stFlrSF</th>\n",
       "      <th>2ndFlrSF</th>\n",
       "    </tr>\n",
       "  </thead>\n",
       "  <tbody>\n",
       "    <tr>\n",
       "      <th>0</th>\n",
       "      <td>8450</td>\n",
       "      <td>856</td>\n",
       "      <td>854</td>\n",
       "    </tr>\n",
       "    <tr>\n",
       "      <th>1</th>\n",
       "      <td>9600</td>\n",
       "      <td>1262</td>\n",
       "      <td>0</td>\n",
       "    </tr>\n",
       "    <tr>\n",
       "      <th>2</th>\n",
       "      <td>11250</td>\n",
       "      <td>920</td>\n",
       "      <td>866</td>\n",
       "    </tr>\n",
       "    <tr>\n",
       "      <th>3</th>\n",
       "      <td>9550</td>\n",
       "      <td>961</td>\n",
       "      <td>756</td>\n",
       "    </tr>\n",
       "    <tr>\n",
       "      <th>4</th>\n",
       "      <td>14260</td>\n",
       "      <td>1145</td>\n",
       "      <td>1053</td>\n",
       "    </tr>\n",
       "  </tbody>\n",
       "</table>\n",
       "</div>"
      ],
      "text/plain": [
       "   LotArea  1stFlrSF  2ndFlrSF\n",
       "0     8450       856       854\n",
       "1     9600      1262         0\n",
       "2    11250       920       866\n",
       "3     9550       961       756\n",
       "4    14260      1145      1053"
      ]
     },
     "execution_count": 813,
     "metadata": {},
     "output_type": "execute_result"
    }
   ],
   "source": [
    "features_data = df[['LotArea', '1stFlrSF', '2ndFlrSF']]\n",
    "features_data.head()"
   ]
  },
  {
   "cell_type": "code",
   "execution_count": 814,
   "metadata": {},
   "outputs": [
    {
     "data": {
      "text/plain": [
       "4380"
      ]
     },
     "execution_count": 814,
     "metadata": {},
     "output_type": "execute_result"
    }
   ],
   "source": [
    "features_data.size"
   ]
  },
  {
   "cell_type": "code",
   "execution_count": 815,
   "metadata": {},
   "outputs": [
    {
     "data": {
      "text/html": [
       "<div>\n",
       "<style scoped>\n",
       "    .dataframe tbody tr th:only-of-type {\n",
       "        vertical-align: middle;\n",
       "    }\n",
       "\n",
       "    .dataframe tbody tr th {\n",
       "        vertical-align: top;\n",
       "    }\n",
       "\n",
       "    .dataframe thead th {\n",
       "        text-align: right;\n",
       "    }\n",
       "</style>\n",
       "<table border=\"1\" class=\"dataframe\">\n",
       "  <thead>\n",
       "    <tr style=\"text-align: right;\">\n",
       "      <th></th>\n",
       "      <th>LotArea</th>\n",
       "      <th>1stFlrSF</th>\n",
       "      <th>2ndFlrSF</th>\n",
       "    </tr>\n",
       "  </thead>\n",
       "  <tbody>\n",
       "    <tr>\n",
       "      <th>count</th>\n",
       "      <td>1460.000000</td>\n",
       "      <td>1460.000000</td>\n",
       "      <td>1460.000000</td>\n",
       "    </tr>\n",
       "    <tr>\n",
       "      <th>mean</th>\n",
       "      <td>10516.828082</td>\n",
       "      <td>1162.626712</td>\n",
       "      <td>346.992466</td>\n",
       "    </tr>\n",
       "    <tr>\n",
       "      <th>std</th>\n",
       "      <td>9981.264932</td>\n",
       "      <td>386.587738</td>\n",
       "      <td>436.528436</td>\n",
       "    </tr>\n",
       "    <tr>\n",
       "      <th>min</th>\n",
       "      <td>1300.000000</td>\n",
       "      <td>334.000000</td>\n",
       "      <td>0.000000</td>\n",
       "    </tr>\n",
       "    <tr>\n",
       "      <th>25%</th>\n",
       "      <td>7553.500000</td>\n",
       "      <td>882.000000</td>\n",
       "      <td>0.000000</td>\n",
       "    </tr>\n",
       "    <tr>\n",
       "      <th>50%</th>\n",
       "      <td>9478.500000</td>\n",
       "      <td>1087.000000</td>\n",
       "      <td>0.000000</td>\n",
       "    </tr>\n",
       "    <tr>\n",
       "      <th>75%</th>\n",
       "      <td>11601.500000</td>\n",
       "      <td>1391.250000</td>\n",
       "      <td>728.000000</td>\n",
       "    </tr>\n",
       "    <tr>\n",
       "      <th>max</th>\n",
       "      <td>215245.000000</td>\n",
       "      <td>4692.000000</td>\n",
       "      <td>2065.000000</td>\n",
       "    </tr>\n",
       "  </tbody>\n",
       "</table>\n",
       "</div>"
      ],
      "text/plain": [
       "             LotArea     1stFlrSF     2ndFlrSF\n",
       "count    1460.000000  1460.000000  1460.000000\n",
       "mean    10516.828082  1162.626712   346.992466\n",
       "std      9981.264932   386.587738   436.528436\n",
       "min      1300.000000   334.000000     0.000000\n",
       "25%      7553.500000   882.000000     0.000000\n",
       "50%      9478.500000  1087.000000     0.000000\n",
       "75%     11601.500000  1391.250000   728.000000\n",
       "max    215245.000000  4692.000000  2065.000000"
      ]
     },
     "execution_count": 815,
     "metadata": {},
     "output_type": "execute_result"
    }
   ],
   "source": [
    "features_data.describe()"
   ]
  },
  {
   "cell_type": "code",
   "execution_count": 816,
   "metadata": {},
   "outputs": [],
   "source": [
    "from scipy import stats\n",
    "\n",
    "# Draw chart func\n",
    "def get_chart(data):\n",
    "    plt.figure(figsize=(20,5))\n",
    "    plt.subplot(1, 2, 1)\n",
    "    plt.hist(data)\n",
    "    plt.subplot(1, 2, 2)\n",
    "#     plt.boxplot(data)\n",
    "    sns.boxplot(data)\n",
    "    plt.show()\n",
    "\n",
    "# Get data mean, median, mode, kurtosis, skew func\n",
    "def get_info(data):\n",
    "    mean = data.mean()\n",
    "    median = data.median()\n",
    "    mode = stats.mode(data)\n",
    "    skew = stats.skew(data)\n",
    "    kurtosis = stats.kurtosis(data)\n",
    "    print('Median: ', median)\n",
    "    print('Mean: ', mean)\n",
    "    print('Mode: ', mode)\n",
    "    print('Skew: ', skew)\n",
    "    print('Kurtosis: ', kurtosis)\n",
    "    print(DIVIDER)\n",
    "\n",
    "# Find outliers for normal distribution func\n",
    "def get_outliers_normal_dist(data):\n",
    "    data_zscores = stats.zscore(data)\n",
    "    upper_outliers = data_zscores[[n >= 2.5 for n in data_zscores]]\n",
    "    lower_outliers = data_zscores[[n <= -2.5 for n in data_zscores]]\n",
    "    upper_indexes = [data_zscores.tolist().index(i) for i in upper_outliers]\n",
    "    lower_indexes = [data_zscores.tolist().index(i) for i in lower_outliers]\n",
    "    print(\"Upper outliers: \", data[upper_indexes])\n",
    "    print(\"Lower outliers: \", data[lower_indexes])\n",
    "    five_percent = 0.05 * data.size\n",
    "    if (upper_outliers.size + lower_outliers.size) < five_percent:\n",
    "        drop_indexes = [*upper_indexes, *lower_indexes]\n",
    "        data.drop(drop_indexes, inplace=True)\n",
    "        print('After size: ', data.size)\n",
    "    sns.boxplot(data)\n",
    "    \n",
    "# Find outliers for non-normal-distribution func\n",
    "def get_outliers_non_normal_dist(data):\n",
    "    original_size = data.size\n",
    "    percentiles = np.array([25, 75])\n",
    "    Q1, Q3 = np.percentile(data, percentiles)\n",
    "    IQR = Q3 - Q1\n",
    "    upper = Q3 + (1.5 * IQR)\n",
    "    lower = Q1 - (1.5 * IQR)\n",
    "    print (f'Q1, Q3, IQR: {Q1}, {Q3}, {IQR}')\n",
    "    upper_outliers = data.loc[lambda x: x > upper]\n",
    "    print(DIVIDER)\n",
    "    lower_outliers = data.loc[lambda x: x < lower]\n",
    "    print('Upper outliers: ', upper_outliers)\n",
    "    print(DIVIDER)\n",
    "    print('Lower outliers: ', lower_outliers)\n",
    "    print(DIVIDER)\n",
    "    five_percent = 0.05 * data.size\n",
    "    if (upper_outliers.size + lower_outliers.size) < five_percent:\n",
    "        print('Number of outliers exceeds 5% of total data, lets drop them!.')\n",
    "        drop_indexes = [*upper_outliers.index, *lower_outliers.index]\n",
    "        data.drop(drop_indexes, inplace=True)\n",
    "        print(f'Original data size: {original_size}. After drop outliers data size: {data.size}')\n",
    "    sns.boxplot(data)\n",
    "    \n",
    "    "
   ]
  },
  {
   "cell_type": "code",
   "execution_count": 817,
   "metadata": {},
   "outputs": [
    {
     "data": {
      "image/png": "[encoded data removed]",
      "text/plain": [
       "<Figure size 1440x360 with 2 Axes>"
      ]
     },
     "metadata": {
      "needs_background": "light"
     },
     "output_type": "display_data"
    },
    {
     "name": "stdout",
     "output_type": "stream",
     "text": [
      "Median:  9478.5\n",
      "Mean:  10516.828082191782\n",
      "Mode:  ModeResult(mode=array([7200]), count=array([25]))\n",
      "Skew:  12.195142125084478\n",
      "Kurtosis:  202.5437927513529\n",
      "--------------------------------------------------\n",
      "Q1, Q3, IQR: 7553.5, 11601.5, 4048.0\n",
      "--------------------------------------------------\n",
      "Upper outliers:  53      50271\n",
      "66      19900\n",
      "113     21000\n",
      "120     21453\n",
      "159     19378\n",
      "        ...  \n",
      "1396    57200\n",
      "1409    20544\n",
      "1423    19690\n",
      "1430    21930\n",
      "1446    26142\n",
      "Name: LotArea, Length: 67, dtype: int64\n",
      "--------------------------------------------------\n",
      "Lower outliers:  956     1300\n",
      "1039    1477\n",
      "Name: LotArea, dtype: int64\n",
      "--------------------------------------------------\n",
      "Number of outliers exceeds 5% of total data, lets drop them!.\n",
      "Original data size: 1460. After drop outliers data size: 1391\n"
     ]
    },
    {
     "name": "stderr",
     "output_type": "stream",
     "text": [
      "/home/code/anaconda3/lib/python3.8/site-packages/pandas/core/generic.py:3939: SettingWithCopyWarning: \n",
      "A value is trying to be set on a copy of a slice from a DataFrame\n",
      "\n",
      "See the caveats in the documentation: https://pandas.pydata.org/pandas-docs/stable/user_guide/indexing.html#returning-a-view-versus-a-copy\n",
      "  self._update_inplace(obj)\n"
     ]
    },
    {
     "data": {
      "image/png": "[encoded data removed]",
      "text/plain": [
       "<Figure size 432x288 with 1 Axes>"
      ]
     },
     "metadata": {
      "needs_background": "light"
     },
     "output_type": "display_data"
    }
   ],
   "source": [
    "# LotArea\n",
    "# Vẽ đồ thị gồm 2 phần: histogram và boxplot của biến.\n",
    "# Tìm mean, mode, độ nghiêng, độ nhọn --> Nhận xét có phân phối chuẩn không.\n",
    "# Nếu không phải phân phối chuẩn: xác định Q1, Q3, IQR, Oulier Upper, Outlier Lower Nếu là phân phối chuẩn: xác định Oulier Upper, Outlier Lower theo Z-score\n",
    "# Xác định tập dữ outlier trên và dưới.\n",
    "# Kiểm tra nếu tổng số các outlier nhỏ hơn 5% số phần tử tổng thể thì --> xóa các outlier này khỏi tập dữ liệu\n",
    "lot_area_arr = features_data['LotArea']\n",
    "get_chart(lot_area_arr)\n",
    "get_info(lot_area_arr)\n",
    "get_outliers_non_normal_dist(lot_area_arr)"
   ]
  },
  {
   "cell_type": "markdown",
   "metadata": {},
   "source": [
    "#### Nhận xét: \n",
    "- Dựa vào biểu đồ histogram.\n",
    "- Skew > 0.\n",
    "- Kurtosis > 0.\n",
    "- Vì là đơn biến, Median != Mean, Kurtosis khác Kurtosis và không gần bằng 0.\n",
    "##### => Có thể kết luận dữ liệu 'LotArea' không phải là một phân phối chuẩn."
   ]
  },
  {
   "cell_type": "code",
   "execution_count": 818,
   "metadata": {},
   "outputs": [
    {
     "data": {
      "image/png": "[encoded data removed]",
      "text/plain": [
       "<Figure size 1440x360 with 2 Axes>"
      ]
     },
     "metadata": {
      "needs_background": "light"
     },
     "output_type": "display_data"
    },
    {
     "name": "stdout",
     "output_type": "stream",
     "text": [
      "Median:  1087.0\n",
      "Mean:  1162.626712328767\n",
      "Mode:  ModeResult(mode=array([864]), count=array([25]))\n",
      "Skew:  1.3753417421837937\n",
      "Kurtosis:  5.722076026587489\n",
      "--------------------------------------------------\n",
      "Q1, Q3, IQR: 882.0, 1391.25, 509.25\n",
      "--------------------------------------------------\n",
      "Upper outliers:  66      2207\n",
      "70      2223\n",
      "113     2259\n",
      "175     2158\n",
      "178     2234\n",
      "224     2392\n",
      "440     2402\n",
      "496     3228\n",
      "523     3138\n",
      "529     2515\n",
      "691     2444\n",
      "888     2217\n",
      "898     2364\n",
      "1024    2898\n",
      "1044    2524\n",
      "1182    2411\n",
      "1205    2196\n",
      "1298    4692\n",
      "1346    2156\n",
      "1373    2633\n",
      "Name: 1stFlrSF, dtype: int64\n",
      "--------------------------------------------------\n",
      "Lower outliers:  Series([], Name: 1stFlrSF, dtype: int64)\n",
      "--------------------------------------------------\n",
      "Number of outliers exceeds 5% of total data, lets drop them!.\n",
      "Original data size: 1460. After drop outliers data size: 1440\n"
     ]
    },
    {
     "name": "stderr",
     "output_type": "stream",
     "text": [
      "/home/code/anaconda3/lib/python3.8/site-packages/pandas/core/generic.py:3939: SettingWithCopyWarning: \n",
      "A value is trying to be set on a copy of a slice from a DataFrame\n",
      "\n",
      "See the caveats in the documentation: https://pandas.pydata.org/pandas-docs/stable/user_guide/indexing.html#returning-a-view-versus-a-copy\n",
      "  self._update_inplace(obj)\n"
     ]
    },
    {
     "data": {
      "image/png": "[encoded data removed]",
      "text/plain": [
       "<Figure size 432x288 with 1 Axes>"
      ]
     },
     "metadata": {
      "needs_background": "light"
     },
     "output_type": "display_data"
    }
   ],
   "source": [
    "# 1stFlrSF\n",
    "# Vẽ đồ thị gồm 2 phần: histogram và boxplot của biến.\n",
    "# Tìm mean, mode, độ nghiêng, độ nhọn --> Nhận xét có phân phối chuẩn không.\n",
    "# Nếu không phải phân phối chuẩn: xác định Q1, Q3, IQR, Oulier Upper, Outlier Lower Nếu là phân phối chuẩn: xác định Oulier Upper, Outlier Lower theo Z-score\n",
    "# Xác định tập dữ outlier trên và dưới.\n",
    "# Kiểm tra nếu tổng số các outlier nhỏ hơn 5% số phần tử tổng thể thì --> xóa các outlier này khỏi tập dữ liệu\n",
    "firstFlrSF_arr = features_data['1stFlrSF']\n",
    "get_chart(firstFlrSF_arr)\n",
    "get_info(firstFlrSF_arr)\n",
    "get_outliers_non_normal_dist(firstFlrSF_arr)"
   ]
  },
  {
   "cell_type": "markdown",
   "metadata": {},
   "source": [
    "#### Nhận xét: \n",
    "- Dựa vào biểu đồ histogram.\n",
    "- Skew > 0.\n",
    "- Kurtosis > 0.\n",
    "- Vì là đơn biến, Median != Mean, Kurtosis khác Kurtosis và không gần bằng 0.\n",
    "##### => Có thể kết luận dữ liệu '1stFlrSF' không phải là một phân phối chuẩn."
   ]
  },
  {
   "cell_type": "code",
   "execution_count": 819,
   "metadata": {},
   "outputs": [
    {
     "data": {
      "image/png": "[encoded data removed]",
      "text/plain": [
       "<Figure size 1440x360 with 2 Axes>"
      ]
     },
     "metadata": {
      "needs_background": "light"
     },
     "output_type": "display_data"
    },
    {
     "name": "stdout",
     "output_type": "stream",
     "text": [
      "Median:  0.0\n",
      "Mean:  346.99246575342465\n",
      "Mode:  ModeResult(mode=array([0]), count=array([829]))\n",
      "Skew:  0.8121942731961613\n",
      "Kurtosis:  -0.5556767272864769\n",
      "--------------------------------------------------\n",
      "Q1, Q3, IQR: 0.0, 728.0, 728.0\n",
      "--------------------------------------------------\n",
      "Upper outliers:  691     1872\n",
      "1182    2065\n",
      "Name: 2ndFlrSF, dtype: int64\n",
      "--------------------------------------------------\n",
      "Lower outliers:  Series([], Name: 2ndFlrSF, dtype: int64)\n",
      "--------------------------------------------------\n",
      "Number of outliers exceeds 5% of total data, lets drop them!.\n",
      "Original data size: 1460. After drop outliers data size: 1458\n"
     ]
    },
    {
     "name": "stderr",
     "output_type": "stream",
     "text": [
      "/home/code/anaconda3/lib/python3.8/site-packages/pandas/core/generic.py:3939: SettingWithCopyWarning: \n",
      "A value is trying to be set on a copy of a slice from a DataFrame\n",
      "\n",
      "See the caveats in the documentation: https://pandas.pydata.org/pandas-docs/stable/user_guide/indexing.html#returning-a-view-versus-a-copy\n",
      "  self._update_inplace(obj)\n"
     ]
    },
    {
     "data": {
      "image/png": "[encoded data removed]",
      "text/plain": [
       "<Figure size 432x288 with 1 Axes>"
      ]
     },
     "metadata": {
      "needs_background": "light"
     },
     "output_type": "display_data"
    }
   ],
   "source": [
    "# 2ndFlrSF\n",
    "# Vẽ đồ thị gồm 2 phần: histogram và boxplot của biến.\n",
    "# Tìm mean, mode, độ nghiêng, độ nhọn --> Nhận xét có phân phối chuẩn không.\n",
    "# Nếu không phải phân phối chuẩn: xác định Q1, Q3, IQR, Oulier Upper, Outlier Lower Nếu là phân phối chuẩn: xác định Oulier Upper, Outlier Lower theo Z-score\n",
    "# Xác định tập dữ outlier trên và dưới.\n",
    "# Kiểm tra nếu tổng số các outlier nhỏ hơn 5% số phần tử tổng thể thì --> xóa các outlier này khỏi tập dữ liệu\n",
    "secondFlrSF = features_data['2ndFlrSF']\n",
    "get_chart(secondFlrSF)\n",
    "get_info(secondFlrSF)\n",
    "get_outliers_non_normal_dist(secondFlrSF)"
   ]
  },
  {
   "cell_type": "markdown",
   "metadata": {},
   "source": [
    "#### Nhận xét: \n",
    "- Dựa vào biểu đồ histogram.\n",
    "- Skew > 0.\n",
    "- Kurtosis > 0.\n",
    "- Vì là đơn biến, Median != Mean, Kurtosis khác Kurtosis và không gần bằng 0.\n",
    "##### => Có thể kết luận dữ liệu '2ndFlrSF' không phải là một phân phối chuẩn."
   ]
  },
  {
   "cell_type": "markdown",
   "metadata": {
    "id": "ClJLNh8gmyvm"
   },
   "source": [
    "### 2.2. Với mỗi biến categorical hãy thực hiện các yêu cầu sau:\n",
    "- Sử dụng groupby, count để đếm số các giá trị phân biệt có trong biến\n",
    "- Vẽ đồ thị dạng bar plot với các dữ liệu nhận được. Nhận xét. \n",
    "\n",
    "#### Categorical Variables\n",
    "- FullBath\n",
    "- BedroomAbvGr\n",
    "- TotRmsAbvGrd"
   ]
  },
  {
   "cell_type": "code",
   "execution_count": 820,
   "metadata": {},
   "outputs": [
    {
     "data": {
      "text/html": [
       "<div>\n",
       "<style scoped>\n",
       "    .dataframe tbody tr th:only-of-type {\n",
       "        vertical-align: middle;\n",
       "    }\n",
       "\n",
       "    .dataframe tbody tr th {\n",
       "        vertical-align: top;\n",
       "    }\n",
       "\n",
       "    .dataframe thead th {\n",
       "        text-align: right;\n",
       "    }\n",
       "</style>\n",
       "<table border=\"1\" class=\"dataframe\">\n",
       "  <thead>\n",
       "    <tr style=\"text-align: right;\">\n",
       "      <th></th>\n",
       "      <th>FullBath</th>\n",
       "      <th>BedroomAbvGr</th>\n",
       "      <th>TotRmsAbvGrd</th>\n",
       "    </tr>\n",
       "  </thead>\n",
       "  <tbody>\n",
       "    <tr>\n",
       "      <th>0</th>\n",
       "      <td>2</td>\n",
       "      <td>3</td>\n",
       "      <td>8</td>\n",
       "    </tr>\n",
       "    <tr>\n",
       "      <th>1</th>\n",
       "      <td>2</td>\n",
       "      <td>3</td>\n",
       "      <td>6</td>\n",
       "    </tr>\n",
       "    <tr>\n",
       "      <th>2</th>\n",
       "      <td>2</td>\n",
       "      <td>3</td>\n",
       "      <td>6</td>\n",
       "    </tr>\n",
       "    <tr>\n",
       "      <th>3</th>\n",
       "      <td>1</td>\n",
       "      <td>3</td>\n",
       "      <td>7</td>\n",
       "    </tr>\n",
       "    <tr>\n",
       "      <th>4</th>\n",
       "      <td>2</td>\n",
       "      <td>4</td>\n",
       "      <td>9</td>\n",
       "    </tr>\n",
       "  </tbody>\n",
       "</table>\n",
       "</div>"
      ],
      "text/plain": [
       "   FullBath  BedroomAbvGr  TotRmsAbvGrd\n",
       "0         2             3             8\n",
       "1         2             3             6\n",
       "2         2             3             6\n",
       "3         1             3             7\n",
       "4         2             4             9"
      ]
     },
     "execution_count": 820,
     "metadata": {},
     "output_type": "execute_result"
    }
   ],
   "source": [
    "categorical_features = ['FullBath', 'BedroomAbvGr', 'TotRmsAbvGrd']\n",
    "df_categoricals = df[categorical_features]\n",
    "df_categoricals.head()"
   ]
  },
  {
   "cell_type": "code",
   "execution_count": 821,
   "metadata": {},
   "outputs": [
    {
     "data": {
      "text/plain": [
       "4380"
      ]
     },
     "execution_count": 821,
     "metadata": {},
     "output_type": "execute_result"
    }
   ],
   "source": [
    "df_categoricals.size"
   ]
  },
  {
   "cell_type": "code",
   "execution_count": 822,
   "metadata": {},
   "outputs": [
    {
     "data": {
      "text/html": [
       "<div>\n",
       "<style scoped>\n",
       "    .dataframe tbody tr th:only-of-type {\n",
       "        vertical-align: middle;\n",
       "    }\n",
       "\n",
       "    .dataframe tbody tr th {\n",
       "        vertical-align: top;\n",
       "    }\n",
       "\n",
       "    .dataframe thead th {\n",
       "        text-align: right;\n",
       "    }\n",
       "</style>\n",
       "<table border=\"1\" class=\"dataframe\">\n",
       "  <thead>\n",
       "    <tr style=\"text-align: right;\">\n",
       "      <th></th>\n",
       "      <th>FullBath</th>\n",
       "      <th>BedroomAbvGr</th>\n",
       "      <th>TotRmsAbvGrd</th>\n",
       "    </tr>\n",
       "  </thead>\n",
       "  <tbody>\n",
       "    <tr>\n",
       "      <th>count</th>\n",
       "      <td>1460.000000</td>\n",
       "      <td>1460.000000</td>\n",
       "      <td>1460.000000</td>\n",
       "    </tr>\n",
       "    <tr>\n",
       "      <th>mean</th>\n",
       "      <td>1.565068</td>\n",
       "      <td>2.866438</td>\n",
       "      <td>6.517808</td>\n",
       "    </tr>\n",
       "    <tr>\n",
       "      <th>std</th>\n",
       "      <td>0.550916</td>\n",
       "      <td>0.815778</td>\n",
       "      <td>1.625393</td>\n",
       "    </tr>\n",
       "    <tr>\n",
       "      <th>min</th>\n",
       "      <td>0.000000</td>\n",
       "      <td>0.000000</td>\n",
       "      <td>2.000000</td>\n",
       "    </tr>\n",
       "    <tr>\n",
       "      <th>25%</th>\n",
       "      <td>1.000000</td>\n",
       "      <td>2.000000</td>\n",
       "      <td>5.000000</td>\n",
       "    </tr>\n",
       "    <tr>\n",
       "      <th>50%</th>\n",
       "      <td>2.000000</td>\n",
       "      <td>3.000000</td>\n",
       "      <td>6.000000</td>\n",
       "    </tr>\n",
       "    <tr>\n",
       "      <th>75%</th>\n",
       "      <td>2.000000</td>\n",
       "      <td>3.000000</td>\n",
       "      <td>7.000000</td>\n",
       "    </tr>\n",
       "    <tr>\n",
       "      <th>max</th>\n",
       "      <td>3.000000</td>\n",
       "      <td>8.000000</td>\n",
       "      <td>14.000000</td>\n",
       "    </tr>\n",
       "  </tbody>\n",
       "</table>\n",
       "</div>"
      ],
      "text/plain": [
       "          FullBath  BedroomAbvGr  TotRmsAbvGrd\n",
       "count  1460.000000   1460.000000   1460.000000\n",
       "mean      1.565068      2.866438      6.517808\n",
       "std       0.550916      0.815778      1.625393\n",
       "min       0.000000      0.000000      2.000000\n",
       "25%       1.000000      2.000000      5.000000\n",
       "50%       2.000000      3.000000      6.000000\n",
       "75%       2.000000      3.000000      7.000000\n",
       "max       3.000000      8.000000     14.000000"
      ]
     },
     "execution_count": 822,
     "metadata": {},
     "output_type": "execute_result"
    }
   ],
   "source": [
    "df_categoricals.describe()"
   ]
  },
  {
   "cell_type": "code",
   "execution_count": 823,
   "metadata": {},
   "outputs": [
    {
     "name": "stdout",
     "output_type": "stream",
     "text": [
      "<class 'pandas.core.frame.DataFrame'>\n",
      "RangeIndex: 1460 entries, 0 to 1459\n",
      "Data columns (total 3 columns):\n",
      " #   Column        Non-Null Count  Dtype\n",
      "---  ------        --------------  -----\n",
      " 0   FullBath      1460 non-null   int64\n",
      " 1   BedroomAbvGr  1460 non-null   int64\n",
      " 2   TotRmsAbvGrd  1460 non-null   int64\n",
      "dtypes: int64(3)\n",
      "memory usage: 34.3 KB\n"
     ]
    }
   ],
   "source": [
    "df_categoricals.info()"
   ]
  },
  {
   "cell_type": "code",
   "execution_count": 824,
   "metadata": {},
   "outputs": [],
   "source": [
    "def categorical_data_info(column_name):\n",
    "    distinct_values = df_categoricals.groupby(column_name)[column_name].value_counts()\n",
    "    print(distinct_values)\n",
    "    print(DIVIDER)\n",
    "    print('Number of distinct values in data: ', distinct_values.count())\n",
    "    print(DIVIDER)\n",
    "    plt.figure(figsize=(10,8))\n",
    "    sns.barplot(x=column_name, y=df_categoricals.index, data=df_categoricals)\n",
    "    plt.show()\n",
    "    "
   ]
  },
  {
   "cell_type": "code",
   "execution_count": 825,
   "metadata": {},
   "outputs": [
    {
     "name": "stdout",
     "output_type": "stream",
     "text": [
      "FullBath  FullBath\n",
      "0         0             9\n",
      "1         1           650\n",
      "2         2           768\n",
      "3         3            33\n",
      "Name: FullBath, dtype: int64\n",
      "--------------------------------------------------\n",
      "Number of distinct values in data:  4\n",
      "--------------------------------------------------\n"
     ]
    },
    {
     "data": {
      "image/png": "[encoded data removed]",
      "text/plain": [
       "<Figure size 720x576 with 1 Axes>"
      ]
     },
     "metadata": {
      "needs_background": "light"
     },
     "output_type": "display_data"
    }
   ],
   "source": [
    "# FullBath\n",
    "# Sử dụng groupby, count để đếm số các giá trị phân biệt có trong biến\n",
    "# Vẽ đồ thị dạng bar plot với các dữ liệu nhận được. Nhận xét.\n",
    "categorical_data_info('FullBath')"
   ]
  },
  {
   "cell_type": "code",
   "execution_count": 826,
   "metadata": {},
   "outputs": [
    {
     "name": "stdout",
     "output_type": "stream",
     "text": [
      "BedroomAbvGr  BedroomAbvGr\n",
      "0             0                 6\n",
      "1             1                50\n",
      "2             2               358\n",
      "3             3               804\n",
      "4             4               213\n",
      "5             5                21\n",
      "6             6                 7\n",
      "8             8                 1\n",
      "Name: BedroomAbvGr, dtype: int64\n",
      "--------------------------------------------------\n",
      "Number of distinct values in data:  8\n",
      "--------------------------------------------------\n"
     ]
    },
    {
     "data": {
      "image/png": "[encoded data removed]",
      "text/plain": [
       "<Figure size 720x576 with 1 Axes>"
      ]
     },
     "metadata": {
      "needs_background": "light"
     },
     "output_type": "display_data"
    }
   ],
   "source": [
    "# BedroomAbvGr\n",
    "# Sử dụng groupby, count để đếm số các giá trị phân biệt có trong biến\n",
    "# Vẽ đồ thị dạng bar plot với các dữ liệu nhận được. Nhận xét.\n",
    "categorical_data_info('BedroomAbvGr')"
   ]
  },
  {
   "cell_type": "code",
   "execution_count": 827,
   "metadata": {},
   "outputs": [
    {
     "name": "stdout",
     "output_type": "stream",
     "text": [
      "TotRmsAbvGrd  TotRmsAbvGrd\n",
      "2             2                 1\n",
      "3             3                17\n",
      "4             4                97\n",
      "5             5               275\n",
      "6             6               402\n",
      "7             7               329\n",
      "8             8               187\n",
      "9             9                75\n",
      "10            10               47\n",
      "11            11               18\n",
      "12            12               11\n",
      "14            14                1\n",
      "Name: TotRmsAbvGrd, dtype: int64\n",
      "--------------------------------------------------\n",
      "Number of distinct values in data:  12\n",
      "--------------------------------------------------\n"
     ]
    },
    {
     "data": {
      "image/png": "[encoded data removed]",
      "text/plain": [
       "<Figure size 720x576 with 1 Axes>"
      ]
     },
     "metadata": {
      "needs_background": "light"
     },
     "output_type": "display_data"
    }
   ],
   "source": [
    "# TotRmsAbvGrd\n",
    "# Sử dụng groupby, count để đếm số các giá trị phân biệt có trong biến\n",
    "# Vẽ đồ thị dạng bar plot với các dữ liệu nhận được. Nhận xét.\n",
    "categorical_data_info('TotRmsAbvGrd')"
   ]
  },
  {
   "cell_type": "markdown",
   "metadata": {
    "id": "Xjgqk-eJmyv3"
   },
   "source": [
    "## 3. Phân tích hai biến\n",
    "### Continuous & Continous\n",
    "- Sử dụng pairplot để vẽ dữ liệu có trong 3 biến ['LotArea', '1stFlrSF', '2ndFlrSF]\n",
    "- Sử dụng hàm corr để tính độ tương quan của 3 biến này.\n",
    "- Nhận xét mối liên hệ giữa các biến"
   ]
  },
  {
   "cell_type": "code",
   "execution_count": 828,
   "metadata": {},
   "outputs": [
    {
     "data": {
      "text/html": [
       "<div>\n",
       "<style scoped>\n",
       "    .dataframe tbody tr th:only-of-type {\n",
       "        vertical-align: middle;\n",
       "    }\n",
       "\n",
       "    .dataframe tbody tr th {\n",
       "        vertical-align: top;\n",
       "    }\n",
       "\n",
       "    .dataframe thead th {\n",
       "        text-align: right;\n",
       "    }\n",
       "</style>\n",
       "<table border=\"1\" class=\"dataframe\">\n",
       "  <thead>\n",
       "    <tr style=\"text-align: right;\">\n",
       "      <th></th>\n",
       "      <th>LotArea</th>\n",
       "      <th>1stFlrSF</th>\n",
       "      <th>2ndFlrSF</th>\n",
       "    </tr>\n",
       "  </thead>\n",
       "  <tbody>\n",
       "    <tr>\n",
       "      <th>0</th>\n",
       "      <td>8450</td>\n",
       "      <td>856</td>\n",
       "      <td>854</td>\n",
       "    </tr>\n",
       "    <tr>\n",
       "      <th>1</th>\n",
       "      <td>9600</td>\n",
       "      <td>1262</td>\n",
       "      <td>0</td>\n",
       "    </tr>\n",
       "    <tr>\n",
       "      <th>2</th>\n",
       "      <td>11250</td>\n",
       "      <td>920</td>\n",
       "      <td>866</td>\n",
       "    </tr>\n",
       "    <tr>\n",
       "      <th>3</th>\n",
       "      <td>9550</td>\n",
       "      <td>961</td>\n",
       "      <td>756</td>\n",
       "    </tr>\n",
       "    <tr>\n",
       "      <th>4</th>\n",
       "      <td>14260</td>\n",
       "      <td>1145</td>\n",
       "      <td>1053</td>\n",
       "    </tr>\n",
       "  </tbody>\n",
       "</table>\n",
       "</div>"
      ],
      "text/plain": [
       "   LotArea  1stFlrSF  2ndFlrSF\n",
       "0     8450       856       854\n",
       "1     9600      1262         0\n",
       "2    11250       920       866\n",
       "3     9550       961       756\n",
       "4    14260      1145      1053"
      ]
     },
     "execution_count": 828,
     "metadata": {},
     "output_type": "execute_result"
    }
   ],
   "source": [
    "continuous_features = ['LotArea', '1stFlrSF', '2ndFlrSF']\n",
    "df_continuous = df[continuous_features]\n",
    "df_continuous.head()"
   ]
  },
  {
   "cell_type": "code",
   "execution_count": 829,
   "metadata": {},
   "outputs": [
    {
     "data": {
      "text/plain": [
       "<Figure size 1440x576 with 0 Axes>"
      ]
     },
     "metadata": {},
     "output_type": "display_data"
    },
    {
     "data": {
      "image/png": "[encoded data removed]",
      "text/plain": [
       "<Figure size 864x864 with 12 Axes>"
      ]
     },
     "metadata": {
      "needs_background": "light"
     },
     "output_type": "display_data"
    }
   ],
   "source": [
    "# Sử dụng pairplot để vẽ dữ liệu có trong 3 biến ['LotArea', '1stFlrSF', '2ndFlrSF]\n",
    "plt.figure(figsize=(20,8))\n",
    "sns.pairplot(df_continuous, vars=continuous_features, height=4, diag_kind='kde')\n",
    "plt.show()"
   ]
  },
  {
   "cell_type": "code",
   "execution_count": 830,
   "metadata": {},
   "outputs": [
    {
     "data": {
      "text/html": [
       "<div>\n",
       "<style scoped>\n",
       "    .dataframe tbody tr th:only-of-type {\n",
       "        vertical-align: middle;\n",
       "    }\n",
       "\n",
       "    .dataframe tbody tr th {\n",
       "        vertical-align: top;\n",
       "    }\n",
       "\n",
       "    .dataframe thead th {\n",
       "        text-align: right;\n",
       "    }\n",
       "</style>\n",
       "<table border=\"1\" class=\"dataframe\">\n",
       "  <thead>\n",
       "    <tr style=\"text-align: right;\">\n",
       "      <th></th>\n",
       "      <th>LotArea</th>\n",
       "      <th>1stFlrSF</th>\n",
       "      <th>2ndFlrSF</th>\n",
       "    </tr>\n",
       "  </thead>\n",
       "  <tbody>\n",
       "    <tr>\n",
       "      <th>LotArea</th>\n",
       "      <td>1.000000</td>\n",
       "      <td>0.299475</td>\n",
       "      <td>0.050986</td>\n",
       "    </tr>\n",
       "    <tr>\n",
       "      <th>1stFlrSF</th>\n",
       "      <td>0.299475</td>\n",
       "      <td>1.000000</td>\n",
       "      <td>-0.202646</td>\n",
       "    </tr>\n",
       "    <tr>\n",
       "      <th>2ndFlrSF</th>\n",
       "      <td>0.050986</td>\n",
       "      <td>-0.202646</td>\n",
       "      <td>1.000000</td>\n",
       "    </tr>\n",
       "  </tbody>\n",
       "</table>\n",
       "</div>"
      ],
      "text/plain": [
       "           LotArea  1stFlrSF  2ndFlrSF\n",
       "LotArea   1.000000  0.299475  0.050986\n",
       "1stFlrSF  0.299475  1.000000 -0.202646\n",
       "2ndFlrSF  0.050986 -0.202646  1.000000"
      ]
     },
     "execution_count": 830,
     "metadata": {},
     "output_type": "execute_result"
    }
   ],
   "source": [
    "# Sử dụng hàm corr để tính độ tương quan của 3 biến này.\n",
    "df[continuous_features].corr()"
   ]
  },
  {
   "cell_type": "markdown",
   "metadata": {},
   "source": [
    "#### Nhận xét sự tương quan:\n",
    "- Dữ liệu 'LotArea' và '1stFlrSF' có giá trị tương quan là 0.299475 => Tương quan thuận, mức độ tương quan vừa.\n",
    "- Dữ liệu 'LotArea' và '2ndFlrSF' có giá trị tương quan là 0.050986 => Tương quan thuận, mức độ tương quan khá mạnh.\n",
    "- Dữ liệu '1stFlrSF' và '2ndFlrSF' có giá trị tương quan là -0.202646 => Tương quan nghịch, mức độ tương quan vừa."
   ]
  },
  {
   "cell_type": "markdown",
   "metadata": {
    "id": "NiffF12u3thR"
   },
   "source": [
    "### Categorical & Categorical\n",
    "- 'FullBath', 'BedroomAbvGr', 'TotRmsAbvGrd'\n",
    "- Dùng Chi-square test để kiểm tra độ tương qua giữa các cặp biến: FullBath' và 'BedroomAbvGr', ...  ."
   ]
  },
  {
   "cell_type": "code",
   "execution_count": 831,
   "metadata": {},
   "outputs": [
    {
     "data": {
      "text/html": [
       "<div>\n",
       "<style scoped>\n",
       "    .dataframe tbody tr th:only-of-type {\n",
       "        vertical-align: middle;\n",
       "    }\n",
       "\n",
       "    .dataframe tbody tr th {\n",
       "        vertical-align: top;\n",
       "    }\n",
       "\n",
       "    .dataframe thead th {\n",
       "        text-align: right;\n",
       "    }\n",
       "</style>\n",
       "<table border=\"1\" class=\"dataframe\">\n",
       "  <thead>\n",
       "    <tr style=\"text-align: right;\">\n",
       "      <th></th>\n",
       "      <th>FullBath</th>\n",
       "      <th>BedroomAbvGr</th>\n",
       "      <th>TotRmsAbvGrd</th>\n",
       "    </tr>\n",
       "  </thead>\n",
       "  <tbody>\n",
       "    <tr>\n",
       "      <th>0</th>\n",
       "      <td>2</td>\n",
       "      <td>3</td>\n",
       "      <td>8</td>\n",
       "    </tr>\n",
       "    <tr>\n",
       "      <th>1</th>\n",
       "      <td>2</td>\n",
       "      <td>3</td>\n",
       "      <td>6</td>\n",
       "    </tr>\n",
       "    <tr>\n",
       "      <th>2</th>\n",
       "      <td>2</td>\n",
       "      <td>3</td>\n",
       "      <td>6</td>\n",
       "    </tr>\n",
       "    <tr>\n",
       "      <th>3</th>\n",
       "      <td>1</td>\n",
       "      <td>3</td>\n",
       "      <td>7</td>\n",
       "    </tr>\n",
       "    <tr>\n",
       "      <th>4</th>\n",
       "      <td>2</td>\n",
       "      <td>4</td>\n",
       "      <td>9</td>\n",
       "    </tr>\n",
       "  </tbody>\n",
       "</table>\n",
       "</div>"
      ],
      "text/plain": [
       "   FullBath  BedroomAbvGr  TotRmsAbvGrd\n",
       "0         2             3             8\n",
       "1         2             3             6\n",
       "2         2             3             6\n",
       "3         1             3             7\n",
       "4         2             4             9"
      ]
     },
     "execution_count": 831,
     "metadata": {},
     "output_type": "execute_result"
    }
   ],
   "source": [
    "from scipy.stats import chi2_contingency\n",
    "from scipy.stats import chi2\n",
    "\n",
    "categorical_features = ['FullBath', 'BedroomAbvGr', 'TotRmsAbvGrd']\n",
    "df_categorical = df[categorical_features]\n",
    "df_categorical.head()"
   ]
  },
  {
   "cell_type": "code",
   "execution_count": 832,
   "metadata": {},
   "outputs": [],
   "source": [
    "def chisquared_test(data, column_1, column_2):\n",
    "    print(DIVIDER)\n",
    "    print(f'Giả thuyết H0: {column_1} và {column_2} là 2 biến độc lập.')\n",
    "    print(f'Giả thuyết Ha: {column_1} và {column_2} không phải là 2 biến độc lập.')\n",
    "    table = pd.crosstab(data[column_1], data[column_2])\n",
    "    print('Table: ', table)\n",
    "    table.plot.bar()\n",
    "    plt.show()\n",
    "    print(DIVIDER)\n",
    "    stat, p, dof, expected = chi2_contingency(table)\n",
    "    print('dof=%d' % dof)\n",
    "    print(expected)\n",
    "    print(DIVIDER)\n",
    "    # interpret test-statistic\n",
    "    prob = 0.95\n",
    "    critical = chi2.ppf(prob, dof)\n",
    "    print('probability=%.3f, critical=%.3f, stat=%.3f' % (prob, critical, stat))\n",
    "    # interpret p-value\n",
    "    alpha = 1.0 - prob\n",
    "    print('significance=%.3f, p=%.3f' % (alpha, p))\n",
    "    if p <= alpha:\n",
    "        print('Phụ thuộc (từ chối giả thuyết H0).')\n",
    "    else:\n",
    "        print('Độc lập (chấp nhận giả thuyết H0).')\n",
    "\n",
    "    if abs(stat) >= critical:\n",
    "        print('Phụ thuộc (từ chối giả thuyết H0).')\n",
    "        print(f'Kết luận: {column_1} và {column_2} không phải là 2 biến độc lập.')\n",
    "    else:\n",
    "        print('Độc lập (chấp nhận giả thuyết H0).')\n",
    "        print(f'Kết luận: {column_1} và {column_2} là 2 biến độc lập.')\n",
    "    "
   ]
  },
  {
   "cell_type": "code",
   "execution_count": 833,
   "metadata": {},
   "outputs": [
    {
     "name": "stdout",
     "output_type": "stream",
     "text": [
      "--------------------------------------------------\n",
      "Giả thuyết H0: FullBath và BedroomAbvGr là 2 biến độc lập.\n",
      "Giả thuyết Ha: FullBath và BedroomAbvGr không phải là 2 biến độc lập.\n",
      "Table:  BedroomAbvGr  0   1    2    3    4   5  6  8\n",
      "FullBath                                    \n",
      "0             5   2    2    0    0   0  0  0\n",
      "1             1  42  213  352   37   5  0  0\n",
      "2             0   6  143  443  156  12  7  1\n",
      "3             0   0    0    9   20   4  0  0\n"
     ]
    },
    {
     "data": {
      "image/png": "[encoded data removed]",
      "text/plain": [
       "<Figure size 432x288 with 1 Axes>"
      ]
     },
     "metadata": {
      "needs_background": "light"
     },
     "output_type": "display_data"
    },
    {
     "name": "stdout",
     "output_type": "stream",
     "text": [
      "--------------------------------------------------\n",
      "dof=21\n",
      "[[3.69863014e-02 3.08219178e-01 2.20684932e+00 4.95616438e+00\n",
      "  1.31301370e+00 1.29452055e-01 4.31506849e-02 6.16438356e-03]\n",
      " [2.67123288e+00 2.22602740e+01 1.59383562e+02 3.57945205e+02\n",
      "  9.48287671e+01 9.34931507e+00 3.11643836e+00 4.45205479e-01]\n",
      " [3.15616438e+00 2.63013699e+01 1.88317808e+02 4.22926027e+02\n",
      "  1.12043836e+02 1.10465753e+01 3.68219178e+00 5.26027397e-01]\n",
      " [1.35616438e-01 1.13013699e+00 8.09178082e+00 1.81726027e+01\n",
      "  4.81438356e+00 4.74657534e-01 1.58219178e-01 2.26027397e-02]]\n",
      "--------------------------------------------------\n",
      "probability=0.950, critical=32.671, stat=898.930\n",
      "significance=0.050, p=0.000\n",
      "Phụ thuộc (từ chối giả thuyết H0).\n",
      "Phụ thuộc (từ chối giả thuyết H0).\n",
      "Kết luận: FullBath và BedroomAbvGr không phải là 2 biến độc lập.\n"
     ]
    }
   ],
   "source": [
    "# Ho: Biến FullBath và BedroomAbvGr là 2 biến độc lập.\n",
    "# H1: Biến FullBath và BedroomAbvGr không phải là 2 biến độc lập.\n",
    "chisquared_test(df, 'FullBath', 'BedroomAbvGr')"
   ]
  },
  {
   "cell_type": "code",
   "execution_count": 834,
   "metadata": {},
   "outputs": [
    {
     "name": "stdout",
     "output_type": "stream",
     "text": [
      "--------------------------------------------------\n",
      "Giả thuyết H0: FullBath và TotRmsAbvGrd là 2 biến độc lập.\n",
      "Giả thuyết Ha: FullBath và TotRmsAbvGrd không phải là 2 biến độc lập.\n",
      "Table:  TotRmsAbvGrd  2   3   4    5    6    7    8   9   10  11  12  14\n",
      "FullBath                                                        \n",
      "0              0   1   4    1    2    1    0   0   0   0   0   0\n",
      "1              1  16  79  210  226   80   29   8   1   0   0   0\n",
      "2              0   0  14   63  174  245  154  61  39  10   7   1\n",
      "3              0   0   0    1    0    3    4   6   7   8   4   0\n"
     ]
    },
    {
     "data": {
      "image/png": "[encoded data removed]",
      "text/plain": [
       "<Figure size 432x288 with 1 Axes>"
      ]
     },
     "metadata": {
      "needs_background": "light"
     },
     "output_type": "display_data"
    },
    {
     "name": "stdout",
     "output_type": "stream",
     "text": [
      "--------------------------------------------------\n",
      "dof=33\n",
      "[[6.16438356e-03 1.04794521e-01 5.97945205e-01 1.69520548e+00\n",
      "  2.47808219e+00 2.02808219e+00 1.15273973e+00 4.62328767e-01\n",
      "  2.89726027e-01 1.10958904e-01 6.78082192e-02 6.16438356e-03]\n",
      " [4.45205479e-01 7.56849315e+00 4.31849315e+01 1.22431507e+02\n",
      "  1.78972603e+02 1.46472603e+02 8.32534247e+01 3.33904110e+01\n",
      "  2.09246575e+01 8.01369863e+00 4.89726027e+00 4.45205479e-01]\n",
      " [5.26027397e-01 8.94246575e+00 5.10246575e+01 1.44657534e+02\n",
      "  2.11463014e+02 1.73063014e+02 9.83671233e+01 3.94520548e+01\n",
      "  2.47232877e+01 9.46849315e+00 5.78630137e+00 5.26027397e-01]\n",
      " [2.26027397e-02 3.84246575e-01 2.19246575e+00 6.21575342e+00\n",
      "  9.08630137e+00 7.43630137e+00 4.22671233e+00 1.69520548e+00\n",
      "  1.06232877e+00 4.06849315e-01 2.48630137e-01 2.26027397e-02]]\n",
      "--------------------------------------------------\n",
      "probability=0.950, critical=47.400, stat=694.267\n",
      "significance=0.050, p=0.000\n",
      "Phụ thuộc (từ chối giả thuyết H0).\n",
      "Phụ thuộc (từ chối giả thuyết H0).\n",
      "Kết luận: FullBath và TotRmsAbvGrd không phải là 2 biến độc lập.\n"
     ]
    }
   ],
   "source": [
    "# Ho: Biến FullBath và TotRmsAbvGrd là 2 biến độc lập.\n",
    "# H1: Biến FullBath và TotRmsAbvGrd không phải là 2 biến độc lập.\n",
    "chisquared_test(df, 'FullBath', 'TotRmsAbvGrd')"
   ]
  },
  {
   "cell_type": "code",
   "execution_count": 835,
   "metadata": {},
   "outputs": [
    {
     "name": "stdout",
     "output_type": "stream",
     "text": [
      "--------------------------------------------------\n",
      "Giả thuyết H0: BedroomAbvGr và TotRmsAbvGrd là 2 biến độc lập.\n",
      "Giả thuyết Ha: BedroomAbvGr và TotRmsAbvGrd không phải là 2 biến độc lập.\n",
      "Table:  TotRmsAbvGrd  2   3   4    5    6    7   8   9   10  11  12  14\n",
      "BedroomAbvGr                                                   \n",
      "0              0   1   2    2    1    0   0   0   0   0   0   0\n",
      "1              1  14  18    5    5    4   2   1   0   0   0   0\n",
      "2              0   2  73  145   99   30   5   0   2   2   0   0\n",
      "3              0   0   3  122  289  252  97  26  10   3   2   0\n",
      "4              0   0   1    1    8   43  78  44  23  11   4   0\n",
      "5              0   0   0    0    0    0   5   3   8   2   3   0\n",
      "6              0   0   0    0    0    0   0   1   4   0   2   0\n",
      "8              0   0   0    0    0    0   0   0   0   0   0   1\n"
     ]
    },
    {
     "data": {
      "image/png": "[encoded data removed]",
      "text/plain": [
       "<Figure size 432x288 with 1 Axes>"
      ]
     },
     "metadata": {
      "needs_background": "light"
     },
     "output_type": "display_data"
    },
    {
     "name": "stdout",
     "output_type": "stream",
     "text": [
      "--------------------------------------------------\n",
      "dof=77\n",
      "[[4.10958904e-03 6.98630137e-02 3.98630137e-01 1.13013699e+00\n",
      "  1.65205479e+00 1.35205479e+00 7.68493151e-01 3.08219178e-01\n",
      "  1.93150685e-01 7.39726027e-02 4.52054795e-02 4.10958904e-03]\n",
      " [3.42465753e-02 5.82191781e-01 3.32191781e+00 9.41780822e+00\n",
      "  1.37671233e+01 1.12671233e+01 6.40410959e+00 2.56849315e+00\n",
      "  1.60958904e+00 6.16438356e-01 3.76712329e-01 3.42465753e-02]\n",
      " [2.45205479e-01 4.16849315e+00 2.37849315e+01 6.74315068e+01\n",
      "  9.85726027e+01 8.06726027e+01 4.58534247e+01 1.83904110e+01\n",
      "  1.15246575e+01 4.41369863e+00 2.69726027e+00 2.45205479e-01]\n",
      " [5.50684932e-01 9.36164384e+00 5.34164384e+01 1.51438356e+02\n",
      "  2.21375342e+02 1.81175342e+02 1.02978082e+02 4.13013699e+01\n",
      "  2.58821918e+01 9.91232877e+00 6.05753425e+00 5.50684932e-01]\n",
      " [1.45890411e-01 2.48013699e+00 1.41513699e+01 4.01198630e+01\n",
      "  5.86479452e+01 4.79979452e+01 2.72815068e+01 1.09417808e+01\n",
      "  6.85684932e+00 2.62602740e+00 1.60479452e+00 1.45890411e-01]\n",
      " [1.43835616e-02 2.44520548e-01 1.39520548e+00 3.95547945e+00\n",
      "  5.78219178e+00 4.73219178e+00 2.68972603e+00 1.07876712e+00\n",
      "  6.76027397e-01 2.58904110e-01 1.58219178e-01 1.43835616e-02]\n",
      " [4.79452055e-03 8.15068493e-02 4.65068493e-01 1.31849315e+00\n",
      "  1.92739726e+00 1.57739726e+00 8.96575342e-01 3.59589041e-01\n",
      "  2.25342466e-01 8.63013699e-02 5.27397260e-02 4.79452055e-03]\n",
      " [6.84931507e-04 1.16438356e-02 6.64383562e-02 1.88356164e-01\n",
      "  2.75342466e-01 2.25342466e-01 1.28082192e-01 5.13698630e-02\n",
      "  3.21917808e-02 1.23287671e-02 7.53424658e-03 6.84931507e-04]]\n",
      "--------------------------------------------------\n",
      "probability=0.950, critical=98.484, stat=2994.515\n",
      "significance=0.050, p=0.000\n",
      "Phụ thuộc (từ chối giả thuyết H0).\n",
      "Phụ thuộc (từ chối giả thuyết H0).\n",
      "Kết luận: BedroomAbvGr và TotRmsAbvGrd không phải là 2 biến độc lập.\n"
     ]
    }
   ],
   "source": [
    "# Ho: Biến BedroomAbvGr và TotRmsAbvGrd là 2 biến độc lập.\n",
    "# H1: Biến BedroomAbvGr và TotRmsAbvGrd không phải là 2 biến độc lập.\n",
    "chisquared_test(df, 'BedroomAbvGr', 'TotRmsAbvGrd')"
   ]
  },
  {
   "cell_type": "markdown",
   "metadata": {
    "id": "uW94DYsr3thR"
   },
   "source": [
    "### Categorical & Continuous\n",
    "- Có quan hệ giữa 'FullBath' và 'LotArea'? ('FullBath' có bị ảnh hưởng bởi'LotArea'?).\n",
    "- Dùng biểu đồ boxplot của Seaborn để vẽ biểu đồ giữa 2 biến (x=\"FullBath\", y=\"LotArea\") \n",
    "- Dùng ANOVA one way.\n",
    "- Dùng Tukey HSD nhận xét về mối quan hệ (nếu có)."
   ]
  },
  {
   "cell_type": "code",
   "execution_count": 836,
   "metadata": {},
   "outputs": [],
   "source": [
    "# H0: FullBath và LotArea không có quan hệ.\n",
    "# H1: FullBath và LotArea có quan hệ."
   ]
  },
  {
   "cell_type": "code",
   "execution_count": 837,
   "metadata": {},
   "outputs": [
    {
     "data": {
      "text/plain": [
       "<seaborn.axisgrid.PairGrid at 0x7f284c6c99a0>"
      ]
     },
     "execution_count": 837,
     "metadata": {},
     "output_type": "execute_result"
    },
    {
     "data": {
      "image/png": "[encoded data removed]",
      "text/plain": [
       "<Figure size 360x360 with 6 Axes>"
      ]
     },
     "metadata": {
      "needs_background": "light"
     },
     "output_type": "display_data"
    }
   ],
   "source": [
    "sns.pairplot(df, vars=['FullBath', 'LotArea'])"
   ]
  },
  {
   "cell_type": "code",
   "execution_count": 838,
   "metadata": {},
   "outputs": [
    {
     "name": "stdout",
     "output_type": "stream",
     "text": [
      "t=-40.25445999860334, p=6.296304923335801e-239\n",
      "Từ chối giả thuyết H0 rằng FullBath và LotArea không có quan hệ.\n",
      "Kết luận: FullBath có bị ảnh hưởng bởi LotArea.\n"
     ]
    }
   ],
   "source": [
    "# Có quan hệ giữa 'FullBath' và 'LotArea'? ('FullBath' có bị ảnh hưởng bởi'LotArea'?).\n",
    "from scipy.stats import ttest_ind, ttest_rel\n",
    "\n",
    "t_stat, p = ttest_rel(df['FullBath'], df['LotArea'])\n",
    "print(f't={t_stat}, p={p}')\n",
    "alpha = 0.05\n",
    "if p > alpha:\n",
    "    print('Chấp nhận giả thuyết H0 rằng FullBath và LotArea không có quan hệ.')\n",
    "    print('Kết luận: FullBath không bị ảnh hưởng bởi LotArea.')\n",
    "else:\n",
    "    print('Từ chối giả thuyết H0 rằng FullBath và LotArea không có quan hệ.')\n",
    "    print('Kết luận: FullBath có bị ảnh hưởng bởi LotArea.')"
   ]
  },
  {
   "cell_type": "code",
   "execution_count": 839,
   "metadata": {},
   "outputs": [
    {
     "data": {
      "image/png": "[encoded data removed]",
      "text/plain": [
       "<Figure size 1296x864 with 1 Axes>"
      ]
     },
     "metadata": {
      "needs_background": "light"
     },
     "output_type": "display_data"
    }
   ],
   "source": [
    "# Dùng biểu đồ boxplot của Seaborn để vẽ biểu đồ giữa 2 biến (x=\"FullBath\", y=\"LotArea\")\n",
    "plt.figure(figsize=(18, 12))\n",
    "sns.boxplot(x='FullBath', y='LotArea', data=df, whis=2.5)\n",
    "plt.show()"
   ]
  },
  {
   "cell_type": "code",
   "execution_count": 840,
   "metadata": {},
   "outputs": [
    {
     "name": "stdout",
     "output_type": "stream",
     "text": [
      "fvalue: 1620.3990056353841, pvalue: 3.3975376258008362e-282\n",
      "Từ chối giả thuyết H0 rằng không có sự khác biệt giữa các trung bình của FullBath và LotArea.\n"
     ]
    }
   ],
   "source": [
    "# Dùng ANOVA one way.\n",
    "# H0: Không có sự khác biệt giữa các trung bình của FullBath và LotArea.\n",
    "# H1: Có sự khác biệt giữa các trung bình ở đâu đó của FullBath và LotArea.\n",
    "fvalue, pvalue = stats.f_oneway(df['FullBath'], \n",
    "                                df['LotArea'])\n",
    "print(f'fvalue: {fvalue}, pvalue: {pvalue}')\n",
    "alpha = 0.05\n",
    "if pvalue < 0.05:\n",
    "    print('Từ chối giả thuyết H0 rằng không có sự khác biệt giữa các trung bình của FullBath và LotArea.')\n",
    "else:\n",
    "    print(\"Chấp nhận giả thuyết H0 rằng không có sự khác biệt giữa các trung bình của FullBath và LotArea.\")"
   ]
  },
  {
   "cell_type": "markdown",
   "metadata": {},
   "source": [
    "#### Kết luận: Có sự khác biệt giữa các trung bình ở đâu đó của FullBath và LotArea."
   ]
  },
  {
   "cell_type": "code",
   "execution_count": 841,
   "metadata": {},
   "outputs": [
    {
     "name": "stdout",
     "output_type": "stream",
     "text": [
      "     Multiple Comparison of Means - Tukey HSD, FWER=0.05     \n",
      "=============================================================\n",
      " group1   group2  meandiff p-adj   lower      upper    reject\n",
      "-------------------------------------------------------------\n",
      "FullBath LotArea 10515.263 0.001 10003.0655 11027.4605   True\n",
      "-------------------------------------------------------------\n"
     ]
    }
   ],
   "source": [
    "# Dùng Tukey HSD nhận xét về mối quan hệ (nếu có).\n",
    "import statsmodels.api as sm\n",
    "from statsmodels.formula.api import ols\n",
    "from statsmodels.stats.multicomp import pairwise_tukeyhsd\n",
    "d_melt = pd.melt(df.reset_index(), id_vars=['index'], value_vars=['FullBath', 'LotArea'])\n",
    "d_melt.columns = ['index', 'full-bath-lot-area', 'values']\n",
    "m_comp = pairwise_tukeyhsd(endog=d_melt['values'], groups=d_melt['full-bath-lot-area'], alpha=0.05)\n",
    "print(m_comp)"
   ]
  },
  {
   "cell_type": "markdown",
   "metadata": {},
   "source": [
    "#### Kết luận: Kiểm định thông qua Tukey HSD cho kết quả bác bỏ null hypothesis (H0), do đó có sự khác biệt đáng kể về mặt thống kê giữa dữ liệu FullBath và LotArea. Kích thước phòng tắm phụ thuộc vào diện tích khu đất."
   ]
  },
  {
   "cell_type": "markdown",
   "metadata": {
    "id": "hXGlys8vmywZ"
   },
   "source": [
    "## 4. Xử lý dữ liệu thiếu\n",
    "- Kiểm tra xem có cột nào chứa dữ liệu null không"
   ]
  },
  {
   "cell_type": "code",
   "execution_count": 842,
   "metadata": {},
   "outputs": [
    {
     "name": "stdout",
     "output_type": "stream",
     "text": [
      "Columns that have null values:  Index(['LotFrontage', 'Alley', 'MasVnrType', 'MasVnrArea', 'BsmtQual',\n",
      "       'BsmtCond', 'BsmtExposure', 'BsmtFinType1', 'BsmtFinType2',\n",
      "       'Electrical', 'FireplaceQu', 'GarageType', 'GarageYrBlt',\n",
      "       'GarageFinish', 'GarageQual', 'GarageCond', 'PoolQC', 'Fence',\n",
      "       'MiscFeature'],\n",
      "      dtype='object')\n"
     ]
    },
    {
     "data": {
      "text/html": [
       "<div>\n",
       "<style scoped>\n",
       "    .dataframe tbody tr th:only-of-type {\n",
       "        vertical-align: middle;\n",
       "    }\n",
       "\n",
       "    .dataframe tbody tr th {\n",
       "        vertical-align: top;\n",
       "    }\n",
       "\n",
       "    .dataframe thead th {\n",
       "        text-align: right;\n",
       "    }\n",
       "</style>\n",
       "<table border=\"1\" class=\"dataframe\">\n",
       "  <thead>\n",
       "    <tr style=\"text-align: right;\">\n",
       "      <th></th>\n",
       "      <th>LotFrontage</th>\n",
       "      <th>Alley</th>\n",
       "      <th>MasVnrType</th>\n",
       "      <th>MasVnrArea</th>\n",
       "      <th>BsmtQual</th>\n",
       "      <th>BsmtCond</th>\n",
       "      <th>BsmtExposure</th>\n",
       "      <th>BsmtFinType1</th>\n",
       "      <th>BsmtFinType2</th>\n",
       "      <th>Electrical</th>\n",
       "      <th>FireplaceQu</th>\n",
       "      <th>GarageType</th>\n",
       "      <th>GarageYrBlt</th>\n",
       "      <th>GarageFinish</th>\n",
       "      <th>GarageQual</th>\n",
       "      <th>GarageCond</th>\n",
       "      <th>PoolQC</th>\n",
       "      <th>Fence</th>\n",
       "      <th>MiscFeature</th>\n",
       "    </tr>\n",
       "  </thead>\n",
       "  <tbody>\n",
       "    <tr>\n",
       "      <th>0</th>\n",
       "      <td>65.0</td>\n",
       "      <td>NaN</td>\n",
       "      <td>BrkFace</td>\n",
       "      <td>196.0</td>\n",
       "      <td>Gd</td>\n",
       "      <td>TA</td>\n",
       "      <td>No</td>\n",
       "      <td>GLQ</td>\n",
       "      <td>Unf</td>\n",
       "      <td>SBrkr</td>\n",
       "      <td>NaN</td>\n",
       "      <td>Attchd</td>\n",
       "      <td>2003.0</td>\n",
       "      <td>RFn</td>\n",
       "      <td>TA</td>\n",
       "      <td>TA</td>\n",
       "      <td>NaN</td>\n",
       "      <td>NaN</td>\n",
       "      <td>NaN</td>\n",
       "    </tr>\n",
       "    <tr>\n",
       "      <th>1</th>\n",
       "      <td>80.0</td>\n",
       "      <td>NaN</td>\n",
       "      <td>None</td>\n",
       "      <td>0.0</td>\n",
       "      <td>Gd</td>\n",
       "      <td>TA</td>\n",
       "      <td>Gd</td>\n",
       "      <td>ALQ</td>\n",
       "      <td>Unf</td>\n",
       "      <td>SBrkr</td>\n",
       "      <td>TA</td>\n",
       "      <td>Attchd</td>\n",
       "      <td>1976.0</td>\n",
       "      <td>RFn</td>\n",
       "      <td>TA</td>\n",
       "      <td>TA</td>\n",
       "      <td>NaN</td>\n",
       "      <td>NaN</td>\n",
       "      <td>NaN</td>\n",
       "    </tr>\n",
       "    <tr>\n",
       "      <th>2</th>\n",
       "      <td>68.0</td>\n",
       "      <td>NaN</td>\n",
       "      <td>BrkFace</td>\n",
       "      <td>162.0</td>\n",
       "      <td>Gd</td>\n",
       "      <td>TA</td>\n",
       "      <td>Mn</td>\n",
       "      <td>GLQ</td>\n",
       "      <td>Unf</td>\n",
       "      <td>SBrkr</td>\n",
       "      <td>TA</td>\n",
       "      <td>Attchd</td>\n",
       "      <td>2001.0</td>\n",
       "      <td>RFn</td>\n",
       "      <td>TA</td>\n",
       "      <td>TA</td>\n",
       "      <td>NaN</td>\n",
       "      <td>NaN</td>\n",
       "      <td>NaN</td>\n",
       "    </tr>\n",
       "    <tr>\n",
       "      <th>3</th>\n",
       "      <td>60.0</td>\n",
       "      <td>NaN</td>\n",
       "      <td>None</td>\n",
       "      <td>0.0</td>\n",
       "      <td>TA</td>\n",
       "      <td>Gd</td>\n",
       "      <td>No</td>\n",
       "      <td>ALQ</td>\n",
       "      <td>Unf</td>\n",
       "      <td>SBrkr</td>\n",
       "      <td>Gd</td>\n",
       "      <td>Detchd</td>\n",
       "      <td>1998.0</td>\n",
       "      <td>Unf</td>\n",
       "      <td>TA</td>\n",
       "      <td>TA</td>\n",
       "      <td>NaN</td>\n",
       "      <td>NaN</td>\n",
       "      <td>NaN</td>\n",
       "    </tr>\n",
       "    <tr>\n",
       "      <th>4</th>\n",
       "      <td>84.0</td>\n",
       "      <td>NaN</td>\n",
       "      <td>BrkFace</td>\n",
       "      <td>350.0</td>\n",
       "      <td>Gd</td>\n",
       "      <td>TA</td>\n",
       "      <td>Av</td>\n",
       "      <td>GLQ</td>\n",
       "      <td>Unf</td>\n",
       "      <td>SBrkr</td>\n",
       "      <td>TA</td>\n",
       "      <td>Attchd</td>\n",
       "      <td>2000.0</td>\n",
       "      <td>RFn</td>\n",
       "      <td>TA</td>\n",
       "      <td>TA</td>\n",
       "      <td>NaN</td>\n",
       "      <td>NaN</td>\n",
       "      <td>NaN</td>\n",
       "    </tr>\n",
       "    <tr>\n",
       "      <th>...</th>\n",
       "      <td>...</td>\n",
       "      <td>...</td>\n",
       "      <td>...</td>\n",
       "      <td>...</td>\n",
       "      <td>...</td>\n",
       "      <td>...</td>\n",
       "      <td>...</td>\n",
       "      <td>...</td>\n",
       "      <td>...</td>\n",
       "      <td>...</td>\n",
       "      <td>...</td>\n",
       "      <td>...</td>\n",
       "      <td>...</td>\n",
       "      <td>...</td>\n",
       "      <td>...</td>\n",
       "      <td>...</td>\n",
       "      <td>...</td>\n",
       "      <td>...</td>\n",
       "      <td>...</td>\n",
       "    </tr>\n",
       "    <tr>\n",
       "      <th>1455</th>\n",
       "      <td>62.0</td>\n",
       "      <td>NaN</td>\n",
       "      <td>None</td>\n",
       "      <td>0.0</td>\n",
       "      <td>Gd</td>\n",
       "      <td>TA</td>\n",
       "      <td>No</td>\n",
       "      <td>Unf</td>\n",
       "      <td>Unf</td>\n",
       "      <td>SBrkr</td>\n",
       "      <td>TA</td>\n",
       "      <td>Attchd</td>\n",
       "      <td>1999.0</td>\n",
       "      <td>RFn</td>\n",
       "      <td>TA</td>\n",
       "      <td>TA</td>\n",
       "      <td>NaN</td>\n",
       "      <td>NaN</td>\n",
       "      <td>NaN</td>\n",
       "    </tr>\n",
       "    <tr>\n",
       "      <th>1456</th>\n",
       "      <td>85.0</td>\n",
       "      <td>NaN</td>\n",
       "      <td>Stone</td>\n",
       "      <td>119.0</td>\n",
       "      <td>Gd</td>\n",
       "      <td>TA</td>\n",
       "      <td>No</td>\n",
       "      <td>ALQ</td>\n",
       "      <td>Rec</td>\n",
       "      <td>SBrkr</td>\n",
       "      <td>TA</td>\n",
       "      <td>Attchd</td>\n",
       "      <td>1978.0</td>\n",
       "      <td>Unf</td>\n",
       "      <td>TA</td>\n",
       "      <td>TA</td>\n",
       "      <td>NaN</td>\n",
       "      <td>MnPrv</td>\n",
       "      <td>NaN</td>\n",
       "    </tr>\n",
       "    <tr>\n",
       "      <th>1457</th>\n",
       "      <td>66.0</td>\n",
       "      <td>NaN</td>\n",
       "      <td>None</td>\n",
       "      <td>0.0</td>\n",
       "      <td>TA</td>\n",
       "      <td>Gd</td>\n",
       "      <td>No</td>\n",
       "      <td>GLQ</td>\n",
       "      <td>Unf</td>\n",
       "      <td>SBrkr</td>\n",
       "      <td>Gd</td>\n",
       "      <td>Attchd</td>\n",
       "      <td>1941.0</td>\n",
       "      <td>RFn</td>\n",
       "      <td>TA</td>\n",
       "      <td>TA</td>\n",
       "      <td>NaN</td>\n",
       "      <td>GdPrv</td>\n",
       "      <td>Shed</td>\n",
       "    </tr>\n",
       "    <tr>\n",
       "      <th>1458</th>\n",
       "      <td>68.0</td>\n",
       "      <td>NaN</td>\n",
       "      <td>None</td>\n",
       "      <td>0.0</td>\n",
       "      <td>TA</td>\n",
       "      <td>TA</td>\n",
       "      <td>Mn</td>\n",
       "      <td>GLQ</td>\n",
       "      <td>Rec</td>\n",
       "      <td>FuseA</td>\n",
       "      <td>NaN</td>\n",
       "      <td>Attchd</td>\n",
       "      <td>1950.0</td>\n",
       "      <td>Unf</td>\n",
       "      <td>TA</td>\n",
       "      <td>TA</td>\n",
       "      <td>NaN</td>\n",
       "      <td>NaN</td>\n",
       "      <td>NaN</td>\n",
       "    </tr>\n",
       "    <tr>\n",
       "      <th>1459</th>\n",
       "      <td>75.0</td>\n",
       "      <td>NaN</td>\n",
       "      <td>None</td>\n",
       "      <td>0.0</td>\n",
       "      <td>TA</td>\n",
       "      <td>TA</td>\n",
       "      <td>No</td>\n",
       "      <td>BLQ</td>\n",
       "      <td>LwQ</td>\n",
       "      <td>SBrkr</td>\n",
       "      <td>NaN</td>\n",
       "      <td>Attchd</td>\n",
       "      <td>1965.0</td>\n",
       "      <td>Fin</td>\n",
       "      <td>TA</td>\n",
       "      <td>TA</td>\n",
       "      <td>NaN</td>\n",
       "      <td>NaN</td>\n",
       "      <td>NaN</td>\n",
       "    </tr>\n",
       "  </tbody>\n",
       "</table>\n",
       "<p>1460 rows × 19 columns</p>\n",
       "</div>"
      ],
      "text/plain": [
       "      LotFrontage Alley MasVnrType  MasVnrArea BsmtQual BsmtCond BsmtExposure  \\\n",
       "0            65.0   NaN    BrkFace       196.0       Gd       TA           No   \n",
       "1            80.0   NaN       None         0.0       Gd       TA           Gd   \n",
       "2            68.0   NaN    BrkFace       162.0       Gd       TA           Mn   \n",
       "3            60.0   NaN       None         0.0       TA       Gd           No   \n",
       "4            84.0   NaN    BrkFace       350.0       Gd       TA           Av   \n",
       "...           ...   ...        ...         ...      ...      ...          ...   \n",
       "1455         62.0   NaN       None         0.0       Gd       TA           No   \n",
       "1456         85.0   NaN      Stone       119.0       Gd       TA           No   \n",
       "1457         66.0   NaN       None         0.0       TA       Gd           No   \n",
       "1458         68.0   NaN       None         0.0       TA       TA           Mn   \n",
       "1459         75.0   NaN       None         0.0       TA       TA           No   \n",
       "\n",
       "     BsmtFinType1 BsmtFinType2 Electrical FireplaceQu GarageType  GarageYrBlt  \\\n",
       "0             GLQ          Unf      SBrkr         NaN     Attchd       2003.0   \n",
       "1             ALQ          Unf      SBrkr          TA     Attchd       1976.0   \n",
       "2             GLQ          Unf      SBrkr          TA     Attchd       2001.0   \n",
       "3             ALQ          Unf      SBrkr          Gd     Detchd       1998.0   \n",
       "4             GLQ          Unf      SBrkr          TA     Attchd       2000.0   \n",
       "...           ...          ...        ...         ...        ...          ...   \n",
       "1455          Unf          Unf      SBrkr          TA     Attchd       1999.0   \n",
       "1456          ALQ          Rec      SBrkr          TA     Attchd       1978.0   \n",
       "1457          GLQ          Unf      SBrkr          Gd     Attchd       1941.0   \n",
       "1458          GLQ          Rec      FuseA         NaN     Attchd       1950.0   \n",
       "1459          BLQ          LwQ      SBrkr         NaN     Attchd       1965.0   \n",
       "\n",
       "     GarageFinish GarageQual GarageCond PoolQC  Fence MiscFeature  \n",
       "0             RFn         TA         TA    NaN    NaN         NaN  \n",
       "1             RFn         TA         TA    NaN    NaN         NaN  \n",
       "2             RFn         TA         TA    NaN    NaN         NaN  \n",
       "3             Unf         TA         TA    NaN    NaN         NaN  \n",
       "4             RFn         TA         TA    NaN    NaN         NaN  \n",
       "...           ...        ...        ...    ...    ...         ...  \n",
       "1455          RFn         TA         TA    NaN    NaN         NaN  \n",
       "1456          Unf         TA         TA    NaN  MnPrv         NaN  \n",
       "1457          RFn         TA         TA    NaN  GdPrv        Shed  \n",
       "1458          Unf         TA         TA    NaN    NaN         NaN  \n",
       "1459          Fin         TA         TA    NaN    NaN         NaN  \n",
       "\n",
       "[1460 rows x 19 columns]"
      ]
     },
     "execution_count": 842,
     "metadata": {},
     "output_type": "execute_result"
    }
   ],
   "source": [
    "null_columns = df.columns[df.isnull().any()]\n",
    "print('Columns that have null values: ', null_columns)\n",
    "df[null_columns]"
   ]
  },
  {
   "cell_type": "code",
   "execution_count": null,
   "metadata": {},
   "outputs": [],
   "source": []
  }
 ],
 "metadata": {
  "colab": {
   "collapsed_sections": [
    "5jm__gcwmyvm",
    "ClJLNh8gmyvm",
    "HM4-fxKSmywH"
   ],
   "name": "Bai thi - Ho va ten hoc vien.ipynb",
   "provenance": []
  },
  "kernelspec": {
   "display_name": "Python 3",
   "language": "python",
   "name": "python3"
  },
  "language_info": {
   "codemirror_mode": {
    "name": "ipython",
    "version": 3
   },
   "file_extension": ".py",
   "mimetype": "text/x-python",
   "name": "python",
   "nbconvert_exporter": "python",
   "pygments_lexer": "ipython3",
   "version": "3.7.1"
  }
 },
 "nbformat": 4,
 "nbformat_minor": 4
}
