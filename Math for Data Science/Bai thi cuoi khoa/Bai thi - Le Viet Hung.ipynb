{
 "cells": [
  {
   "cell_type": "markdown",
   "metadata": {
    "id": "KRp9sdY_myuU"
   },
   "source": [
    "# Bài kiểm tra cuối môn: LDS3 \n",
    "### Cho dữ liệu housing-prices-dataset/train.csv\n",
    "### Yêu cầu: Thực hiện các công việc sau\n",
    "1. Xác định các thuộc tính\n",
    "2. Phân tích đơn biến  \n",
    "   Để dự đoán giá nhà, giả sử cần các thông tin sau: 'LotArea', 'YearBuilt', '1stFlrSF', '2ndFlrSF', 'FullBath', 'BedroomAbvGr', \n",
    "   'TotRmsAbvGrd' => phân tích các biến này\n",
    "3. Phân tích hai biến\n",
    "4. Xử lý dữ liệu thiếu\n",
    "5. Phát hiện và xử lý ngoại lệ"
   ]
  },
  {
   "cell_type": "code",
   "execution_count": 1,
   "metadata": {
    "id": "-0SfkvfcmyuV"
   },
   "outputs": [],
   "source": [
    "# link: https://www.kaggle.com/alphaepsilon/housing-prices-dataset"
   ]
  },
  {
   "cell_type": "code",
   "execution_count": 2,
   "metadata": {
    "id": "uq7bj27bmyuZ"
   },
   "outputs": [],
   "source": [
    "import pandas as pd\n",
    "import numpy as np\n",
    "import seaborn as sns\n",
    "import matplotlib.pyplot as plt\n",
    "import scipy"
   ]
  },
  {
   "cell_type": "code",
   "execution_count": 3,
   "metadata": {
    "colab": {
     "base_uri": "https://localhost:8080/",
     "height": 191
    },
    "executionInfo": {
     "elapsed": 2569,
     "status": "error",
     "timestamp": 1606554715886,
     "user": {
      "displayName": "Đặng Thế Khoa",
      "photoUrl": "",
      "userId": "05815141459340450999"
     },
     "user_tz": -420
    },
    "id": "SSESqtP_myub",
    "outputId": "41380586-d7d5-4fce-91be-6c3d22132c7f"
   },
   "outputs": [
    {
     "data": {
      "text/plain": [
       "(1460, 81)"
      ]
     },
     "execution_count": 3,
     "metadata": {},
     "output_type": "execute_result"
    }
   ],
   "source": [
    "df = pd.read_csv(\"housing-prices-dataset/train.csv\")\n",
    "df.shape"
   ]
  },
  {
   "cell_type": "code",
   "execution_count": 4,
   "metadata": {
    "colab": {
     "base_uri": "https://localhost:8080/",
     "height": 172
    },
    "executionInfo": {
     "elapsed": 2564,
     "status": "error",
     "timestamp": 1606554715890,
     "user": {
      "displayName": "Đặng Thế Khoa",
      "photoUrl": "",
      "userId": "05815141459340450999"
     },
     "user_tz": -420
    },
    "id": "soQR85wfmyuf",
    "outputId": "f9021064-0d56-4d2b-f291-ffae72831940"
   },
   "outputs": [
    {
     "name": "stdout",
     "output_type": "stream",
     "text": [
      "<class 'pandas.core.frame.DataFrame'>\n",
      "RangeIndex: 1460 entries, 0 to 1459\n",
      "Data columns (total 81 columns):\n",
      " #   Column         Non-Null Count  Dtype  \n",
      "---  ------         --------------  -----  \n",
      " 0   Id             1460 non-null   int64  \n",
      " 1   MSSubClass     1460 non-null   int64  \n",
      " 2   MSZoning       1460 non-null   object \n",
      " 3   LotFrontage    1201 non-null   float64\n",
      " 4   LotArea        1460 non-null   int64  \n",
      " 5   Street         1460 non-null   object \n",
      " 6   Alley          91 non-null     object \n",
      " 7   LotShape       1460 non-null   object \n",
      " 8   LandContour    1460 non-null   object \n",
      " 9   Utilities      1460 non-null   object \n",
      " 10  LotConfig      1460 non-null   object \n",
      " 11  LandSlope      1460 non-null   object \n",
      " 12  Neighborhood   1460 non-null   object \n",
      " 13  Condition1     1460 non-null   object \n",
      " 14  Condition2     1460 non-null   object \n",
      " 15  BldgType       1460 non-null   object \n",
      " 16  HouseStyle     1460 non-null   object \n",
      " 17  OverallQual    1460 non-null   int64  \n",
      " 18  OverallCond    1460 non-null   int64  \n",
      " 19  YearBuilt      1460 non-null   int64  \n",
      " 20  YearRemodAdd   1460 non-null   int64  \n",
      " 21  RoofStyle      1460 non-null   object \n",
      " 22  RoofMatl       1460 non-null   object \n",
      " 23  Exterior1st    1460 non-null   object \n",
      " 24  Exterior2nd    1460 non-null   object \n",
      " 25  MasVnrType     1452 non-null   object \n",
      " 26  MasVnrArea     1452 non-null   float64\n",
      " 27  ExterQual      1460 non-null   object \n",
      " 28  ExterCond      1460 non-null   object \n",
      " 29  Foundation     1460 non-null   object \n",
      " 30  BsmtQual       1423 non-null   object \n",
      " 31  BsmtCond       1423 non-null   object \n",
      " 32  BsmtExposure   1422 non-null   object \n",
      " 33  BsmtFinType1   1423 non-null   object \n",
      " 34  BsmtFinSF1     1460 non-null   int64  \n",
      " 35  BsmtFinType2   1422 non-null   object \n",
      " 36  BsmtFinSF2     1460 non-null   int64  \n",
      " 37  BsmtUnfSF      1460 non-null   int64  \n",
      " 38  TotalBsmtSF    1460 non-null   int64  \n",
      " 39  Heating        1460 non-null   object \n",
      " 40  HeatingQC      1460 non-null   object \n",
      " 41  CentralAir     1460 non-null   object \n",
      " 42  Electrical     1459 non-null   object \n",
      " 43  1stFlrSF       1460 non-null   int64  \n",
      " 44  2ndFlrSF       1460 non-null   int64  \n",
      " 45  LowQualFinSF   1460 non-null   int64  \n",
      " 46  GrLivArea      1460 non-null   int64  \n",
      " 47  BsmtFullBath   1460 non-null   int64  \n",
      " 48  BsmtHalfBath   1460 non-null   int64  \n",
      " 49  FullBath       1460 non-null   int64  \n",
      " 50  HalfBath       1460 non-null   int64  \n",
      " 51  BedroomAbvGr   1460 non-null   int64  \n",
      " 52  KitchenAbvGr   1460 non-null   int64  \n",
      " 53  KitchenQual    1460 non-null   object \n",
      " 54  TotRmsAbvGrd   1460 non-null   int64  \n",
      " 55  Functional     1460 non-null   object \n",
      " 56  Fireplaces     1460 non-null   int64  \n",
      " 57  FireplaceQu    770 non-null    object \n",
      " 58  GarageType     1379 non-null   object \n",
      " 59  GarageYrBlt    1379 non-null   float64\n",
      " 60  GarageFinish   1379 non-null   object \n",
      " 61  GarageCars     1460 non-null   int64  \n",
      " 62  GarageArea     1460 non-null   int64  \n",
      " 63  GarageQual     1379 non-null   object \n",
      " 64  GarageCond     1379 non-null   object \n",
      " 65  PavedDrive     1460 non-null   object \n",
      " 66  WoodDeckSF     1460 non-null   int64  \n",
      " 67  OpenPorchSF    1460 non-null   int64  \n",
      " 68  EnclosedPorch  1460 non-null   int64  \n",
      " 69  3SsnPorch      1460 non-null   int64  \n",
      " 70  ScreenPorch    1460 non-null   int64  \n",
      " 71  PoolArea       1460 non-null   int64  \n",
      " 72  PoolQC         7 non-null      object \n",
      " 73  Fence          281 non-null    object \n",
      " 74  MiscFeature    54 non-null     object \n",
      " 75  MiscVal        1460 non-null   int64  \n",
      " 76  MoSold         1460 non-null   int64  \n",
      " 77  YrSold         1460 non-null   int64  \n",
      " 78  SaleType       1460 non-null   object \n",
      " 79  SaleCondition  1460 non-null   object \n",
      " 80  SalePrice      1460 non-null   int64  \n",
      "dtypes: float64(3), int64(35), object(43)\n",
      "memory usage: 924.0+ KB\n"
     ]
    }
   ],
   "source": [
    "df.info()"
   ]
  },
  {
   "cell_type": "markdown",
   "metadata": {
    "id": "aRcF-BLSmyuk"
   },
   "source": [
    "## 1. Xác định các thuộc tính\n",
    "1. Input: Tất cả ngoại trừ SalePrice\n",
    "2. Output: SalePrice\n",
    "3. Type of variable: <br/>\n",
    "    3.1 Predictor: khác SalePrice <br/>\n",
    "    3.2 Target: SalePrice <br/>\n",
    "4. Data Type: <br/>\n",
    "    4.1 Charactor/String <br/>\n",
    "    4.2 Numeric <br/>\n",
    "5. Variable Category:<br/>\n",
    "    5.1 Categorical: kieu so, kieu chuoi  <br/>\n",
    "    5.2 Continuous: int, float"
   ]
  },
  {
   "cell_type": "code",
   "execution_count": 5,
   "metadata": {
    "id": "yWWJQ7vdnLg5",
    "scrolled": true
   },
   "outputs": [
    {
     "name": "stdout",
     "output_type": "stream",
     "text": [
      "<class 'pandas.core.frame.DataFrame'>\n",
      "RangeIndex: 1460 entries, 0 to 1459\n",
      "Data columns (total 81 columns):\n",
      " #   Column         Non-Null Count  Dtype  \n",
      "---  ------         --------------  -----  \n",
      " 0   Id             1460 non-null   int64  \n",
      " 1   MSSubClass     1460 non-null   int64  \n",
      " 2   MSZoning       1460 non-null   object \n",
      " 3   LotFrontage    1201 non-null   float64\n",
      " 4   LotArea        1460 non-null   int64  \n",
      " 5   Street         1460 non-null   object \n",
      " 6   Alley          91 non-null     object \n",
      " 7   LotShape       1460 non-null   object \n",
      " 8   LandContour    1460 non-null   object \n",
      " 9   Utilities      1460 non-null   object \n",
      " 10  LotConfig      1460 non-null   object \n",
      " 11  LandSlope      1460 non-null   object \n",
      " 12  Neighborhood   1460 non-null   object \n",
      " 13  Condition1     1460 non-null   object \n",
      " 14  Condition2     1460 non-null   object \n",
      " 15  BldgType       1460 non-null   object \n",
      " 16  HouseStyle     1460 non-null   object \n",
      " 17  OverallQual    1460 non-null   int64  \n",
      " 18  OverallCond    1460 non-null   int64  \n",
      " 19  YearBuilt      1460 non-null   int64  \n",
      " 20  YearRemodAdd   1460 non-null   int64  \n",
      " 21  RoofStyle      1460 non-null   object \n",
      " 22  RoofMatl       1460 non-null   object \n",
      " 23  Exterior1st    1460 non-null   object \n",
      " 24  Exterior2nd    1460 non-null   object \n",
      " 25  MasVnrType     1452 non-null   object \n",
      " 26  MasVnrArea     1452 non-null   float64\n",
      " 27  ExterQual      1460 non-null   object \n",
      " 28  ExterCond      1460 non-null   object \n",
      " 29  Foundation     1460 non-null   object \n",
      " 30  BsmtQual       1423 non-null   object \n",
      " 31  BsmtCond       1423 non-null   object \n",
      " 32  BsmtExposure   1422 non-null   object \n",
      " 33  BsmtFinType1   1423 non-null   object \n",
      " 34  BsmtFinSF1     1460 non-null   int64  \n",
      " 35  BsmtFinType2   1422 non-null   object \n",
      " 36  BsmtFinSF2     1460 non-null   int64  \n",
      " 37  BsmtUnfSF      1460 non-null   int64  \n",
      " 38  TotalBsmtSF    1460 non-null   int64  \n",
      " 39  Heating        1460 non-null   object \n",
      " 40  HeatingQC      1460 non-null   object \n",
      " 41  CentralAir     1460 non-null   object \n",
      " 42  Electrical     1459 non-null   object \n",
      " 43  1stFlrSF       1460 non-null   int64  \n",
      " 44  2ndFlrSF       1460 non-null   int64  \n",
      " 45  LowQualFinSF   1460 non-null   int64  \n",
      " 46  GrLivArea      1460 non-null   int64  \n",
      " 47  BsmtFullBath   1460 non-null   int64  \n",
      " 48  BsmtHalfBath   1460 non-null   int64  \n",
      " 49  FullBath       1460 non-null   int64  \n",
      " 50  HalfBath       1460 non-null   int64  \n",
      " 51  BedroomAbvGr   1460 non-null   int64  \n",
      " 52  KitchenAbvGr   1460 non-null   int64  \n",
      " 53  KitchenQual    1460 non-null   object \n",
      " 54  TotRmsAbvGrd   1460 non-null   int64  \n",
      " 55  Functional     1460 non-null   object \n",
      " 56  Fireplaces     1460 non-null   int64  \n",
      " 57  FireplaceQu    770 non-null    object \n",
      " 58  GarageType     1379 non-null   object \n",
      " 59  GarageYrBlt    1379 non-null   float64\n",
      " 60  GarageFinish   1379 non-null   object \n",
      " 61  GarageCars     1460 non-null   int64  \n",
      " 62  GarageArea     1460 non-null   int64  \n",
      " 63  GarageQual     1379 non-null   object \n",
      " 64  GarageCond     1379 non-null   object \n",
      " 65  PavedDrive     1460 non-null   object \n",
      " 66  WoodDeckSF     1460 non-null   int64  \n",
      " 67  OpenPorchSF    1460 non-null   int64  \n",
      " 68  EnclosedPorch  1460 non-null   int64  \n",
      " 69  3SsnPorch      1460 non-null   int64  \n",
      " 70  ScreenPorch    1460 non-null   int64  \n",
      " 71  PoolArea       1460 non-null   int64  \n",
      " 72  PoolQC         7 non-null      object \n",
      " 73  Fence          281 non-null    object \n",
      " 74  MiscFeature    54 non-null     object \n",
      " 75  MiscVal        1460 non-null   int64  \n",
      " 76  MoSold         1460 non-null   int64  \n",
      " 77  YrSold         1460 non-null   int64  \n",
      " 78  SaleType       1460 non-null   object \n",
      " 79  SaleCondition  1460 non-null   object \n",
      " 80  SalePrice      1460 non-null   int64  \n",
      "dtypes: float64(3), int64(35), object(43)\n",
      "memory usage: 924.0+ KB\n"
     ]
    }
   ],
   "source": [
    "df.info()"
   ]
  },
  {
   "cell_type": "code",
   "execution_count": 6,
   "metadata": {
    "id": "FEoD-4Wimyuk"
   },
   "outputs": [
    {
     "data": {
      "text/plain": [
       "'Id, MSSubClass, LotFrontage, LotArea, OverallQual, OverallCond, YearBuilt, YearRemodAdd, MasVnrArea, BsmtFinSF1, BsmtFinSF2, BsmtUnfSF, TotalBsmtSF, 1stFlrSF, 2ndFlrSF, LowQualFinSF, GrLivArea, BsmtFullBath, BsmtHalfBath, FullBath, HalfBath, BedroomAbvGr, KitchenAbvGr, TotRmsAbvGrd, Fireplaces, GarageYrBlt, GarageCars, GarageArea, WoodDeckSF, OpenPorchSF, EnclosedPorch, 3SsnPorch, ScreenPorch, PoolArea, MiscVal, MoSold, YrSold, SalePrice'"
      ]
     },
     "execution_count": 6,
     "metadata": {},
     "output_type": "execute_result"
    }
   ],
   "source": [
    "#Tạo danh sách các cột kiểu số \n",
    "numbers = [f for f in df.columns if df.dtypes[f] != 'object'] # Quantitative: # du lieu kieu so\n",
    "list_nums = ', '.join(numbers)\n",
    "list_nums"
   ]
  },
  {
   "cell_type": "code",
   "execution_count": 7,
   "metadata": {
    "id": "OwKi8Wo-myuq"
   },
   "outputs": [
    {
     "data": {
      "text/plain": [
       "'MSZoning, Street, Alley, LotShape, LandContour, Utilities, LotConfig, LandSlope, Neighborhood, Condition1, Condition2, BldgType, HouseStyle, RoofStyle, RoofMatl, Exterior1st, Exterior2nd, MasVnrType, ExterQual, ExterCond, Foundation, BsmtQual, BsmtCond, BsmtExposure, BsmtFinType1, BsmtFinType2, Heating, HeatingQC, CentralAir, Electrical, KitchenQual, Functional, FireplaceQu, GarageType, GarageFinish, GarageQual, GarageCond, PavedDrive, PoolQC, Fence, MiscFeature, SaleType, SaleCondition'"
      ]
     },
     "execution_count": 7,
     "metadata": {},
     "output_type": "execute_result"
    }
   ],
   "source": [
    "# Tạo danh sách cột kiểu chuỗi\n",
    "objects = [f for f in df.columns if df.dtypes[f] == 'object'] # Qualitative : # du lieu kieu chuoi\n",
    "list_obj = ', '.join(objects)\n",
    "list_obj"
   ]
  },
  {
   "cell_type": "code",
   "execution_count": 8,
   "metadata": {
    "id": "i6qv61ptmyuu"
   },
   "outputs": [
    {
     "name": "stdout",
     "output_type": "stream",
     "text": [
      "1 / MSZoning \t 5 : ['RL' 'RM' 'C (all)' 'FV' 'RH']\n",
      "2 / Street \t 2 : ['Pave' 'Grvl']\n",
      "3 / Alley \t 3 : [nan 'Grvl' 'Pave']\n",
      "4 / LotShape \t 4 : ['Reg' 'IR1' 'IR2' 'IR3']\n",
      "5 / LandContour \t 4 : ['Lvl' 'Bnk' 'Low' 'HLS']\n",
      "6 / Utilities \t 2 : ['AllPub' 'NoSeWa']\n",
      "7 / LotConfig \t 5 : ['Inside' 'FR2' 'Corner' 'CulDSac' 'FR3']\n",
      "8 / LandSlope \t 3 : ['Gtl' 'Mod' 'Sev']\n",
      "9 / Neighborhood \t 25 : ['CollgCr' 'Veenker' 'Crawfor' 'NoRidge' 'Mitchel' 'Somerst' 'NWAmes'\n",
      " 'OldTown' 'BrkSide' 'Sawyer' 'NridgHt' 'NAmes' 'SawyerW' 'IDOTRR'\n",
      " 'MeadowV' 'Edwards' 'Timber' 'Gilbert' 'StoneBr' 'ClearCr' 'NPkVill'\n",
      " 'Blmngtn' 'BrDale' 'SWISU' 'Blueste']\n",
      "10 / Condition1 \t 9 : ['Norm' 'Feedr' 'PosN' 'Artery' 'RRAe' 'RRNn' 'RRAn' 'PosA' 'RRNe']\n",
      "11 / Condition2 \t 8 : ['Norm' 'Artery' 'RRNn' 'Feedr' 'PosN' 'PosA' 'RRAn' 'RRAe']\n",
      "12 / BldgType \t 5 : ['1Fam' '2fmCon' 'Duplex' 'TwnhsE' 'Twnhs']\n",
      "13 / HouseStyle \t 8 : ['2Story' '1Story' '1.5Fin' '1.5Unf' 'SFoyer' 'SLvl' '2.5Unf' '2.5Fin']\n",
      "14 / RoofStyle \t 6 : ['Gable' 'Hip' 'Gambrel' 'Mansard' 'Flat' 'Shed']\n",
      "15 / RoofMatl \t 8 : ['CompShg' 'WdShngl' 'Metal' 'WdShake' 'Membran' 'Tar&Grv' 'Roll'\n",
      " 'ClyTile']\n",
      "16 / Exterior1st \t 15 : ['VinylSd' 'MetalSd' 'Wd Sdng' 'HdBoard' 'BrkFace' 'WdShing' 'CemntBd'\n",
      " 'Plywood' 'AsbShng' 'Stucco' 'BrkComm' 'AsphShn' 'Stone' 'ImStucc'\n",
      " 'CBlock']\n",
      "17 / Exterior2nd \t 16 : ['VinylSd' 'MetalSd' 'Wd Shng' 'HdBoard' 'Plywood' 'Wd Sdng' 'CmentBd'\n",
      " 'BrkFace' 'Stucco' 'AsbShng' 'Brk Cmn' 'ImStucc' 'AsphShn' 'Stone'\n",
      " 'Other' 'CBlock']\n",
      "18 / MasVnrType \t 5 : ['BrkFace' 'None' 'Stone' 'BrkCmn' nan]\n",
      "19 / ExterQual \t 4 : ['Gd' 'TA' 'Ex' 'Fa']\n",
      "20 / ExterCond \t 5 : ['TA' 'Gd' 'Fa' 'Po' 'Ex']\n",
      "21 / Foundation \t 6 : ['PConc' 'CBlock' 'BrkTil' 'Wood' 'Slab' 'Stone']\n",
      "22 / BsmtQual \t 5 : ['Gd' 'TA' 'Ex' nan 'Fa']\n",
      "23 / BsmtCond \t 5 : ['TA' 'Gd' nan 'Fa' 'Po']\n",
      "24 / BsmtExposure \t 5 : ['No' 'Gd' 'Mn' 'Av' nan]\n",
      "25 / BsmtFinType1 \t 7 : ['GLQ' 'ALQ' 'Unf' 'Rec' 'BLQ' nan 'LwQ']\n",
      "26 / BsmtFinType2 \t 7 : ['Unf' 'BLQ' nan 'ALQ' 'Rec' 'LwQ' 'GLQ']\n",
      "27 / Heating \t 6 : ['GasA' 'GasW' 'Grav' 'Wall' 'OthW' 'Floor']\n",
      "28 / HeatingQC \t 5 : ['Ex' 'Gd' 'TA' 'Fa' 'Po']\n",
      "29 / CentralAir \t 2 : ['Y' 'N']\n",
      "30 / Electrical \t 6 : ['SBrkr' 'FuseF' 'FuseA' 'FuseP' 'Mix' nan]\n",
      "31 / KitchenQual \t 4 : ['Gd' 'TA' 'Ex' 'Fa']\n",
      "32 / Functional \t 7 : ['Typ' 'Min1' 'Maj1' 'Min2' 'Mod' 'Maj2' 'Sev']\n",
      "33 / FireplaceQu \t 6 : [nan 'TA' 'Gd' 'Fa' 'Ex' 'Po']\n",
      "34 / GarageType \t 7 : ['Attchd' 'Detchd' 'BuiltIn' 'CarPort' nan 'Basment' '2Types']\n",
      "35 / GarageFinish \t 4 : ['RFn' 'Unf' 'Fin' nan]\n",
      "36 / GarageQual \t 6 : ['TA' 'Fa' 'Gd' nan 'Ex' 'Po']\n",
      "37 / GarageCond \t 6 : ['TA' 'Fa' nan 'Gd' 'Po' 'Ex']\n",
      "38 / PavedDrive \t 3 : ['Y' 'N' 'P']\n",
      "39 / PoolQC \t 4 : [nan 'Ex' 'Fa' 'Gd']\n",
      "40 / Fence \t 5 : [nan 'MnPrv' 'GdWo' 'GdPrv' 'MnWw']\n",
      "41 / MiscFeature \t 5 : [nan 'Shed' 'Gar2' 'Othr' 'TenC']\n",
      "42 / SaleType \t 9 : ['WD' 'New' 'COD' 'ConLD' 'ConLI' 'CWD' 'ConLw' 'Con' 'Oth']\n",
      "43 / SaleCondition \t 6 : ['Normal' 'Abnorml' 'Partial' 'AdjLand' 'Alloca' 'Family']\n"
     ]
    }
   ],
   "source": [
    "# Categorical: \n",
    "# Duyệt qua các biến chuỗi, in ra các giá trị có trong mỗi biến -->  xem xet cac bien phan loai kieu chuoi\n",
    "# Với kết quả in ra, xác định các biến kiểu số thuộc loại Categorical \n",
    "i = 1\n",
    "for obj in objects:\n",
    "    print(i, \"/\", obj, \"\\t\",len(df[obj].unique()),\":\", df[obj].unique())\n",
    "    i = i+1"
   ]
  },
  {
   "cell_type": "code",
   "execution_count": 9,
   "metadata": {
    "id": "MpPizRLQmyuw"
   },
   "outputs": [
    {
     "name": "stdout",
     "output_type": "stream",
     "text": [
      "1 / Id \t 1460 : \n",
      "2 / MSSubClass \t 15 : [ 60  20  70  50 190  45  90 120  30  85  80 160  75 180  40]\n",
      "3 / LotFrontage \t 111 : [ 65.  80.  68.  60.  84.  85.  75.  nan  51.  50.  70.  91.  72.  66.\n",
      " 101.  57.  44. 110.  98.  47. 108. 112.  74. 115.  61.  48.  33.  52.\n",
      " 100.  24.  89.  63.  76.  81.  95.  69.  21.  32.  78. 121. 122.  40.\n",
      " 105.  73.  77.  64.  94.  34.  90.  55.  88.  82.  71. 120. 107.  92.\n",
      " 134.  62.  86. 141.  97.  54.  41.  79. 174.  99.  67.  83.  43. 103.\n",
      "  93.  30. 129. 140.  35.  37. 118.  87. 116. 150. 111.  49.  96.  59.\n",
      "  36.  56. 102.  58.  38. 109. 130.  53. 137.  45. 106. 104.  42.  39.\n",
      " 144. 114. 128. 149. 313. 168. 182. 138. 160. 152. 124. 153.  46.]\n",
      "4 / LotArea \t 1073 : \n",
      "5 / OverallQual \t 10 : [ 7  6  8  5  9  4 10  3  1  2]\n",
      "6 / OverallCond \t 9 : [5 8 6 7 4 2 3 9 1]\n",
      "7 / YearBuilt \t 112 : [2003 1976 2001 1915 2000 1993 2004 1973 1931 1939 1965 2005 1962 2006\n",
      " 1960 1929 1970 1967 1958 1930 2002 1968 2007 1951 1957 1927 1920 1966\n",
      " 1959 1994 1954 1953 1955 1983 1975 1997 1934 1963 1981 1964 1999 1972\n",
      " 1921 1945 1982 1998 1956 1948 1910 1995 1991 2009 1950 1961 1977 1985\n",
      " 1979 1885 1919 1990 1969 1935 1988 1971 1952 1936 1923 1924 1984 1926\n",
      " 1940 1941 1987 1986 2008 1908 1892 1916 1932 1918 1912 1947 1925 1900\n",
      " 1980 1989 1992 1949 1880 1928 1978 1922 1996 2010 1946 1913 1937 1942\n",
      " 1938 1974 1893 1914 1906 1890 1898 1904 1882 1875 1911 1917 1872 1905]\n",
      "8 / YearRemodAdd \t 61 : [2003 1976 2002 1970 2000 1995 2005 1973 1950 1965 2006 1962 2007 1960\n",
      " 2001 1967 2004 2008 1997 1959 1990 1955 1983 1980 1966 1963 1987 1964\n",
      " 1972 1996 1998 1989 1953 1956 1968 1981 1992 2009 1982 1961 1993 1999\n",
      " 1985 1979 1977 1969 1958 1991 1971 1952 1975 2010 1984 1986 1994 1988\n",
      " 1954 1957 1951 1978 1974]\n",
      "9 / MasVnrArea \t 328 : \n",
      "10 / BsmtFinSF1 \t 637 : \n",
      "11 / BsmtFinSF2 \t 144 : \n",
      "12 / BsmtUnfSF \t 780 : \n",
      "13 / TotalBsmtSF \t 721 : \n",
      "14 / 1stFlrSF \t 753 : \n",
      "15 / 2ndFlrSF \t 417 : \n",
      "16 / LowQualFinSF \t 24 : [  0 360 513 234 528 572 144 392 371 390 420 473 156 515  80  53 232 481\n",
      " 120 514 397 479 205 384]\n",
      "17 / GrLivArea \t 861 : \n",
      "18 / BsmtFullBath \t 4 : [1 0 2 3]\n",
      "19 / BsmtHalfBath \t 3 : [0 1 2]\n",
      "20 / FullBath \t 4 : [2 1 3 0]\n",
      "21 / HalfBath \t 3 : [1 0 2]\n",
      "22 / BedroomAbvGr \t 8 : [3 4 1 2 0 5 6 8]\n",
      "23 / KitchenAbvGr \t 4 : [1 2 3 0]\n",
      "24 / TotRmsAbvGrd \t 12 : [ 8  6  7  9  5 11  4 10 12  3  2 14]\n",
      "25 / Fireplaces \t 4 : [0 1 2 3]\n",
      "26 / GarageYrBlt \t 98 : [2003. 1976. 2001. 1998. 2000. 1993. 2004. 1973. 1931. 1939. 1965. 2005.\n",
      " 1962. 2006. 1960. 1991. 1970. 1967. 1958. 1930. 2002. 1968. 2007. 2008.\n",
      " 1957. 1920. 1966. 1959. 1995. 1954. 1953.   nan 1983. 1977. 1997. 1985.\n",
      " 1963. 1981. 1964. 1999. 1935. 1990. 1945. 1987. 1989. 1915. 1956. 1948.\n",
      " 1974. 2009. 1950. 1961. 1921. 1900. 1979. 1951. 1969. 1936. 1975. 1971.\n",
      " 1923. 1984. 1926. 1955. 1986. 1988. 1916. 1932. 1972. 1918. 1980. 1924.\n",
      " 1996. 1940. 1949. 1994. 1910. 1978. 1982. 1992. 1925. 1941. 2010. 1927.\n",
      " 1947. 1937. 1942. 1938. 1952. 1928. 1922. 1934. 1906. 1914. 1946. 1908.\n",
      " 1929. 1933.]\n",
      "27 / GarageCars \t 5 : [2 3 1 0 4]\n",
      "28 / GarageArea \t 441 : \n",
      "29 / WoodDeckSF \t 274 : \n",
      "30 / OpenPorchSF \t 202 : \n",
      "31 / EnclosedPorch \t 120 : \n",
      "32 / 3SsnPorch \t 20 : [  0 320 407 130 180 168 140 508 238 245 196 144 182 162  23 216  96 153\n",
      " 290 304]\n",
      "33 / ScreenPorch \t 76 : [  0 176 198 291 252  99 184 168 130 142 192 410 224 266 170 154 153 144\n",
      " 128 259 160 271 234 374 185 182  90 396 140 276 180 161 145 200 122  95\n",
      " 120  60 126 189 260 147 385 287 156 100 216 210 197 204 225 152 175 312\n",
      " 222 265 322 190 233  63  53 143 273 288 263  80 163 116 480 178 440 155\n",
      " 220 119 165  40]\n",
      "34 / PoolArea \t 8 : [  0 512 648 576 555 480 519 738]\n",
      "35 / MiscVal \t 21 : [    0   700   350   500   400   480   450 15500  1200   800  2000   600\n",
      "  3500  1300    54   620   560  1400  8300  1150  2500]\n",
      "36 / MoSold \t 12 : [ 2  5  9 12 10  8 11  4  1  7  3  6]\n",
      "37 / YrSold \t 5 : [2008 2007 2006 2009 2010]\n",
      "38 / SalePrice \t 663 : \n"
     ]
    }
   ],
   "source": [
    "# Duyệt qua các biến kiểu số in ra các giá trị phân biệt có trong cột (chỉ in các giá trị khi số giá trị phân biệt nhỏ hơn 120)\n",
    "# Với kết quả in ra, xác định các biến kiểu số thuộc loại Categorical \n",
    "i = 1\n",
    "for obj in numbers:\n",
    "    print(i, \"/\", obj, \"\\t\",len(df[obj].unique()),\":\", df[obj].unique() if len(df[obj].unique())<120 else '')\n",
    "    i = i+1"
   ]
  },
  {
   "cell_type": "code",
   "execution_count": 10,
   "metadata": {
    "id": "iHyAi1nCmyuz"
   },
   "outputs": [],
   "source": [
    "# - Quan sát 2 kết quả trên để kết luận, xác định tập features. Trong phần tiếp theo giả sử chúng ta chỉ làm việc với các \n",
    "# features = 'LotArea', 'YearBuilt', '1stFlrSF', '2ndFlrSF', 'FullBath', 'BedroomAbvGr', 'TotRmsAbvGrd'   "
   ]
  },
  {
   "cell_type": "markdown",
   "metadata": {
    "id": "5KEUxcHgmyu1"
   },
   "source": [
    "## 2. Phân tích đơn biến"
   ]
  },
  {
   "cell_type": "code",
   "execution_count": 11,
   "metadata": {
    "id": "TGnJBb_Hmyu2"
   },
   "outputs": [],
   "source": [
    "features = ['LotArea', 'YearBuilt', '1stFlrSF', '2ndFlrSF', 'FullBath', 'BedroomAbvGr', 'TotRmsAbvGrd']"
   ]
  },
  {
   "cell_type": "markdown",
   "metadata": {
    "id": "rqti4nOY3thP"
   },
   "source": [
    "### 2.1. Với mỗi biến continuous. Hãy thực hiện các yêu cầu sau: \n",
    "- Vẽ đồ thị gồm 2 phần: histogram và boxplot của biến.\n",
    "- Tìm mean, mode, độ nghiêng, độ nhọn  --> Nhận xét có phân phối chuẩn không.\n",
    "- Nếu không phải phân phối chuẩn: xác định Q1, Q3, IQR, Oulier Upper, Outlier Lower\n",
    "  Nếu là phân phối chuẩn: xác định Oulier Upper, Outlier Lower theo Z-score\n",
    "- Xác định tập dữ  outlier trên và dưới. \n",
    "- Kiểm tra nếu tổng số các outlier nhỏ hơn 5% số phần tử tổng thể thì -->  xóa các outlier này khỏi tập dữ liệu. \n",
    "#### Danh sách các biến Continuous cần thực hiện\n",
    "- LotArea\n",
    "- 1stFlrSF\n",
    "- 2ndFlrS"
   ]
  },
  {
   "cell_type": "code",
   "execution_count": 12,
   "metadata": {},
   "outputs": [
    {
     "name": "stderr",
     "output_type": "stream",
     "text": [
      "<ipython-input-12-68f8cbe705b3>:5: UserWarning: To output multiple subplots, the figure containing the passed axes is being cleared\n",
      "  df.hist(column=features, ax=axes)\n"
     ]
    },
    {
     "data": {
      "text/plain": [
       "array([[<AxesSubplot:title={'center':'LotArea'}>,\n",
       "        <AxesSubplot:title={'center':'YearBuilt'}>,\n",
       "        <AxesSubplot:title={'center':'1stFlrSF'}>],\n",
       "       [<AxesSubplot:title={'center':'2ndFlrSF'}>,\n",
       "        <AxesSubplot:title={'center':'FullBath'}>,\n",
       "        <AxesSubplot:title={'center':'BedroomAbvGr'}>],\n",
       "       [<AxesSubplot:title={'center':'TotRmsAbvGrd'}>, <AxesSubplot:>,\n",
       "        <AxesSubplot:>]], dtype=object)"
      ]
     },
     "execution_count": 12,
     "metadata": {},
     "output_type": "execute_result"
    },
    {
     "data": {
      "image/png": "[encoded data removed]",
      "text/plain": [
       "<Figure size 1080x1080 with 9 Axes>"
      ]
     },
     "metadata": {
      "needs_background": "light"
     },
     "output_type": "display_data"
    }
   ],
   "source": [
    "filtered_df = df[features]\n",
    "# Vẽ đồ thị gồm 2 phần: histogram và boxplot của biến.\n",
    "import matplotlib.pyplot as plt\n",
    "fig, axes = plt.subplots(figsize=(15,15))\n",
    "df.hist(column=features, ax=axes)\n"
   ]
  },
  {
   "cell_type": "code",
   "execution_count": 13,
   "metadata": {},
   "outputs": [
    {
     "data": {
      "image/png": "[encoded data removed]",
      "text/plain": [
       "<Figure size 1080x72 with 1 Axes>"
      ]
     },
     "metadata": {
      "needs_background": "light"
     },
     "output_type": "display_data"
    },
    {
     "data": {
      "image/png": "[encoded data removed]",
      "text/plain": [
       "<Figure size 1080x72 with 1 Axes>"
      ]
     },
     "metadata": {
      "needs_background": "light"
     },
     "output_type": "display_data"
    },
    {
     "data": {
      "image/png": "[encoded data removed]",
      "text/plain": [
       "<Figure size 1080x72 with 1 Axes>"
      ]
     },
     "metadata": {
      "needs_background": "light"
     },
     "output_type": "display_data"
    },
    {
     "data": {
      "image/png": "[encoded data removed]",
      "text/plain": [
       "<Figure size 1080x72 with 1 Axes>"
      ]
     },
     "metadata": {
      "needs_background": "light"
     },
     "output_type": "display_data"
    },
    {
     "data": {
      "image/png": "[encoded data removed]",
      "text/plain": [
       "<Figure size 1080x72 with 1 Axes>"
      ]
     },
     "metadata": {
      "needs_background": "light"
     },
     "output_type": "display_data"
    },
    {
     "data": {
      "image/png": "[encoded data removed]",
      "text/plain": [
       "<Figure size 1080x72 with 1 Axes>"
      ]
     },
     "metadata": {
      "needs_background": "light"
     },
     "output_type": "display_data"
    },
    {
     "data": {
      "image/png": "[encoded data removed]",
      "text/plain": [
       "<Figure size 1080x72 with 1 Axes>"
      ]
     },
     "metadata": {
      "needs_background": "light"
     },
     "output_type": "display_data"
    }
   ],
   "source": [
    "for f in features:\n",
    "    fig1, ax1 = plt.subplots()\n",
    "    fig1.set_figwidth(15)\n",
    "    fig1.set_figheight(1)\n",
    "    ax1.boxplot(df[f], notch = True, vert = False)\n",
    "    ax1.set_title(f) \n",
    "    plt.show() "
   ]
  },
  {
   "cell_type": "code",
   "execution_count": 14,
   "metadata": {},
   "outputs": [
    {
     "name": "stdout",
     "output_type": "stream",
     "text": [
      "LotArea\n",
      "mean: 10516.828082191782\n",
      "mode: 0    7200\n",
      "dtype: int64\n",
      "skewness: 12.207687851233496\n",
      "kurtosis: 203.24327101886033\n",
      "--------------------\n",
      "YearBuilt\n",
      "mean: 1971.267808219178\n",
      "mode: 0    2006\n",
      "dtype: int64\n",
      "skewness: -0.613461172488183\n",
      "kurtosis: -0.43955194159361977\n",
      "--------------------\n",
      "1stFlrSF\n",
      "mean: 1162.626712328767\n",
      "mode: 0    864\n",
      "dtype: int64\n",
      "skewness: 1.3767566220336365\n",
      "kurtosis: 5.74584148244079\n",
      "--------------------\n",
      "2ndFlrSF\n",
      "mean: 346.99246575342465\n",
      "mode: 0    0\n",
      "dtype: int64\n",
      "skewness: 0.8130298163023265\n",
      "kurtosis: -0.5534635576075795\n",
      "--------------------\n",
      "FullBath\n",
      "mean: 1.5650684931506849\n",
      "mode: 0    2\n",
      "dtype: int64\n",
      "skewness: 0.036561558402727165\n",
      "kurtosis: -0.8570428212743262\n",
      "--------------------\n",
      "BedroomAbvGr\n",
      "mean: 2.8664383561643834\n",
      "mode: 0    3\n",
      "dtype: int64\n",
      "skewness: 0.21179009627507137\n",
      "kurtosis: 2.230874582191236\n",
      "--------------------\n",
      "TotRmsAbvGrd\n",
      "mean: 6.517808219178082\n",
      "mode: 0    6\n",
      "dtype: int64\n",
      "skewness: 0.6763408364355531\n",
      "kurtosis: 0.8807615657189474\n",
      "--------------------\n"
     ]
    }
   ],
   "source": [
    "# Tìm mean, mode, độ nghiêng, độ nhọn --> Nhận xét có phân phối chuẩn không.\n",
    "for f in features:\n",
    "    print(f)\n",
    "    print('mean:', df[f].mean())\n",
    "    print('mode:', df[f].mode())\n",
    "    print('skewness:', df[f].skew())\n",
    "    print('kurtosis:', df[f].kurtosis())\n",
    "    print('-'*20)"
   ]
  },
  {
   "cell_type": "code",
   "execution_count": 15,
   "metadata": {},
   "outputs": [],
   "source": [
    "def remove_outliers(raw_data, outlier_indexs):\n",
    "    print('outlier_indexs', outlier_indexs, len(outlier_indexs))\n",
    "    print('raw_data', raw_data)\n",
    "    if len(outlier_indexs) < 0.05 * len(raw_data):\n",
    "        print(np.delete(raw_data, outlier_indexs))"
   ]
  },
  {
   "cell_type": "code",
   "execution_count": 25,
   "metadata": {},
   "outputs": [
    {
     "name": "stdout",
     "output_type": "stream",
     "text": [
      "0        8450\n",
      "1        9600\n",
      "2       11250\n",
      "3        9550\n",
      "4       14260\n",
      "        ...  \n",
      "1455     7917\n",
      "1456    13175\n",
      "1457     9042\n",
      "1458     9717\n",
      "1459     9937\n",
      "Name: LotArea, Length: 1391, dtype: int64\n",
      "Q1: 7553.5\n",
      "Q3: 11601.5\n",
      "IQR: 4048.0\n",
      "Oulier Upper: [ 50271  19900  21000  21453  19378  31770  22950  25419 159000  19296\n",
      "  39104  19138  18386 215245 164660  20431  18800  53107  34650  22420\n",
      "  21750  70761  53227  40094  32668  21872  21780  25095  46589  20896\n",
      "  18450  21535  26178 115149  21695  53504  21384  28698  45600  17920\n",
      "  25286  27650  24090  25000  21286  21750  29959  18000  23257  17755\n",
      "  35760  18030  35133  32463  18890  24682  23595  17871  36500  63887\n",
      "  20781  25339  57200  20544  19690  21930  26142]\n",
      "Outlier Lower: [1300 1477]\n"
     ]
    },
    {
     "ename": "IndexError",
     "evalue": "index 8450 is out of bounds for axis 0 with size 1460",
     "output_type": "error",
     "traceback": [
      "\u001b[0;31m---------------------------------------------------------------------------\u001b[0m",
      "\u001b[0;31mIndexError\u001b[0m                                Traceback (most recent call last)",
      "\u001b[0;32m<ipython-input-25-6d50fd781a69>\u001b[0m in \u001b[0;36m<module>\u001b[0;34m\u001b[0m\n\u001b[1;32m     20\u001b[0m     \u001b[0mprint\u001b[0m\u001b[0;34m(\u001b[0m\u001b[0;34m'Oulier Upper:'\u001b[0m\u001b[0;34m,\u001b[0m \u001b[0mus\u001b[0m\u001b[0;34m[\u001b[0m\u001b[0mus\u001b[0m \u001b[0;34m>\u001b[0m \u001b[0;34m(\u001b[0m\u001b[0mus_Q3\u001b[0m \u001b[0;34m+\u001b[0m \u001b[0;36m1.5\u001b[0m \u001b[0;34m*\u001b[0m \u001b[0mIQR\u001b[0m\u001b[0;34m)\u001b[0m\u001b[0;34m]\u001b[0m\u001b[0;34m.\u001b[0m\u001b[0mvalues\u001b[0m\u001b[0;34m)\u001b[0m\u001b[0;34m\u001b[0m\u001b[0;34m\u001b[0m\u001b[0m\n\u001b[1;32m     21\u001b[0m     \u001b[0mprint\u001b[0m\u001b[0;34m(\u001b[0m\u001b[0;34m'Outlier Lower:'\u001b[0m\u001b[0;34m,\u001b[0m \u001b[0mus\u001b[0m\u001b[0;34m[\u001b[0m\u001b[0mus\u001b[0m \u001b[0;34m<\u001b[0m \u001b[0;34m(\u001b[0m\u001b[0mus_Q1\u001b[0m \u001b[0;34m-\u001b[0m \u001b[0;36m1.5\u001b[0m \u001b[0;34m*\u001b[0m \u001b[0mIQR\u001b[0m\u001b[0;34m)\u001b[0m\u001b[0;34m]\u001b[0m\u001b[0;34m.\u001b[0m\u001b[0mvalues\u001b[0m\u001b[0;34m)\u001b[0m\u001b[0;34m\u001b[0m\u001b[0;34m\u001b[0m\u001b[0m\n\u001b[0;32m---> 22\u001b[0;31m     \u001b[0mprint\u001b[0m\u001b[0;34m(\u001b[0m\u001b[0mnp\u001b[0m\u001b[0;34m.\u001b[0m\u001b[0mdelete\u001b[0m\u001b[0;34m(\u001b[0m\u001b[0mus\u001b[0m\u001b[0;34m,\u001b[0m \u001b[0mus_out\u001b[0m\u001b[0;34m)\u001b[0m\u001b[0;34m)\u001b[0m\u001b[0;34m\u001b[0m\u001b[0;34m\u001b[0m\u001b[0m\n\u001b[0m",
      "\u001b[0;32m<__array_function__ internals>\u001b[0m in \u001b[0;36mdelete\u001b[0;34m(*args, **kwargs)\u001b[0m\n",
      "\u001b[0;32m~/Desktop/course-MachineLearning/venv/lib/python3.8/site-packages/numpy/lib/function_base.py\u001b[0m in \u001b[0;36mdelete\u001b[0;34m(arr, obj, axis)\u001b[0m\n\u001b[1;32m   4404\u001b[0m         \u001b[0;32melse\u001b[0m\u001b[0;34m:\u001b[0m\u001b[0;34m\u001b[0m\u001b[0;34m\u001b[0m\u001b[0m\n\u001b[1;32m   4405\u001b[0m             \u001b[0mkeep\u001b[0m \u001b[0;34m=\u001b[0m \u001b[0mones\u001b[0m\u001b[0;34m(\u001b[0m\u001b[0mN\u001b[0m\u001b[0;34m,\u001b[0m \u001b[0mdtype\u001b[0m\u001b[0;34m=\u001b[0m\u001b[0mbool\u001b[0m\u001b[0;34m)\u001b[0m\u001b[0;34m\u001b[0m\u001b[0;34m\u001b[0m\u001b[0m\n\u001b[0;32m-> 4406\u001b[0;31m             \u001b[0mkeep\u001b[0m\u001b[0;34m[\u001b[0m\u001b[0mobj\u001b[0m\u001b[0;34m,\u001b[0m\u001b[0;34m]\u001b[0m \u001b[0;34m=\u001b[0m \u001b[0;32mFalse\u001b[0m\u001b[0;34m\u001b[0m\u001b[0;34m\u001b[0m\u001b[0m\n\u001b[0m\u001b[1;32m   4407\u001b[0m \u001b[0;34m\u001b[0m\u001b[0m\n\u001b[1;32m   4408\u001b[0m         \u001b[0mslobj\u001b[0m\u001b[0;34m[\u001b[0m\u001b[0maxis\u001b[0m\u001b[0;34m]\u001b[0m \u001b[0;34m=\u001b[0m \u001b[0mkeep\u001b[0m\u001b[0;34m\u001b[0m\u001b[0;34m\u001b[0m\u001b[0m\n",
      "\u001b[0;31mIndexError\u001b[0m: index 8450 is out of bounds for axis 0 with size 1460"
     ]
    }
   ],
   "source": [
    "# Nếu không phải phân phối chuẩn: xác định Q1, Q3, IQR, Oulier Upper, Outlier Lower.\n",
    "# căn cứ độ nhọn lớn hơn 0 (theo Kurtosis) => phân bố này nhọn hơn phân bố chuẩn\n",
    "# các phân bố không phải phân phối chuẩn gồm:\n",
    "un_standards = ['LotArea', '1stFlrSF', 'BedroomAbvGr', 'TotRmsAbvGrd']\n",
    "un_standards_df = df[un_standards]\n",
    "Q1 = un_standards_df.quantile(0.25)\n",
    "Q3 = un_standards_df.quantile(0.75)\n",
    "IQR = Q3-Q1\n",
    "\n",
    "for u in un_standards:\n",
    "    us = df[u]\n",
    "    us_Q1 = Q1[u]\n",
    "    us_Q3 = Q3[u]\n",
    "    IQR = Q3[u] - Q1[u]\n",
    "    us_out = us[~((us < (us_Q1 - 1.5 * IQR)) |(us > (us_Q3 + 1.5 * IQR)))]\n",
    "    print(us_out)\n",
    "    print('Q1:', us_Q1)\n",
    "    print('Q3:', us_Q3)\n",
    "    print('IQR:', IQR)\n",
    "    print('Oulier Upper:', us[us > (us_Q3 + 1.5 * IQR)].values)\n",
    "    print('Outlier Lower:', us[us < (us_Q1 - 1.5 * IQR)].values)\n",
    "    print(np.delete(us, us_out))"
   ]
  },
  {
   "cell_type": "code",
   "execution_count": 17,
   "metadata": {},
   "outputs": [
    {
     "name": "stdout",
     "output_type": "stream",
     "text": [
      "YearBuilt\n",
      "Outlier Lower values: [1885 1892 1880 1893 1880 1890 1880 1890 1882 1880 1875 1892 1872 1885]\n",
      "Outlier Lower values: []\n",
      "--------------------\n",
      "2ndFlrSF\n",
      "Outlier Lower values: []\n",
      "Outlier Lower values: [1519 1523 1518 1818 1538 1440 1872 1540 1589 1796 2065 1479 1611]\n",
      "--------------------\n",
      "FullBath\n",
      "Outlier Lower values: [0 0 0 0 0 0 0 0 0]\n",
      "Outlier Lower values: [3 3 3 3 3 3 3 3 3 3 3 3 3 3 3 3 3 3 3 3 3 3 3 3 3 3 3 3 3 3 3 3 3]\n",
      "--------------------\n"
     ]
    }
   ],
   "source": [
    "# Nếu là phân phối chuẩn: xác định Oulier Upper, Outlier Lower theo Z-score\n",
    "# Các phân bố là phân phối chuẩn gồm:\n",
    "from scipy import stats\n",
    "\n",
    "standards = ['YearBuilt', '2ndFlrSF', 'FullBath']\n",
    "for standard in standards:\n",
    "    z_score = stats.zscore(df[standard])\n",
    "    print(standard)\n",
    "    print('Outlier Lower values:', df[standard][z_score <= -2.5].values)\n",
    "    print('Outlier Lower values:', df[standard][z_score >= 2.5].values)\n",
    "    print('-'*20)"
   ]
  },
  {
   "cell_type": "markdown",
   "metadata": {
    "id": "ClJLNh8gmyvm"
   },
   "source": [
    "### 2.2. Với mỗi biến categorical hãy thực hiện các yêu cầu sau:\n",
    "- Sử dụng groupby, count để đếm số các giá trị phân biệt có trong biến\n",
    "- Vẽ đồ thị dạng bar plot với các dữ liệu nhận được. Nhận xét. \n",
    "\n",
    "#### Categorical Variables\n",
    "- FullBath\n",
    "- BedroomAbvGr\n",
    "- TotRmsAbvGrd"
   ]
  },
  {
   "cell_type": "markdown",
   "metadata": {
    "id": "Xjgqk-eJmyv3"
   },
   "source": [
    "## 3. Phân tích hai biến\n",
    "### Continuous & Continous\n",
    "- Sử dụng pairplot để vẽ dữ liệu có trong 3 biến ['LotArea', '1stFlrSF', '2ndFlrSF]\n",
    "- Sử dụng hàm corr để tính độ tương quan của 3 biến này.\n",
    "- Nhận xét mối liên hệ giữa các biến"
   ]
  },
  {
   "cell_type": "markdown",
   "metadata": {
    "id": "NiffF12u3thR"
   },
   "source": [
    "### Categorical & Categorical\n",
    "- 'FullBath', 'BedroomAbvGr', 'TotRmsAbvGrd'\n",
    "- Dùng Chi-square test để kiểm tra độ tương qua giữa các cặp biến: FullBath' và 'BedroomAbvGr', ...  ."
   ]
  },
  {
   "cell_type": "markdown",
   "metadata": {
    "id": "uW94DYsr3thR"
   },
   "source": [
    "### Categorical & Continuous\n",
    "- Có quan hệ giữa 'FullBath' và 'LotArea'? ('FullBath' có bị ảnh hưởng bởi'LotArea'?).\n",
    "- Dùng biểu đồ boxplot của Seaborn để vẽ biểu đồ giữa 2 biến (x=\"FullBath\", y=\"LotArea\") \n",
    "- Dùng ANOVA one way.\n",
    "- Dùng Tukey HSD nhận xét về mối quan hệ (nếu có)."
   ]
  },
  {
   "cell_type": "markdown",
   "metadata": {
    "id": "hXGlys8vmywZ"
   },
   "source": [
    "## 4. Xử lý dữ liệu thiếu\n",
    "- Kiểm tra xem có cột nào chứa dữ liệu null không"
   ]
  }
 ],
 "metadata": {
  "colab": {
   "collapsed_sections": [
    "5jm__gcwmyvm",
    "ClJLNh8gmyvm",
    "HM4-fxKSmywH"
   ],
   "name": "Bai thi - Ho va ten hoc vien.ipynb",
   "provenance": []
  },
  "kernelspec": {
   "display_name": "Python 3",
   "language": "python",
   "name": "python3"
  },
  "language_info": {
   "codemirror_mode": {
    "name": "ipython",
    "version": 3
   },
   "file_extension": ".py",
   "mimetype": "text/x-python",
   "name": "python",
   "nbconvert_exporter": "python",
   "pygments_lexer": "ipython3",
   "version": "3.8.5"
  }
 },
 "nbformat": 4,
 "nbformat_minor": 4
}
