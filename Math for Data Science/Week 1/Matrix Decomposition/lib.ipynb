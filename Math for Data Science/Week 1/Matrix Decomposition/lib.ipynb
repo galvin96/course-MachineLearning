{
 "cells": [
  {
   "cell_type": "code",
   "execution_count": 1,
   "metadata": {},
   "outputs": [],
   "source": [
    "import random\n",
    "import numpy as np"
   ]
  },
  {
   "cell_type": "code",
   "execution_count": 2,
   "metadata": {},
   "outputs": [],
   "source": [
    "def create_matrix(m, n):\n",
    "    lst = []\n",
    "    for i in range(m):\n",
    "        lst_sub = []\n",
    "        for j in range(n):\n",
    "            s= \"M[\" + str(i+1) + \",\" + str(j+1) + \"]:\"\n",
    "            x = eval(input(s))\n",
    "            lst_sub.append(x)\n",
    "        lst.append(lst_sub)\n",
    "    return np.matrix(lst)"
   ]
  },
  {
   "cell_type": "code",
   "execution_count": 3,
   "metadata": {},
   "outputs": [],
   "source": [
    "def create_vector(n):\n",
    "    lst = []\n",
    "    for i in range(n):\n",
    "        s= \"v[\" + str(i+1) + \"]:\"\n",
    "        x = eval(input(s))\n",
    "        lst.append(x)\n",
    "    return np.array(lst)"
   ]
  },
  {
   "cell_type": "code",
   "execution_count": 4,
   "metadata": {},
   "outputs": [],
   "source": [
    "def create_matrix_random(m, n, start, end):\n",
    "    lst = []\n",
    "    for i in range(m):\n",
    "        lst_sub = []\n",
    "        for j in range(n):\n",
    "            x = random.randint(start,end+1)\n",
    "            lst_sub.append(x)\n",
    "        lst.append(lst_sub)\n",
    "    return np.matrix(lst)"
   ]
  },
  {
   "cell_type": "code",
   "execution_count": 5,
   "metadata": {},
   "outputs": [],
   "source": [
    "def create_vector_random(n, start, end):\n",
    "    lst = []\n",
    "    for i in range(n):        \n",
    "        x = random.randint(start,end+1)\n",
    "        lst.append(x)\n",
    "    return np.array(lst)"
   ]
  },
  {
   "cell_type": "code",
   "execution_count": null,
   "metadata": {},
   "outputs": [],
   "source": []
  }
 ],
 "metadata": {
  "kernelspec": {
   "display_name": "Python 3",
   "language": "python",
   "name": "python3"
  },
  "language_info": {
   "codemirror_mode": {
    "name": "ipython",
    "version": 3
   },
   "file_extension": ".py",
   "mimetype": "text/x-python",
   "name": "python",
   "nbconvert_exporter": "python",
   "pygments_lexer": "ipython3",
   "version": "3.6.8"
  }
 },
 "nbformat": 4,
 "nbformat_minor": 2
}
