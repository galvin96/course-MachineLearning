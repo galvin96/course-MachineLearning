{
 "cells": [
  {
   "cell_type": "markdown",
   "metadata": {},
   "source": [
    "# Ex1: Decomposition"
   ]
  },
  {
   "cell_type": "markdown",
   "metadata": {},
   "source": [
    "## Câu 1: LU Decomposition\n",
    "- Tạo ma trận A(4x4) chứa các giá trị ngẫu nhiên trong khoảng 1 - 10\n",
    "- Phân tích thành các thành phần P, L, U. In kết quả\n",
    "- Tại tạo ma trận B từ các thành phần P, L, U. "
   ]
  },
  {
   "cell_type": "markdown",
   "metadata": {},
   "source": [
    "## Câu 2: Hãy dùng LU Decompostion để làm lại bài toán này:\n",
    "- Cho: <br/>\n",
    "    2a + b  + c = 4<br/> \n",
    "     a + 3b + 2c = 5<br/>\n",
    "     a          = 6<br/>   \n",
    "- Quy về Ax = B. Sau đó giải tìm x\n",
    "- Phân tích thành các thành phần P, L, U từ A. In kết quả\n",
    "- Tại tạo ma trận A từ các thành phần P, L, U với tên là A_new"
   ]
  },
  {
   "cell_type": "markdown",
   "metadata": {},
   "source": [
    "## Câu 3: QR Decomposition\n",
    "- Tạo ma trận C(4x5) chứa các giá trị ngẫu nhiên trong khoảng 5 - 10\n",
    "- Phân tích thành các thành phần Q, R. In kết quả\n",
    "- Tái tạo ma trận D từ các thành phần Q, R. "
   ]
  },
  {
   "cell_type": "markdown",
   "metadata": {},
   "source": [
    "## Câu 4: Cholesky Decomposition\n",
    "- Tạo ma trận E(3x3) vuông chứa các giá trị ngẫu nhiên trong khoảng 3 - 9.\n",
    "- Từ đó chuyển E thành ma trận vuông đối xứng theo tam giác dưới dường chéo chính\n",
    "- Kiểm tra nếu mọi thành phần đều không âm thì:\n",
    "    - Phân tích thành L. In kết quả\n",
    "    - Tái tạo ma trận F từ các thành phần L.L.T \n",
    "- Ngược lại thì thông báo E có thành phần âm\n",
    "- Chú ý: dùng np.linalg.eigvalsh(E) để kiểm tra xem mọi thành phần có âm hay không\n",
    "- Mở rộng: Thực hiện việc tạo ma trận vuông đối xứng với mọi thành phần đều không âm và phân tích."
   ]
  },
  {
   "cell_type": "markdown",
   "metadata": {},
   "source": [
    "## Câu 1: LU Decomposition (Gợi ý)"
   ]
  },
  {
   "cell_type": "code",
   "execution_count": 1,
   "metadata": {},
   "outputs": [],
   "source": [
    "from lib import *\n",
    "import numpy\n",
    "import scipy\n",
    "from scipy.linalg import lu"
   ]
  },
  {
   "cell_type": "code",
   "execution_count": 2,
   "metadata": {},
   "outputs": [
    {
     "data": {
      "text/plain": [
       "array([[ 6,  6, 10,  2],\n",
       "       [ 8,  6,  7,  8],\n",
       "       [ 3,  7,  9,  6],\n",
       "       [ 9,  6,  5,  1]])"
      ]
     },
     "execution_count": 2,
     "metadata": {},
     "output_type": "execute_result"
    }
   ],
   "source": [
    "A = create_matrix_random(4, 4, 1, 10)\n",
    "A"
   ]
  },
  {
   "cell_type": "code",
   "execution_count": 3,
   "metadata": {},
   "outputs": [],
   "source": [
    "P, L, U = lu(A)"
   ]
  },
  {
   "cell_type": "code",
   "execution_count": 4,
   "metadata": {},
   "outputs": [
    {
     "data": {
      "text/plain": [
       "array([[0., 0., 1., 0.],\n",
       "       [0., 0., 0., 1.],\n",
       "       [0., 1., 0., 0.],\n",
       "       [1., 0., 0., 0.]])"
      ]
     },
     "execution_count": 4,
     "metadata": {},
     "output_type": "execute_result"
    }
   ],
   "source": [
    "P"
   ]
  },
  {
   "cell_type": "code",
   "execution_count": 5,
   "metadata": {},
   "outputs": [
    {
     "data": {
      "text/plain": [
       "array([[1.        , 0.        , 0.        , 0.        ],\n",
       "       [0.33333333, 1.        , 0.        , 0.        ],\n",
       "       [0.66666667, 0.4       , 1.        , 0.        ],\n",
       "       [0.88888889, 0.13333333, 0.42261905, 1.        ]])"
      ]
     },
     "execution_count": 5,
     "metadata": {},
     "output_type": "execute_result"
    }
   ],
   "source": [
    "L"
   ]
  },
  {
   "cell_type": "code",
   "execution_count": 6,
   "metadata": {},
   "outputs": [
    {
     "data": {
      "text/plain": [
       "array([[ 9.        ,  6.        ,  5.        ,  1.        ],\n",
       "       [ 0.        ,  5.        ,  7.33333333,  5.66666667],\n",
       "       [ 0.        ,  0.        ,  3.73333333, -0.93333333],\n",
       "       [ 0.        ,  0.        ,  0.        ,  6.75      ]])"
      ]
     },
     "execution_count": 6,
     "metadata": {},
     "output_type": "execute_result"
    }
   ],
   "source": [
    "U"
   ]
  },
  {
   "cell_type": "code",
   "execution_count": 7,
   "metadata": {},
   "outputs": [
    {
     "data": {
      "text/plain": [
       "array([[ 6.,  6., 10.,  2.],\n",
       "       [ 8.,  6.,  7.,  8.],\n",
       "       [ 3.,  7.,  9.,  6.],\n",
       "       [ 9.,  6.,  5.,  1.]])"
      ]
     },
     "execution_count": 7,
     "metadata": {},
     "output_type": "execute_result"
    }
   ],
   "source": [
    "B = P.dot(L).dot(U)\n",
    "B"
   ]
  },
  {
   "cell_type": "markdown",
   "metadata": {},
   "source": [
    "## Câu 2: Hãy dùng LU Decompostion để làm lại bài toán này:\n",
    "- Cho: <br/>\n",
    "    2a + b  + c = 4<br/> \n",
    "     a + 3b + 2c = 5<br/>\n",
    "     a          = 6<br/>   \n",
    "- Quy về Ax = B. Sau đó giải tìm x\n",
    "- Phân tích thành các thành phần P, L, U từ A. In kết quả\n",
    "- Tại tạo ma trận A từ các thành phần P, L, U với tên là A_new"
   ]
  },
  {
   "cell_type": "code",
   "execution_count": 8,
   "metadata": {},
   "outputs": [],
   "source": [
    "import scipy.linalg as linalg "
   ]
  },
  {
   "cell_type": "code",
   "execution_count": 9,
   "metadata": {},
   "outputs": [],
   "source": [
    "# define matrix A using Numpy arrays \n",
    "A = np.array([[2, 1, 1], [1, 3, 2], [1, 0, 0]]) "
   ]
  },
  {
   "cell_type": "code",
   "execution_count": 10,
   "metadata": {},
   "outputs": [],
   "source": [
    "# define matrix B \n",
    "B = np.array([4, 5, 6]) "
   ]
  },
  {
   "cell_type": "code",
   "execution_count": 18,
   "metadata": {},
   "outputs": [
    {
     "data": {
      "text/plain": [
       "(array([[ 2. ,  1. ,  1. ],\n",
       "        [ 0.5,  2.5,  1.5],\n",
       "        [ 0.5, -0.2, -0.2]]),\n",
       " array([0, 1, 2], dtype=int32))"
      ]
     },
     "execution_count": 18,
     "metadata": {},
     "output_type": "execute_result"
    }
   ],
   "source": [
    "# With LU = A\n",
    "LU = linalg.lu_factor(A) \n",
    "LU"
   ]
  },
  {
   "cell_type": "code",
   "execution_count": 12,
   "metadata": {},
   "outputs": [
    {
     "name": "stdout",
     "output_type": "stream",
     "text": [
      "Solutions(a, b, c):\n",
      " [  6.  15. -23.]\n"
     ]
    }
   ],
   "source": [
    "#solve given LU and B \n",
    "x = linalg.lu_solve(LU, B) \n",
    "print(\"Solutions(a, b, c):\\n\",x) "
   ]
  },
  {
   "cell_type": "code",
   "execution_count": 13,
   "metadata": {},
   "outputs": [],
   "source": [
    "P, L, U = scipy.linalg.lu(A) "
   ]
  },
  {
   "cell_type": "code",
   "execution_count": 14,
   "metadata": {},
   "outputs": [
    {
     "data": {
      "text/plain": [
       "array([[1., 0., 0.],\n",
       "       [0., 1., 0.],\n",
       "       [0., 0., 1.]])"
      ]
     },
     "execution_count": 14,
     "metadata": {},
     "output_type": "execute_result"
    }
   ],
   "source": [
    "P"
   ]
  },
  {
   "cell_type": "code",
   "execution_count": 15,
   "metadata": {},
   "outputs": [
    {
     "data": {
      "text/plain": [
       "array([[ 1. ,  0. ,  0. ],\n",
       "       [ 0.5,  1. ,  0. ],\n",
       "       [ 0.5, -0.2,  1. ]])"
      ]
     },
     "execution_count": 15,
     "metadata": {},
     "output_type": "execute_result"
    }
   ],
   "source": [
    "L"
   ]
  },
  {
   "cell_type": "code",
   "execution_count": 16,
   "metadata": {},
   "outputs": [
    {
     "data": {
      "text/plain": [
       "array([[ 2. ,  1. ,  1. ],\n",
       "       [ 0. ,  2.5,  1.5],\n",
       "       [ 0. ,  0. , -0.2]])"
      ]
     },
     "execution_count": 16,
     "metadata": {},
     "output_type": "execute_result"
    }
   ],
   "source": [
    "U"
   ]
  },
  {
   "cell_type": "code",
   "execution_count": 17,
   "metadata": {},
   "outputs": [
    {
     "data": {
      "text/plain": [
       "array([[ 2.00000000e+00,  1.00000000e+00,  1.00000000e+00],\n",
       "       [ 1.00000000e+00,  3.00000000e+00,  2.00000000e+00],\n",
       "       [ 1.00000000e+00, -2.77555756e-17,  2.77555756e-17]])"
      ]
     },
     "execution_count": 17,
     "metadata": {},
     "output_type": "execute_result"
    }
   ],
   "source": [
    "A_new = P.dot(L).dot(U)\n",
    "A_new"
   ]
  },
  {
   "cell_type": "markdown",
   "metadata": {},
   "source": [
    "## Câu 3: QR Decomposition (Gợi ý)\n",
    "- Tạo ma trận C(4x5) chứa các giá trị ngẫu nhiên trong khoảng 5 - 10\n",
    "- Phân tích thành các thành phần Q, R. In kết quả\n",
    "- Tái tạo ma trận D từ các thành phần Q, R. "
   ]
  },
  {
   "cell_type": "code",
   "execution_count": 18,
   "metadata": {},
   "outputs": [],
   "source": [
    "from numpy.linalg import qr"
   ]
  },
  {
   "cell_type": "code",
   "execution_count": 19,
   "metadata": {},
   "outputs": [
    {
     "data": {
      "text/plain": [
       "array([[ 7,  6,  5, 10, 10],\n",
       "       [ 7,  9,  9,  7, 11],\n",
       "       [ 8,  9, 10,  7, 10],\n",
       "       [ 5, 11,  7,  5,  7]])"
      ]
     },
     "execution_count": 19,
     "metadata": {},
     "output_type": "execute_result"
    }
   ],
   "source": [
    "B = create_matrix_random(4, 5, 5, 10)\n",
    "B"
   ]
  },
  {
   "cell_type": "code",
   "execution_count": 20,
   "metadata": {},
   "outputs": [],
   "source": [
    "Q, R = qr(B, 'complete')"
   ]
  },
  {
   "cell_type": "code",
   "execution_count": 21,
   "metadata": {},
   "outputs": [
    {
     "data": {
      "text/plain": [
       "array([[-0.5118907 ,  0.48082372,  0.71157749, -0.02083107],\n",
       "       [-0.5118907 , -0.05651115, -0.35292388, -0.78116524],\n",
       "       [-0.58501794,  0.1657022 , -0.51512972,  0.60410112],\n",
       "       [-0.36563621, -0.85916111,  0.3220925 ,  0.15623305]])"
      ]
     },
     "execution_count": 21,
     "metadata": {},
     "output_type": "execute_result"
    }
   ],
   "source": [
    "Q"
   ]
  },
  {
   "cell_type": "code",
   "execution_count": 22,
   "metadata": {},
   "outputs": [
    {
     "data": {
      "text/plain": [
       "array([[-13.67479433, -16.96552024, -15.57610263, -14.62544848,\n",
       "        -19.15933751],\n",
       "       [  0.        ,  -5.58311051,  -2.46158758,   1.27676897,\n",
       "         -0.17049128],\n",
       "       [  0.        ,   0.        ,  -2.5150772 ,   2.6498622 ,\n",
       "          0.3369625 ],\n",
       "       [  0.        ,   0.        ,   0.        ,  -0.66659434,\n",
       "         -1.66648585]])"
      ]
     },
     "execution_count": 22,
     "metadata": {},
     "output_type": "execute_result"
    }
   ],
   "source": [
    "R"
   ]
  },
  {
   "cell_type": "code",
   "execution_count": 23,
   "metadata": {},
   "outputs": [],
   "source": [
    "C = Q.dot(R)"
   ]
  },
  {
   "cell_type": "code",
   "execution_count": 24,
   "metadata": {},
   "outputs": [
    {
     "data": {
      "text/plain": [
       "array([[ 7.,  6.,  5., 10., 10.],\n",
       "       [ 7.,  9.,  9.,  7., 11.],\n",
       "       [ 8.,  9., 10.,  7., 10.],\n",
       "       [ 5., 11.,  7.,  5.,  7.]])"
      ]
     },
     "execution_count": 24,
     "metadata": {},
     "output_type": "execute_result"
    }
   ],
   "source": [
    "C"
   ]
  },
  {
   "cell_type": "markdown",
   "metadata": {},
   "source": [
    "## Câu 4: Cholesky Decomposition (Gợi ý)\n",
    "- Tạo ma trận E(3x3) vuông chứa các giá trị ngẫu nhiên trong khoảng 3 - 9.\n",
    "- Từ đó chuyển E thành ma trận vuông đối xứng theo tam giác dưới dường chéo chính\n",
    "- Kiểm tra nếu mọi thành phần đều không âm thì:\n",
    "    - Phân tích thành L. In kết quả\n",
    "    - Tái tạo ma trận F từ các thành phần L.L.T \n",
    "- Ngược lại thì thông báo E có thành phần âm\n",
    "- Chú ý: dùng np.linalg.eigvalsh(E) để kiểm tra xem mọi thành phần có âm hay không\n",
    "- Mở rộng: Thực hiện việc tạo ma trận vuông đối xứng với mọi thành phần đều không âm và phân tích."
   ]
  },
  {
   "cell_type": "code",
   "execution_count": 25,
   "metadata": {},
   "outputs": [],
   "source": [
    "from numpy.linalg import cholesky"
   ]
  },
  {
   "cell_type": "code",
   "execution_count": 26,
   "metadata": {},
   "outputs": [
    {
     "data": {
      "text/plain": [
       "array([[ 5,  5,  3],\n",
       "       [ 8, 10,  4],\n",
       "       [ 7,  7,  4]])"
      ]
     },
     "execution_count": 26,
     "metadata": {},
     "output_type": "execute_result"
    }
   ],
   "source": [
    "E = create_matrix_random(3, 3, 3, 9)\n",
    "E"
   ]
  },
  {
   "cell_type": "code",
   "execution_count": 27,
   "metadata": {},
   "outputs": [
    {
     "data": {
      "text/plain": [
       "(3, 3)"
      ]
     },
     "execution_count": 27,
     "metadata": {},
     "output_type": "execute_result"
    }
   ],
   "source": [
    "E.shape"
   ]
  },
  {
   "cell_type": "code",
   "execution_count": 28,
   "metadata": {},
   "outputs": [
    {
     "data": {
      "text/plain": [
       "array([[ 5,  8,  7],\n",
       "       [ 8, 10,  7],\n",
       "       [ 7,  7,  4]])"
      ]
     },
     "execution_count": 28,
     "metadata": {},
     "output_type": "execute_result"
    }
   ],
   "source": [
    "for i in range(E.shape[0]):\n",
    "    for j in range(i):\n",
    "        E[j][i] = E[i][j]\n",
    "E"
   ]
  },
  {
   "cell_type": "code",
   "execution_count": 29,
   "metadata": {},
   "outputs": [],
   "source": [
    "# Chú ý: Có 1 thành phần bị âm nên sẽ không tạo được L.\n",
    "# Kiểm tra mọi thành phần đều dương thì tạo L"
   ]
  },
  {
   "cell_type": "code",
   "execution_count": 30,
   "metadata": {},
   "outputs": [
    {
     "data": {
      "text/plain": [
       "array([-2.54176053,  0.12861241, 21.41314812])"
      ]
     },
     "execution_count": 30,
     "metadata": {},
     "output_type": "execute_result"
    }
   ],
   "source": [
    "test = np.linalg.eigvalsh(E)\n",
    "test"
   ]
  },
  {
   "cell_type": "code",
   "execution_count": 31,
   "metadata": {},
   "outputs": [],
   "source": [
    "flag = np.all(test>0)"
   ]
  },
  {
   "cell_type": "code",
   "execution_count": 32,
   "metadata": {},
   "outputs": [
    {
     "name": "stdout",
     "output_type": "stream",
     "text": [
      "E not positive definite\n"
     ]
    }
   ],
   "source": [
    "if flag==True:\n",
    "    L = cholesky(E)\n",
    "    print(L)\n",
    "    F = L.dot(L.T)\n",
    "else:\n",
    "    print('E not positive definite')"
   ]
  },
  {
   "cell_type": "code",
   "execution_count": 33,
   "metadata": {},
   "outputs": [],
   "source": [
    "def create_matrix_positive_definite(m, n, start, end):\n",
    "    E = None\n",
    "    flag = False\n",
    "    while flag == False:\n",
    "        E =  create_matrix_random(m, n, start, end)\n",
    "        for i in range(E.shape[0]):\n",
    "            for j in range(i):\n",
    "                E[j][i] = E[i][j]\n",
    "        test = np.linalg.eigvalsh(E)\n",
    "        flag = np.all(test>0)\n",
    "    return E"
   ]
  },
  {
   "cell_type": "code",
   "execution_count": 34,
   "metadata": {},
   "outputs": [
    {
     "data": {
      "text/plain": [
       "array([[7, 4, 6],\n",
       "       [4, 6, 3],\n",
       "       [6, 3, 9]])"
      ]
     },
     "execution_count": 34,
     "metadata": {},
     "output_type": "execute_result"
    }
   ],
   "source": [
    "E = create_matrix_positive_definite(3, 3, 3, 9)\n",
    "E"
   ]
  },
  {
   "cell_type": "code",
   "execution_count": 35,
   "metadata": {},
   "outputs": [
    {
     "name": "stdout",
     "output_type": "stream",
     "text": [
      "[[ 2.64575131  0.          0.        ]\n",
      " [ 1.51185789  1.92724822  0.        ]\n",
      " [ 2.26778684 -0.22237479  1.95133091]]\n"
     ]
    }
   ],
   "source": [
    "L = cholesky(E)\n",
    "print(L)"
   ]
  },
  {
   "cell_type": "code",
   "execution_count": 36,
   "metadata": {},
   "outputs": [
    {
     "name": "stdout",
     "output_type": "stream",
     "text": [
      "[[7. 4. 6.]\n",
      " [4. 6. 3.]\n",
      " [6. 3. 9.]]\n"
     ]
    }
   ],
   "source": [
    "F = L.dot(L.T)\n",
    "print(F)"
   ]
  },
  {
   "cell_type": "code",
   "execution_count": null,
   "metadata": {},
   "outputs": [],
   "source": []
  }
 ],
 "metadata": {
  "kernelspec": {
   "display_name": "Python 3",
   "language": "python",
   "name": "python3"
  },
  "language_info": {
   "codemirror_mode": {
    "name": "ipython",
    "version": 3
   },
   "file_extension": ".py",
   "mimetype": "text/x-python",
   "name": "python",
   "nbconvert_exporter": "python",
   "pygments_lexer": "ipython3",
   "version": "3.7.1"
  }
 },
 "nbformat": 4,
 "nbformat_minor": 4
}
