{
 "cells": [
  {
   "cell_type": "markdown",
   "metadata": {},
   "source": [
    "# Ex1: Decomposition"
   ]
  },
  {
   "cell_type": "markdown",
   "metadata": {},
   "source": [
    "## Câu 1: LU Decomposition\n",
    "- Tạo ma trận A(4x4) chứa các giá trị ngẫu nhiên trong khoảng 1 - 10\n",
    "- Phân tích thành các thành phần P, L, U. In kết quả\n",
    "- Tại tạo ma trận B từ các thành phần P, L, U. "
   ]
  },
  {
   "cell_type": "markdown",
   "metadata": {},
   "source": [
    "## Câu 2: Hãy dùng LU Decompostion để làm lại bài toán này:\n",
    "- Cho: <br/>\n",
    "    2a + b  + c = 4<br/> \n",
    "     a + 3b + 2c = 5<br/>\n",
    "     a          = 6<br/>   \n",
    "- Quy về Ax = B. Sau đó giải tìm x\n",
    "- Phân tích thành các thành phần P, L, U từ A. In kết quả\n",
    "- Tại tạo ma trận A từ các thành phần P, L, U với tên là A_new"
   ]
  },
  {
   "cell_type": "markdown",
   "metadata": {},
   "source": [
    "## Câu 3: QR Decomposition\n",
    "- Tạo ma trận C(4x5) chứa các giá trị ngẫu nhiên trong khoảng 5 - 10\n",
    "- Phân tích thành các thành phần Q, R. In kết quả\n",
    "- Tái tạo ma trận D từ các thành phần Q, R. "
   ]
  },
  {
   "cell_type": "markdown",
   "metadata": {},
   "source": [
    "## Câu 4: Cholesky Decomposition\n",
    "- Tạo ma trận E(3x3) vuông chứa các giá trị ngẫu nhiên trong khoảng 3 - 9.\n",
    "- Từ đó chuyển E thành ma trận vuông đối xứng theo tam giác dưới dường chéo chính\n",
    "- Kiểm tra nếu mọi thành phần đều không âm thì:\n",
    "    - Phân tích thành L. In kết quả\n",
    "    - Tái tạo ma trận F từ các thành phần L.L.T \n",
    "- Ngược lại thì thông báo E có thành phần âm\n",
    "- Chú ý: dùng np.linalg.eigvalsh(E) để kiểm tra xem mọi thành phần có âm hay không\n",
    "- Mở rộng: Thực hiện việc tạo ma trận vuông đối xứng với mọi thành phần đều không âm và phân tích."
   ]
  },
  {
   "cell_type": "markdown",
   "metadata": {},
   "source": [
    "## Câu 1: LU Decomposition (Gợi ý)"
   ]
  },
  {
   "cell_type": "code",
   "execution_count": null,
   "metadata": {},
   "outputs": [],
   "source": [
    "from lib import *\n",
    "import numpy\n",
    "import scipy\n",
    "from scipy.linalg import lu"
   ]
  },
  {
   "cell_type": "code",
   "execution_count": 2,
   "metadata": {},
   "outputs": [
    {
     "data": {
      "text/plain": [
       "array([[ 8, 10, 10,  3],\n",
       "       [ 2,  9,  6,  9],\n",
       "       [ 8,  2,  2,  8],\n",
       "       [ 1,  1,  4,  1]])"
      ]
     },
     "execution_count": 2,
     "metadata": {},
     "output_type": "execute_result"
    }
   ],
   "source": [
    "A = create_matrix_random(4, 4, 1, 10)\n",
    "A"
   ]
  },
  {
   "cell_type": "code",
   "execution_count": 3,
   "metadata": {},
   "outputs": [],
   "source": [
    "P, L, U = lu(A)"
   ]
  },
  {
   "cell_type": "code",
   "execution_count": 4,
   "metadata": {},
   "outputs": [
    {
     "data": {
      "text/plain": [
       "array([[1., 0., 0., 0.],\n",
       "       [0., 0., 1., 0.],\n",
       "       [0., 1., 0., 0.],\n",
       "       [0., 0., 0., 1.]])"
      ]
     },
     "execution_count": 4,
     "metadata": {},
     "output_type": "execute_result"
    }
   ],
   "source": [
    "P"
   ]
  },
  {
   "cell_type": "code",
   "execution_count": 5,
   "metadata": {},
   "outputs": [
    {
     "data": {
      "text/plain": [
       "array([[ 1.     ,  0.     ,  0.     ,  0.     ],\n",
       "       [ 1.     ,  1.     ,  0.     ,  0.     ],\n",
       "       [ 0.25   , -0.8125 ,  1.     ,  0.     ],\n",
       "       [ 0.125  ,  0.03125, -1.     ,  1.     ]])"
      ]
     },
     "execution_count": 5,
     "metadata": {},
     "output_type": "execute_result"
    }
   ],
   "source": [
    "L"
   ]
  },
  {
   "cell_type": "code",
   "execution_count": 6,
   "metadata": {},
   "outputs": [
    {
     "data": {
      "text/plain": [
       "array([[ 8.     , 10.     , 10.     ,  3.     ],\n",
       "       [ 0.     , -8.     , -8.     ,  5.     ],\n",
       "       [ 0.     ,  0.     , -3.     , 12.3125 ],\n",
       "       [ 0.     ,  0.     ,  0.     , 12.78125]])"
      ]
     },
     "execution_count": 6,
     "metadata": {},
     "output_type": "execute_result"
    }
   ],
   "source": [
    "U"
   ]
  },
  {
   "cell_type": "code",
   "execution_count": 7,
   "metadata": {},
   "outputs": [
    {
     "data": {
      "text/plain": [
       "array([[ 8., 10., 10.,  3.],\n",
       "       [ 2.,  9.,  6.,  9.],\n",
       "       [ 8.,  2.,  2.,  8.],\n",
       "       [ 1.,  1.,  4.,  1.]])"
      ]
     },
     "execution_count": 7,
     "metadata": {},
     "output_type": "execute_result"
    }
   ],
   "source": [
    "B = P.dot(L).dot(U)\n",
    "B"
   ]
  },
  {
   "cell_type": "markdown",
   "metadata": {},
   "source": [
    "## Câu 2: Hãy dùng LU Decompostion để làm lại bài toán này:\n",
    "- Cho: <br/>\n",
    "    2a + b  + c = 4<br/> \n",
    "     a + 3b + 2c = 5<br/>\n",
    "     a          = 6<br/>   \n",
    "- Quy về Ax = B. Sau đó giải tìm x\n",
    "- Phân tích thành các thành phần P, L, U từ A. In kết quả\n",
    "- Tại tạo ma trận A từ các thành phần P, L, U với tên là A_new"
   ]
  },
  {
   "cell_type": "code",
   "execution_count": 8,
   "metadata": {},
   "outputs": [],
   "source": [
    "import scipy.linalg as linalg "
   ]
  },
  {
   "cell_type": "code",
   "execution_count": 9,
   "metadata": {},
   "outputs": [],
   "source": [
    "# define matrix A using Numpy arrays \n",
    "A = np.array([[2, 1, 1], [1, 3, 2], [1, 0, 0]]) "
   ]
  },
  {
   "cell_type": "code",
   "execution_count": 10,
   "metadata": {},
   "outputs": [],
   "source": [
    "# define matrix B \n",
    "B = np.array([4, 5, 6]) "
   ]
  },
  {
   "cell_type": "code",
   "execution_count": 11,
   "metadata": {},
   "outputs": [
    {
     "data": {
      "text/plain": [
       "(array([[ 2. ,  1. ,  1. ],\n",
       "        [ 0.5,  2.5,  1.5],\n",
       "        [ 0.5, -0.2, -0.2]]),\n",
       " array([0, 1, 2], dtype=int32))"
      ]
     },
     "execution_count": 11,
     "metadata": {},
     "output_type": "execute_result"
    }
   ],
   "source": [
    "# With LU = A\n",
    "LU = linalg.lu_factor(A)\n",
    "LU"
   ]
  },
  {
   "cell_type": "code",
   "execution_count": 12,
   "metadata": {},
   "outputs": [
    {
     "name": "stdout",
     "output_type": "stream",
     "text": [
      "Solutions(a, b, c):\n",
      " [  6.  15. -23.]\n"
     ]
    }
   ],
   "source": [
    "#solve given LU and B \n",
    "x = linalg.lu_solve(LU, B) \n",
    "print(\"Solutions(a, b, c):\\n\",x) "
   ]
  },
  {
   "cell_type": "code",
   "execution_count": 13,
   "metadata": {},
   "outputs": [],
   "source": [
    "P, L, U = scipy.linalg.lu(A) "
   ]
  },
  {
   "cell_type": "code",
   "execution_count": 14,
   "metadata": {},
   "outputs": [
    {
     "data": {
      "text/plain": [
       "array([[1., 0., 0.],\n",
       "       [0., 1., 0.],\n",
       "       [0., 0., 1.]])"
      ]
     },
     "execution_count": 14,
     "metadata": {},
     "output_type": "execute_result"
    }
   ],
   "source": [
    "P"
   ]
  },
  {
   "cell_type": "code",
   "execution_count": 15,
   "metadata": {},
   "outputs": [
    {
     "data": {
      "text/plain": [
       "array([[ 1. ,  0. ,  0. ],\n",
       "       [ 0.5,  1. ,  0. ],\n",
       "       [ 0.5, -0.2,  1. ]])"
      ]
     },
     "execution_count": 15,
     "metadata": {},
     "output_type": "execute_result"
    }
   ],
   "source": [
    "L"
   ]
  },
  {
   "cell_type": "code",
   "execution_count": 16,
   "metadata": {},
   "outputs": [
    {
     "data": {
      "text/plain": [
       "array([[ 2. ,  1. ,  1. ],\n",
       "       [ 0. ,  2.5,  1.5],\n",
       "       [ 0. ,  0. , -0.2]])"
      ]
     },
     "execution_count": 16,
     "metadata": {},
     "output_type": "execute_result"
    }
   ],
   "source": [
    "U"
   ]
  },
  {
   "cell_type": "code",
   "execution_count": 37,
   "metadata": {},
   "outputs": [
    {
     "data": {
      "text/plain": [
       "array([[5.65685425, 2.82842712, 2.82842712],\n",
       "       [4.24264069, 6.79839208, 4.92756338],\n",
       "       [4.24264069, 5.46208587, 3.74033001]])"
      ]
     },
     "execution_count": 37,
     "metadata": {},
     "output_type": "execute_result"
    }
   ],
   "source": [
    "A_new = P.dot(L).dot(U)\n",
    "# A_new\n",
    "L.dot(U)"
   ]
  },
  {
   "cell_type": "markdown",
   "metadata": {},
   "source": [
    "## Câu 3: QR Decomposition (Gợi ý)\n",
    "- Tạo ma trận C(4x5) chứa các giá trị ngẫu nhiên trong khoảng 5 - 10\n",
    "- Phân tích thành các thành phần Q, R. In kết quả\n",
    "- Tái tạo ma trận D từ các thành phần Q, R. "
   ]
  },
  {
   "cell_type": "code",
   "execution_count": 38,
   "metadata": {},
   "outputs": [],
   "source": [
    "from numpy.linalg import qr"
   ]
  },
  {
   "cell_type": "code",
   "execution_count": 39,
   "metadata": {},
   "outputs": [
    {
     "data": {
      "text/plain": [
       "array([[ 8, 11,  5,  5, 11],\n",
       "       [ 8, 11,  6,  9, 10],\n",
       "       [ 6, 11, 11,  7,  5],\n",
       "       [ 7,  9,  6, 11, 11]])"
      ]
     },
     "execution_count": 39,
     "metadata": {},
     "output_type": "execute_result"
    }
   ],
   "source": [
    "B = create_matrix_random(4, 5, 5, 10)\n",
    "B"
   ]
  },
  {
   "cell_type": "code",
   "execution_count": 40,
   "metadata": {},
   "outputs": [],
   "source": [
    "Q, R = qr(B, 'complete')"
   ]
  },
  {
   "cell_type": "code",
   "execution_count": 41,
   "metadata": {},
   "outputs": [
    {
     "data": {
      "text/plain": [
       "array([[-0.54815097, -0.16898057,  0.61183053,  0.5446462 ],\n",
       "       [-0.54815097, -0.16898057,  0.17464724, -0.80029646],\n",
       "       [-0.41111323,  0.89368076, -0.17097343,  0.05557614],\n",
       "       [-0.4796321 , -0.37977077, -0.75228308,  0.24453503]])"
      ]
     },
     "execution_count": 41,
     "metadata": {},
     "output_type": "execute_result"
    }
   ],
   "source": [
    "Q"
   ]
  },
  {
   "cell_type": "code",
   "execution_count": 42,
   "metadata": {},
   "outputs": [
    {
     "data": {
      "text/plain": [
       "array([[-14.59451952, -20.89825565, -13.42969871, -15.8278592 ,\n",
       "        -18.84268952],\n",
       "       [  0.        ,   2.69497881,   5.69307741,  -0.28744118,\n",
       "         -3.2576667 ],\n",
       "       [  0.        ,   0.        ,  -2.28737012,  -4.8409501 ,\n",
       "         -0.65337283],\n",
       "       [  0.        ,   0.        ,   0.        ,  -1.40051881,\n",
       "          0.95590966]])"
      ]
     },
     "execution_count": 42,
     "metadata": {},
     "output_type": "execute_result"
    }
   ],
   "source": [
    "R"
   ]
  },
  {
   "cell_type": "code",
   "execution_count": 43,
   "metadata": {},
   "outputs": [],
   "source": [
    "C = Q.dot(R)"
   ]
  },
  {
   "cell_type": "code",
   "execution_count": 44,
   "metadata": {},
   "outputs": [
    {
     "data": {
      "text/plain": [
       "array([[ 8., 11.,  5.,  5., 11.],\n",
       "       [ 8., 11.,  6.,  9., 10.],\n",
       "       [ 6., 11., 11.,  7.,  5.],\n",
       "       [ 7.,  9.,  6., 11., 11.]])"
      ]
     },
     "execution_count": 44,
     "metadata": {},
     "output_type": "execute_result"
    }
   ],
   "source": [
    "C"
   ]
  },
  {
   "cell_type": "markdown",
   "metadata": {},
   "source": [
    "## Câu 4: Cholesky Decomposition (Gợi ý)\n",
    "- Tạo ma trận E(3x3) vuông chứa các giá trị ngẫu nhiên trong khoảng 3 - 9.\n",
    "- Từ đó chuyển E thành ma trận vuông đối xứng theo tam giác dưới dường chéo chính\n",
    "- Kiểm tra nếu mọi thành phần đều không âm thì:\n",
    "    - Phân tích thành L. In kết quả\n",
    "    - Tái tạo ma trận F từ các thành phần L.L.T \n",
    "- Ngược lại thì thông báo E có thành phần âm\n",
    "- Chú ý: dùng np.linalg.eigvalsh(E) để kiểm tra xem mọi thành phần có âm hay không\n",
    "- Mở rộng: Thực hiện việc tạo ma trận vuông đối xứng với mọi thành phần đều không âm và phân tích."
   ]
  },
  {
   "cell_type": "code",
   "execution_count": 45,
   "metadata": {},
   "outputs": [],
   "source": [
    "from numpy.linalg import cholesky"
   ]
  },
  {
   "cell_type": "code",
   "execution_count": 46,
   "metadata": {},
   "outputs": [
    {
     "data": {
      "text/plain": [
       "array([[ 7,  6,  5],\n",
       "       [ 5,  7, 10],\n",
       "       [ 3,  9, 10]])"
      ]
     },
     "execution_count": 46,
     "metadata": {},
     "output_type": "execute_result"
    }
   ],
   "source": [
    "E = create_matrix_random(3, 3, 3, 9)\n",
    "E"
   ]
  },
  {
   "cell_type": "code",
   "execution_count": 47,
   "metadata": {},
   "outputs": [
    {
     "data": {
      "text/plain": [
       "(3, 3)"
      ]
     },
     "execution_count": 47,
     "metadata": {},
     "output_type": "execute_result"
    }
   ],
   "source": [
    "E.shape"
   ]
  },
  {
   "cell_type": "code",
   "execution_count": 48,
   "metadata": {},
   "outputs": [
    {
     "data": {
      "text/plain": [
       "array([[ 7,  5,  3],\n",
       "       [ 5,  7,  9],\n",
       "       [ 3,  9, 10]])"
      ]
     },
     "execution_count": 48,
     "metadata": {},
     "output_type": "execute_result"
    }
   ],
   "source": [
    "for i in range(E.shape[0]):\n",
    "    for j in range(i):\n",
    "        E[j][i] = E[i][j]\n",
    "E"
   ]
  },
  {
   "cell_type": "code",
   "execution_count": 49,
   "metadata": {},
   "outputs": [],
   "source": [
    "# Chú ý: Có 1 thành phần bị âm nên sẽ không tạo được L.\n",
    "# Kiểm tra mọi thành phần đều dương thì tạo L"
   ]
  },
  {
   "cell_type": "code",
   "execution_count": 50,
   "metadata": {},
   "outputs": [
    {
     "data": {
      "text/plain": [
       "array([-1.16227766,  5.16227766, 20.        ])"
      ]
     },
     "execution_count": 50,
     "metadata": {},
     "output_type": "execute_result"
    }
   ],
   "source": [
    "test = np.linalg.eigvalsh(E)\n",
    "test"
   ]
  },
  {
   "cell_type": "code",
   "execution_count": 52,
   "metadata": {},
   "outputs": [
    {
     "data": {
      "text/plain": [
       "False"
      ]
     },
     "execution_count": 52,
     "metadata": {},
     "output_type": "execute_result"
    }
   ],
   "source": [
    "flag = np.all(test>0)\n",
    "flag"
   ]
  },
  {
   "cell_type": "code",
   "execution_count": 53,
   "metadata": {},
   "outputs": [
    {
     "name": "stdout",
     "output_type": "stream",
     "text": [
      "E not positive definite\n"
     ]
    }
   ],
   "source": [
    "if flag==True:\n",
    "    L = cholesky(E)\n",
    "    print(L)\n",
    "    F = L.dot(L.T)\n",
    "else:\n",
    "    print('E not positive definite')"
   ]
  },
  {
   "cell_type": "code",
   "execution_count": 33,
   "metadata": {},
   "outputs": [],
   "source": [
    "def create_matrix_positive_definite(m, n, start, end):\n",
    "    E = None\n",
    "    flag = False\n",
    "    while flag == False:\n",
    "        E =  create_matrix_random(m, n, start, end)\n",
    "        for i in range(E.shape[0]):\n",
    "            for j in range(i):\n",
    "                E[j][i] = E[i][j]\n",
    "        test = np.linalg.eigvalsh(E)\n",
    "        flag = np.all(test>0)\n",
    "    return E"
   ]
  },
  {
   "cell_type": "code",
   "execution_count": 34,
   "metadata": {},
   "outputs": [
    {
     "data": {
      "text/plain": [
       "array([[ 8,  6,  6],\n",
       "       [ 6,  8,  7],\n",
       "       [ 6,  7, 10]])"
      ]
     },
     "execution_count": 34,
     "metadata": {},
     "output_type": "execute_result"
    }
   ],
   "source": [
    "E = create_matrix_positive_definite(3, 3, 3, 9)\n",
    "E"
   ]
  },
  {
   "cell_type": "code",
   "execution_count": 35,
   "metadata": {},
   "outputs": [
    {
     "name": "stdout",
     "output_type": "stream",
     "text": [
      "[[2.82842712 0.         0.        ]\n",
      " [2.12132034 1.87082869 0.        ]\n",
      " [2.12132034 1.33630621 1.92724822]]\n"
     ]
    }
   ],
   "source": [
    "L = cholesky(E)\n",
    "print(L)"
   ]
  },
  {
   "cell_type": "code",
   "execution_count": 36,
   "metadata": {},
   "outputs": [
    {
     "name": "stdout",
     "output_type": "stream",
     "text": [
      "[[ 8.  6.  6.]\n",
      " [ 6.  8.  7.]\n",
      " [ 6.  7. 10.]]\n"
     ]
    }
   ],
   "source": [
    "F = L.dot(L.T)\n",
    "print(F)"
   ]
  },
  {
   "cell_type": "code",
   "execution_count": null,
   "metadata": {},
   "outputs": [],
   "source": []
  }
 ],
 "metadata": {
  "kernelspec": {
   "display_name": "Python 3",
   "language": "python",
   "name": "python3"
  },
  "language_info": {
   "codemirror_mode": {
    "name": "ipython",
    "version": 3
   },
   "file_extension": ".py",
   "mimetype": "text/x-python",
   "name": "python",
   "nbconvert_exporter": "python",
   "pygments_lexer": "ipython3",
   "version": "3.8.5"
  }
 },
 "nbformat": 4,
 "nbformat_minor": 4
}
