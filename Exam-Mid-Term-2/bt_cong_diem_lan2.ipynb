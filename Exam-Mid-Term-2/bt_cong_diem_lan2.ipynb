{
 "cells": [
  {
   "cell_type": "markdown",
   "metadata": {},
   "source": [
    "## Câu 1:\n",
    "Cho dữ liệu lưu trong tập tin \"weather.csv\"\n",
    "1. Dùng Pandas vẽ biểu đồ dạng Box của 3 cột 'TMIN', 'TAVG', 'TMAX' và tiêu đề là 'Biểu đồ thời tiết'\n",
    "2. Thêm 1 cột dữ liệu 'TDIFF' là sự chênh lệch dữ liệu 'TMAX' - 'TMIN'\n",
    "3. Dùng Pandas vẽ biểu đồ histogram của dữ liệu 'TDIFF' với 30 bins và giới hạn trục x là 0 và lưu biểu đồ vào tập tin \"tdiff.png\" \n",
    "4. Tạo một DataFrame 'bad_weather' mới từ các cột 'WT01' đến 'WT22'\n",
    "5. Tạo một cột mới 'bad_weather' trên DataFrame 'weather' bằng cách tính tổng theo cột trên DataFrame 'bad_weather'\n",
    "6. Điền các giá trị còn thiếu trên cột 'bad_weather' là 0 và chuyển kiểu dữ liệu của cột là int\n",
    "7. Dùng matplotlib vẽ và lưu (trong tập tin \"bad_weather.png\") biểu đồ histogram của cột dữ liệu 'bad_weather'. Thiết lập số bins là 10, tiêu đề là 'Thời tiết', màu là 'green'"
   ]
  },
  {
   "cell_type": "markdown",
   "metadata": {},
   "source": [
    "## Câu 2:\n",
    "Cho dữ liệu lưu trong tập tin \"movies.csv\"\n",
    "1. Thiết lập các thông số cho các biểu đồ: pallete = 'Set2', style = 'whitegrid'\n",
    "2. Vẽ biểu đồ joinplot cho 2 cột dữ liệu x = 'CriticRating', y='AudienceRating'\n",
    "3. Vẽ biểu đồ displot cho cột dữ liệu 'AudienceRating' với số bins là 15 và tiêu đề là 'Audience Rating' \n",
    "4. Vẽ biểu đồ lmplot cho 2 cột dữ liệu x ='CriticRating', y= 'AudienceRating' với hue = 'Genre' \n",
    "5. Tạo 1 subplot 1 dòng 2 cột, với kích thước (15,6) chia sẽ trục x và y.\n",
    "   Vẽ 2 biểu đồ boxplot và violinplot cho 2 cột dữ liệu x ='Genre', y = 'CriticRating' sử dụng pallete màu là 'PRGn' "
   ]
  },
  {
   "cell_type": "code",
   "execution_count": null,
   "metadata": {},
   "outputs": [],
   "source": []
  }
 ],
 "metadata": {
  "kernelspec": {
   "display_name": "Python 3",
   "language": "python",
   "name": "python3"
  },
  "language_info": {
   "codemirror_mode": {
    "name": "ipython",
    "version": 3
   },
   "file_extension": ".py",
   "mimetype": "text/x-python",
   "name": "python",
   "nbconvert_exporter": "python",
   "pygments_lexer": "ipython3",
   "version": "3.6.8"
  }
 },
 "nbformat": 4,
 "nbformat_minor": 2
}
