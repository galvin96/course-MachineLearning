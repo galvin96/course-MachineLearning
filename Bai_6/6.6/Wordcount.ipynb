{
 "cells": [
  {
   "cell_type": "code",
   "execution_count": null,
   "metadata": {
    "colab": {
     "base_uri": "https://localhost:8080/",
     "height": 217
    },
    "colab_type": "code",
    "executionInfo": {
     "elapsed": 20203,
     "status": "ok",
     "timestamp": 1568478789702,
     "user": {
      "displayName": "Data Farmer",
      "photoUrl": "https://lh3.googleusercontent.com/a-/AAuE7mBQV7Qdvdj1mGfT6Tz8iUEujdc5wG0WLqDLxLUa=s64",
      "userId": "11552055502296079448"
     },
     "user_tz": -420
    },
    "id": "FUaEB-Ixkn32",
    "outputId": "1ca4d6fc-4beb-43e5-c006-57c5c9597329"
   },
   "outputs": [
    {
     "name": "stdout",
     "output_type": "stream",
     "text": [
      "Nhap vao chuoi de dem tu: Hom qua qua noi qua, ma qua khong qua. Bua nay qua cung noi the\n",
      "['Hom', 'qua', 'qua', 'noi', 'qua', 'ma', 'qua', 'khong', 'qua', 'Bua', 'nay', 'qua', 'cung', 'noi', 'the']\n",
      "Tu  nay  xuat hien  1  lan\n",
      "Tu  Hom  xuat hien  1  lan\n",
      "Tu  the  xuat hien  1  lan\n",
      "Tu  Bua  xuat hien  1  lan\n",
      "Tu  cung  xuat hien  1  lan\n",
      "Tu  khong  xuat hien  1  lan\n",
      "Tu  qua  xuat hien  6  lan\n",
      "Tu  noi  xuat hien  2  lan\n",
      "Tu  ma  xuat hien  1  lan\n"
     ]
    }
   ],
   "source": [
    "string = input(\"Nhap vao chuoi de dem tu: \")\n",
    "special_char = \"!,.\"\n",
    "for char in special_char:\n",
    "  string = string.replace(char,\"\")\n",
    "list_string = string.split()\n",
    "print(list_string)\n",
    "set_word = set(list_string)\n",
    "dict_word = {}\n",
    "for i in set_word:\n",
    "  dict_word.update({i:list_string.count(i)})\n",
    "for key, value in dict_word.items():\n",
    "  print('Tu ',key,' xuat hien ',value,' lan')"
   ]
  },
  {
   "cell_type": "code",
   "execution_count": null,
   "metadata": {
    "colab": {
     "base_uri": "https://localhost:8080/",
     "height": 53
    },
    "colab_type": "code",
    "executionInfo": {
     "elapsed": 5226,
     "status": "ok",
     "timestamp": 1568559233173,
     "user": {
      "displayName": "Data Farmer",
      "photoUrl": "https://lh3.googleusercontent.com/a-/AAuE7mBQV7Qdvdj1mGfT6Tz8iUEujdc5wG0WLqDLxLUa=s64",
      "userId": "11552055502296079448"
     },
     "user_tz": -420
    },
    "id": "sbdc2cHok1O1",
    "outputId": "c81557dd-a724-4889-e119-b8b5888e08bd"
   },
   "outputs": [
    {
     "name": "stdout",
     "output_type": "stream",
     "text": [
      "Nhập vào câu bất kỳ: Hom qua qua noi qua, ma qua khong qua. Bua nay qua cung noi the\n",
      "Số lần từng chữ xuất hiện trong câu:  Counter({'qua': 4, 'noi': 2, 'Hom': 1, 'qua,': 1, 'ma': 1, 'khong': 1, 'qua.': 1, 'Bua': 1, 'nay': 1, 'cung': 1, 'the': 1})\n"
     ]
    }
   ],
   "source": [
    "from collections import Counter\n",
    "import re\n",
    "reg=re.compile('\\S{2,}')\n",
    "string=input(\"Nhập vào câu bất kỳ: \")\n",
    "x=Counter(ma.group() for ma in reg.finditer(string))\n",
    "print(\"Số lần từng chữ xuất hiện trong câu: \",x)"
   ]
  },
  {
   "cell_type": "code",
   "execution_count": 3,
   "metadata": {
    "colab": {
     "base_uri": "https://localhost:8080/",
     "height": 308
    },
    "colab_type": "code",
    "executionInfo": {
     "elapsed": 15983,
     "status": "ok",
     "timestamp": 1568594514209,
     "user": {
      "displayName": "Data Farmer",
      "photoUrl": "https://lh3.googleusercontent.com/a-/AAuE7mBQV7Qdvdj1mGfT6Tz8iUEujdc5wG0WLqDLxLUa=s64",
      "userId": "11552055502296079448"
     },
     "user_tz": -420
    },
    "id": "f4HtLsmkagxy",
    "outputId": "33214fcf-5336-4b11-fab8-49f09d370bd6"
   },
   "outputs": [
    {
     "name": "stdout",
     "output_type": "stream",
     "text": [
      "Enter a string: Hom qua qua noi qua ma qua khong qua. Hom nay qua cung noi the\n",
      "Hom : 2\n",
      "qua : 5\n",
      "qua : 5\n",
      "noi : 2\n",
      "qua : 5\n",
      "ma : 1\n",
      "qua : 5\n",
      "khong : 1\n",
      "qua. : 1\n",
      "Hom : 2\n",
      "nay : 1\n",
      "qua : 5\n",
      "cung : 1\n",
      "noi : 2\n",
      "the : 1\n"
     ]
    }
   ],
   "source": [
    "str = input(\"Enter a string: \")\n",
    "words = str.split()\n",
    "counts = dict()\n",
    "#Strip \",\"\n",
    "i=0\n",
    "while i < len(words):\n",
    "    words[i] = words[i].strip(\",\")\n",
    "    i+=1\n",
    "#Add word to dic or count new occurences\n",
    "for word in words:\n",
    "    if word in counts:\n",
    "        counts[word] += 1\n",
    "    else:\n",
    "        counts.update({word:1})\n",
    "#Print\n",
    "for word in words:\n",
    "    print(word, \":\", counts[word]) \n"
   ]
  },
  {
   "cell_type": "code",
   "execution_count": 4,
   "metadata": {
    "colab": {
     "base_uri": "https://localhost:8080/",
     "height": 181
    },
    "colab_type": "code",
    "executionInfo": {
     "elapsed": 662,
     "status": "ok",
     "timestamp": 1568594564462,
     "user": {
      "displayName": "Data Farmer",
      "photoUrl": "https://lh3.googleusercontent.com/a-/AAuE7mBQV7Qdvdj1mGfT6Tz8iUEujdc5wG0WLqDLxLUa=s64",
      "userId": "11552055502296079448"
     },
     "user_tz": -420
    },
    "id": "wmNXKiQ9gD3m",
    "outputId": "2140ce3b-157e-422a-bd1a-29f93704a2cb"
   },
   "outputs": [
    {
     "data": {
      "text/plain": [
       "{'Hom': 2,\n",
       " 'cung': 1,\n",
       " 'khong': 1,\n",
       " 'ma': 1,\n",
       " 'nay': 1,\n",
       " 'noi': 2,\n",
       " 'qua': 5,\n",
       " 'qua.': 1,\n",
       " 'the': 1}"
      ]
     },
     "execution_count": 4,
     "metadata": {
      "tags": []
     },
     "output_type": "execute_result"
    }
   ],
   "source": [
    "counts"
   ]
  },
  {
   "cell_type": "code",
   "execution_count": null,
   "metadata": {
    "colab": {},
    "colab_type": "code",
    "id": "IZ8j2hX2hZKA"
   },
   "outputs": [],
   "source": []
  }
 ],
 "metadata": {
  "colab": {
   "collapsed_sections": [],
   "name": "Wordcount.ipynb",
   "provenance": [],
   "version": "0.3.2"
  },
  "kernelspec": {
   "display_name": "Python 3",
   "language": "python",
   "name": "python3"
  },
  "language_info": {
   "codemirror_mode": {
    "name": "ipython",
    "version": 3
   },
   "file_extension": ".py",
   "mimetype": "text/x-python",
   "name": "python",
   "nbconvert_exporter": "python",
   "pygments_lexer": "ipython3",
   "version": "3.7.1"
  }
 },
 "nbformat": 4,
 "nbformat_minor": 4
}
